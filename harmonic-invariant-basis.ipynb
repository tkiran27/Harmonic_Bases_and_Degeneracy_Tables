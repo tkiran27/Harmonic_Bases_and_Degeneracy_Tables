{
 "cells": [
  {
   "cell_type": "code",
   "execution_count": 1,
   "id": "9f5d2b2d",
   "metadata": {
    "_cell_guid": "b1076dfc-b9ad-4769-8c92-a6c4dae69d19",
    "_uuid": "8f2839f25d086af736a60e9eeb907d3b93b6e0e5",
    "execution": {
     "iopub.execute_input": "2025-06-10T15:05:01.872387Z",
     "iopub.status.busy": "2025-06-10T15:05:01.872061Z",
     "iopub.status.idle": "2025-06-10T15:05:04.863643Z",
     "shell.execute_reply": "2025-06-10T15:05:04.862674Z"
    },
    "papermill": {
     "duration": 2.998981,
     "end_time": "2025-06-10T15:05:04.865685",
     "exception": false,
     "start_time": "2025-06-10T15:05:01.866704",
     "status": "completed"
    },
    "tags": []
   },
   "outputs": [],
   "source": [
    "# This Python 3 environment comes with many helpful analytics libraries installed\n",
    "# It is defined by the kaggle/python Docker image: https://github.com/kaggle/docker-python\n",
    "# For example, here's several helpful packages to load\n",
    "\n",
    "import numpy as np # linear algebra\n",
    "import itertools as it\n",
    "import sympy as sp \n",
    "from sympy import symbols, Function, diff, conjugate, FiniteSet, simplify, Poly\n",
    "from sympy import *\n",
    "from sympy.utilities.iterables import partitions"
   ]
  },
  {
   "cell_type": "markdown",
   "id": "7e40081f",
   "metadata": {
    "papermill": {
     "duration": 0.002826,
     "end_time": "2025-06-10T15:05:04.872117",
     "exception": false,
     "start_time": "2025-06-10T15:05:04.869291",
     "status": "completed"
    },
    "tags": []
   },
   "source": [
    "$n$ = dimension ($\\mathbb{R}^n$ or $\\mathbb{C}^n$) \\\n",
    "$k$ = real degree \\\n",
    "$(p,q)$ = complex bidegree"
   ]
  },
  {
   "cell_type": "code",
   "execution_count": 2,
   "id": "f0433deb",
   "metadata": {
    "execution": {
     "iopub.execute_input": "2025-06-10T15:05:04.879570Z",
     "iopub.status.busy": "2025-06-10T15:05:04.879194Z",
     "iopub.status.idle": "2025-06-10T15:05:05.063264Z",
     "shell.execute_reply": "2025-06-10T15:05:05.062396Z"
    },
    "papermill": {
     "duration": 0.189926,
     "end_time": "2025-06-10T15:05:05.065167",
     "exception": false,
     "start_time": "2025-06-10T15:05:04.875241",
     "status": "completed"
    },
    "tags": []
   },
   "outputs": [],
   "source": [
    "n = 3\n",
    "k = 4\n",
    "p = 2\n",
    "q = 1\n",
    "f = symbols('f', cls = Function)\n",
    "x,y,z = symbols('x y z')\n",
    "zs = symbols(f'z1:{n+1}', complex=True)\n",
    "zbar = symbols(f'zbar1:{n+1}', complex=True)\n",
    "\n",
    "# Newton potential (R^n)\n",
    "mag_real = 0\n",
    "for i in range(n):\n",
    "    mag_real += zs[i]**2 ## Euclidean norm squared\n",
    "np_real = sp.sqrt(mag_real)**(2-n)\n",
    "\n",
    "# Newton potential (C^n)\n",
    "mag_complex = 0\n",
    "for i in range(n):\n",
    "    mag_complex += zs[i]*zbar[i] ## Complex modulus squared\n",
    "np_complex = sp.sqrt(mag_complex)**(2-2*n)"
   ]
  },
  {
   "cell_type": "code",
   "execution_count": 3,
   "id": "a2833d15",
   "metadata": {
    "execution": {
     "iopub.execute_input": "2025-06-10T15:05:05.075766Z",
     "iopub.status.busy": "2025-06-10T15:05:05.075333Z",
     "iopub.status.idle": "2025-06-10T15:05:05.082902Z",
     "shell.execute_reply": "2025-06-10T15:05:05.082150Z"
    },
    "papermill": {
     "duration": 0.015246,
     "end_time": "2025-06-10T15:05:05.084356",
     "exception": false,
     "start_time": "2025-06-10T15:05:05.069110",
     "status": "completed"
    },
    "tags": []
   },
   "outputs": [
    {
     "data": {
      "text/plain": [
       "(z1, z2, z3)"
      ]
     },
     "execution_count": 3,
     "metadata": {},
     "output_type": "execute_result"
    }
   ],
   "source": [
    "zs"
   ]
  },
  {
   "cell_type": "code",
   "execution_count": 4,
   "id": "7522e1e5",
   "metadata": {
    "execution": {
     "iopub.execute_input": "2025-06-10T15:05:05.092373Z",
     "iopub.status.busy": "2025-06-10T15:05:05.091548Z",
     "iopub.status.idle": "2025-06-10T15:05:05.097362Z",
     "shell.execute_reply": "2025-06-10T15:05:05.096537Z"
    },
    "papermill": {
     "duration": 0.011278,
     "end_time": "2025-06-10T15:05:05.098783",
     "exception": false,
     "start_time": "2025-06-10T15:05:05.087505",
     "status": "completed"
    },
    "tags": []
   },
   "outputs": [
    {
     "data": {
      "text/plain": [
       "(zbar1, zbar2, zbar3)"
      ]
     },
     "execution_count": 4,
     "metadata": {},
     "output_type": "execute_result"
    }
   ],
   "source": [
    "zbar"
   ]
  },
  {
   "cell_type": "code",
   "execution_count": 5,
   "id": "f0fe1a6e",
   "metadata": {
    "execution": {
     "iopub.execute_input": "2025-06-10T15:05:05.106436Z",
     "iopub.status.busy": "2025-06-10T15:05:05.106123Z",
     "iopub.status.idle": "2025-06-10T15:05:05.113363Z",
     "shell.execute_reply": "2025-06-10T15:05:05.112580Z"
    },
    "papermill": {
     "duration": 0.012719,
     "end_time": "2025-06-10T15:05:05.114843",
     "exception": false,
     "start_time": "2025-06-10T15:05:05.102124",
     "status": "completed"
    },
    "tags": []
   },
   "outputs": [
    {
     "data": {
      "text/latex": [
       "$\\displaystyle \\frac{1}{\\sqrt{z_{1}^{2} + z_{2}^{2} + z_{3}^{2}}}$"
      ],
      "text/plain": [
       "1/sqrt(z1**2 + z2**2 + z3**2)"
      ]
     },
     "execution_count": 5,
     "metadata": {},
     "output_type": "execute_result"
    }
   ],
   "source": [
    "np_real"
   ]
  },
  {
   "cell_type": "code",
   "execution_count": 6,
   "id": "8e4d90d3",
   "metadata": {
    "execution": {
     "iopub.execute_input": "2025-06-10T15:05:05.122709Z",
     "iopub.status.busy": "2025-06-10T15:05:05.122367Z",
     "iopub.status.idle": "2025-06-10T15:05:05.130666Z",
     "shell.execute_reply": "2025-06-10T15:05:05.129674Z"
    },
    "papermill": {
     "duration": 0.014027,
     "end_time": "2025-06-10T15:05:05.132358",
     "exception": false,
     "start_time": "2025-06-10T15:05:05.118331",
     "status": "completed"
    },
    "tags": []
   },
   "outputs": [
    {
     "data": {
      "text/latex": [
       "$\\displaystyle \\frac{1}{\\left(z_{1} \\bar{z}_{1} + z_{2} \\bar{z}_{2} + z_{3} \\bar{z}_{3}\\right)^{2}}$"
      ],
      "text/plain": [
       "(z1*zbar1 + z2*zbar2 + z3*zbar3)**(-2)"
      ]
     },
     "execution_count": 6,
     "metadata": {},
     "output_type": "execute_result"
    }
   ],
   "source": [
    "np_complex"
   ]
  },
  {
   "cell_type": "code",
   "execution_count": 7,
   "id": "25ec182e",
   "metadata": {
    "execution": {
     "iopub.execute_input": "2025-06-10T15:05:05.143692Z",
     "iopub.status.busy": "2025-06-10T15:05:05.143097Z",
     "iopub.status.idle": "2025-06-10T15:05:05.149915Z",
     "shell.execute_reply": "2025-06-10T15:05:05.149030Z"
    },
    "papermill": {
     "duration": 0.015105,
     "end_time": "2025-06-10T15:05:05.151914",
     "exception": false,
     "start_time": "2025-06-10T15:05:05.136809",
     "status": "completed"
    },
    "tags": []
   },
   "outputs": [],
   "source": [
    "# Multi index differentiation\n",
    "def D(f,alpha,zs):\n",
    "    df = f\n",
    "    for i in range(n):\n",
    "        df = diff(df,(zs[i],alpha[i]))\n",
    "    return df"
   ]
  },
  {
   "cell_type": "code",
   "execution_count": 8,
   "id": "9b255442",
   "metadata": {
    "execution": {
     "iopub.execute_input": "2025-06-10T15:05:05.162112Z",
     "iopub.status.busy": "2025-06-10T15:05:05.161067Z",
     "iopub.status.idle": "2025-06-10T15:05:05.165761Z",
     "shell.execute_reply": "2025-06-10T15:05:05.164846Z"
    },
    "papermill": {
     "duration": 0.011365,
     "end_time": "2025-06-10T15:05:05.167912",
     "exception": false,
     "start_time": "2025-06-10T15:05:05.156547",
     "status": "completed"
    },
    "tags": []
   },
   "outputs": [],
   "source": [
    "# def D_bar(f,alpha):\n",
    "#     df = f\n",
    "#     for i in range(n):\n",
    "#         df = diff(df,(bar(z[i]),alpha[i]))\n",
    "#     return df"
   ]
  },
  {
   "cell_type": "code",
   "execution_count": 9,
   "id": "a1b1059a",
   "metadata": {
    "execution": {
     "iopub.execute_input": "2025-06-10T15:05:05.181408Z",
     "iopub.status.busy": "2025-06-10T15:05:05.181011Z",
     "iopub.status.idle": "2025-06-10T15:05:05.187525Z",
     "shell.execute_reply": "2025-06-10T15:05:05.186497Z"
    },
    "papermill": {
     "duration": 0.015185,
     "end_time": "2025-06-10T15:05:05.189427",
     "exception": false,
     "start_time": "2025-06-10T15:05:05.174242",
     "status": "completed"
    },
    "tags": []
   },
   "outputs": [],
   "source": [
    "# Returns valid n-tuples\n",
    "# https://www.geeksforgeeks.org/python-program-to-convert-dictionary-to-list-by-repeating-keys-corresponding-value-times/\n",
    "\n",
    "def get_alpha_beta(deg):\n",
    "    alphas = FiniteSet()\n",
    "    for part in partitions(deg, m=n):\n",
    "        part = list(it.chain.from_iterable(it.repeat(k, v) for k, v in part.items()))\n",
    "        while len(part) < n:\n",
    "            part.append(0)\n",
    "        for perm in it.permutations(part):\n",
    "            alphas += FiniteSet(perm)\n",
    "    return alphas"
   ]
  },
  {
   "cell_type": "code",
   "execution_count": 10,
   "id": "bb0c071e",
   "metadata": {
    "execution": {
     "iopub.execute_input": "2025-06-10T15:05:05.200852Z",
     "iopub.status.busy": "2025-06-10T15:05:05.200390Z",
     "iopub.status.idle": "2025-06-10T15:05:05.206676Z",
     "shell.execute_reply": "2025-06-10T15:05:05.205682Z"
    },
    "papermill": {
     "duration": 0.012932,
     "end_time": "2025-06-10T15:05:05.208458",
     "exception": false,
     "start_time": "2025-06-10T15:05:05.195526",
     "status": "completed"
    },
    "tags": []
   },
   "outputs": [],
   "source": [
    "def make_polynomial(f, mag):\n",
    "    f = sp.numer(f).subs(mag, x)\n",
    "    while f.is_polynomial(zs,zbar,x) == False:\n",
    "        f = simplify(f * x)\n",
    "        f = sp.numer(f).subs(mag, x)\n",
    "    return factor(f.subs(x,abs(z)**2))"
   ]
  },
  {
   "cell_type": "code",
   "execution_count": 11,
   "id": "b3436363",
   "metadata": {
    "execution": {
     "iopub.execute_input": "2025-06-10T15:05:05.219010Z",
     "iopub.status.busy": "2025-06-10T15:05:05.218710Z",
     "iopub.status.idle": "2025-06-10T15:05:05.226092Z",
     "shell.execute_reply": "2025-06-10T15:05:05.224901Z"
    },
    "papermill": {
     "duration": 0.014982,
     "end_time": "2025-06-10T15:05:05.228485",
     "exception": false,
     "start_time": "2025-06-10T15:05:05.213503",
     "status": "completed"
    },
    "tags": []
   },
   "outputs": [],
   "source": [
    "# Finding basis for H_k\n",
    "def real_basis():\n",
    "    basis = FiniteSet()\n",
    "    alphas = get_alpha_beta(k)\n",
    "    for a in alphas:\n",
    "        if a[0] > 1:\n",
    "            alphas -= FiniteSet(a)\n",
    "    print(f'Dimension = {len(alphas)}')\n",
    "    for a in alphas:\n",
    "        d = D(np_real, a, zs)\n",
    "        d = make_polynomial(d, mag_real)\n",
    "        print(d, '\\n')\n",
    "        basis += FiniteSet(d)\n",
    "    return basis"
   ]
  },
  {
   "cell_type": "code",
   "execution_count": 12,
   "id": "03520eaf",
   "metadata": {
    "execution": {
     "iopub.execute_input": "2025-06-10T15:05:05.237110Z",
     "iopub.status.busy": "2025-06-10T15:05:05.236824Z",
     "iopub.status.idle": "2025-06-10T15:05:05.241108Z",
     "shell.execute_reply": "2025-06-10T15:05:05.240279Z"
    },
    "papermill": {
     "duration": 0.010456,
     "end_time": "2025-06-10T15:05:05.242552",
     "exception": false,
     "start_time": "2025-06-10T15:05:05.232096",
     "status": "completed"
    },
    "tags": []
   },
   "outputs": [],
   "source": [
    "# Finding basis for H_p,q\n",
    "def complex_basis():\n",
    "    basis = FiniteSet()\n",
    "    "
   ]
  },
  {
   "cell_type": "code",
   "execution_count": 13,
   "id": "ada677cf",
   "metadata": {
    "execution": {
     "iopub.execute_input": "2025-06-10T15:05:05.250668Z",
     "iopub.status.busy": "2025-06-10T15:05:05.250346Z",
     "iopub.status.idle": "2025-06-10T15:05:06.088239Z",
     "shell.execute_reply": "2025-06-10T15:05:06.087240Z"
    },
    "papermill": {
     "duration": 0.843575,
     "end_time": "2025-06-10T15:05:06.089720",
     "exception": false,
     "start_time": "2025-06-10T15:05:05.246145",
     "status": "completed"
    },
    "tags": []
   },
   "outputs": [
    {
     "name": "stdout",
     "output_type": "stream",
     "text": [
      "Dimension = 9\n",
      "3*(35*z3**4 - 30*z3**2*Abs(z)**2 + 3*Abs(z)**4) \n",
      "\n",
      "15*z2*z3*(7*z3**2 - 3*Abs(z)**2) \n",
      "\n",
      "3*(35*z2**2*z3**2 - 5*z2**2*Abs(z)**2 - 5*z3**2*Abs(z)**2 + Abs(z)**4) \n",
      "\n",
      "15*z2*z3*(7*z2**2 - 3*Abs(z)**2) \n",
      "\n",
      "3*(35*z2**4 - 30*z2**2*Abs(z)**2 + 3*Abs(z)**4) \n",
      "\n",
      "15*z1*z3*(7*z3**2 - 3*Abs(z)**2) \n",
      "\n",
      "15*z1*z2*(7*z3**2 - Abs(z)**2) \n",
      "\n",
      "15*z1*z3*(7*z2**2 - Abs(z)**2) \n",
      "\n",
      "15*z1*z2*(7*z2**2 - 3*Abs(z)**2) \n",
      "\n"
     ]
    },
    {
     "data": {
      "text/latex": [
       "$\\displaystyle \\left\\{15 z_{1} z_{2} \\left(7 z_{2}^{2} - 3 \\left|{z}\\right|^{2}\\right), 15 z_{1} z_{2} \\left(7 z_{3}^{2} - \\left|{z}\\right|^{2}\\right), 15 z_{1} z_{3} \\left(7 z_{2}^{2} - \\left|{z}\\right|^{2}\\right), 15 z_{1} z_{3} \\left(7 z_{3}^{2} - 3 \\left|{z}\\right|^{2}\\right), 15 z_{2} z_{3} \\left(7 z_{2}^{2} - 3 \\left|{z}\\right|^{2}\\right), 15 z_{2} z_{3} \\left(7 z_{3}^{2} - 3 \\left|{z}\\right|^{2}\\right), 3 \\left(35 z_{2}^{4} - 30 z_{2}^{2} \\left|{z}\\right|^{2} + 3 \\left|{z}\\right|^{4}\\right), 3 \\left(35 z_{3}^{4} - 30 z_{3}^{2} \\left|{z}\\right|^{2} + 3 \\left|{z}\\right|^{4}\\right), 3 \\left(35 z_{2}^{2} z_{3}^{2} - 5 z_{2}^{2} \\left|{z}\\right|^{2} - 5 z_{3}^{2} \\left|{z}\\right|^{2} + \\left|{z}\\right|^{4}\\right)\\right\\}$"
      ],
      "text/plain": [
       "{15*z1*z2*(7*z2**2 - 3*Abs(z)**2), 15*z1*z2*(7*z3**2 - Abs(z)**2), 15*z1*z3*(7*z2**2 - Abs(z)**2), 15*z1*z3*(7*z3**2 - 3*Abs(z)**2), 15*z2*z3*(7*z2**2 - 3*Abs(z)**2), 15*z2*z3*(7*z3**2 - 3*Abs(z)**2), 3*(35*z2**4 - 30*z2**2*Abs(z)**2 + 3*Abs(z)**4), 3*(35*z3**4 - 30*z3**2*Abs(z)**2 + 3*Abs(z)**4), 3*(35*z2**2*z3**2 - 5*z2**2*Abs(z)**2 - 5*z3**2*Abs(z)**2 + Abs(z)**4)}"
      ]
     },
     "execution_count": 13,
     "metadata": {},
     "output_type": "execute_result"
    }
   ],
   "source": [
    "basis = real_basis()\n",
    "basis"
   ]
  }
 ],
 "metadata": {
  "kaggle": {
   "accelerator": "none",
   "dataSources": [],
   "dockerImageVersionId": 31040,
   "isGpuEnabled": false,
   "isInternetEnabled": false,
   "language": "python",
   "sourceType": "notebook"
  },
  "kernelspec": {
   "display_name": "Python 3",
   "language": "python",
   "name": "python3"
  },
  "language_info": {
   "codemirror_mode": {
    "name": "ipython",
    "version": 3
   },
   "file_extension": ".py",
   "mimetype": "text/x-python",
   "name": "python",
   "nbconvert_exporter": "python",
   "pygments_lexer": "ipython3",
   "version": "3.11.11"
  },
  "papermill": {
   "default_parameters": {},
   "duration": 9.838434,
   "end_time": "2025-06-10T15:05:06.714750",
   "environment_variables": {},
   "exception": null,
   "input_path": "__notebook__.ipynb",
   "output_path": "__notebook__.ipynb",
   "parameters": {},
   "start_time": "2025-06-10T15:04:56.876316",
   "version": "2.6.0"
  }
 },
 "nbformat": 4,
 "nbformat_minor": 5
}
