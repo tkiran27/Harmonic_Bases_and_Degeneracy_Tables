{
 "cells": [
  {
   "cell_type": "code",
   "execution_count": 1,
   "id": "40ac8e85",
   "metadata": {
    "_cell_guid": "b1076dfc-b9ad-4769-8c92-a6c4dae69d19",
    "_uuid": "8f2839f25d086af736a60e9eeb907d3b93b6e0e5",
    "execution": {
     "iopub.execute_input": "2025-06-10T14:28:58.719568Z",
     "iopub.status.busy": "2025-06-10T14:28:58.719224Z",
     "iopub.status.idle": "2025-06-10T14:29:02.156132Z",
     "shell.execute_reply": "2025-06-10T14:29:02.154884Z"
    },
    "papermill": {
     "duration": 3.444193,
     "end_time": "2025-06-10T14:29:02.158712",
     "exception": false,
     "start_time": "2025-06-10T14:28:58.714519",
     "status": "completed"
    },
    "tags": []
   },
   "outputs": [],
   "source": [
    "# This Python 3 environment comes with many helpful analytics libraries installed\n",
    "# It is defined by the kaggle/python Docker image: https://github.com/kaggle/docker-python\n",
    "# For example, here's several helpful packages to load\n",
    "\n",
    "import numpy as np # linear algebra\n",
    "import itertools as it\n",
    "import sympy as sp \n",
    "from sympy import symbols, Function, diff, conjugate, FiniteSet, simplify, Poly\n",
    "from sympy import *\n",
    "from sympy.combinatorics.partitions import random_integer_partition\n",
    "from sympy.utilities.iterables import ordered_partitions, partitions"
   ]
  },
  {
   "cell_type": "markdown",
   "id": "39c928fe",
   "metadata": {
    "papermill": {
     "duration": 0.002816,
     "end_time": "2025-06-10T14:29:02.165822",
     "exception": false,
     "start_time": "2025-06-10T14:29:02.163006",
     "status": "completed"
    },
    "tags": []
   },
   "source": [
    "$n$ = dimension ($\\mathbb{R}^n$ or $\\mathbb{C}^n$) \\\n",
    "$k$ = real degree \\\n",
    "$(p,q)$ = complex bidegree"
   ]
  },
  {
   "cell_type": "code",
   "execution_count": 2,
   "id": "76910376",
   "metadata": {
    "execution": {
     "iopub.execute_input": "2025-06-10T14:29:02.173617Z",
     "iopub.status.busy": "2025-06-10T14:29:02.173183Z",
     "iopub.status.idle": "2025-06-10T14:29:02.234797Z",
     "shell.execute_reply": "2025-06-10T14:29:02.233859Z"
    },
    "papermill": {
     "duration": 0.067279,
     "end_time": "2025-06-10T14:29:02.236521",
     "exception": false,
     "start_time": "2025-06-10T14:29:02.169242",
     "status": "completed"
    },
    "tags": []
   },
   "outputs": [],
   "source": [
    "n = 3\n",
    "k = 4\n",
    "p = 2\n",
    "q = 1\n",
    "f = symbols('f', cls = Function)\n",
    "x,y,z = symbols('x y z')\n",
    "zs = symbols(f'z1:{n+1}', complex=True)\n",
    "zbar = symbols(f'zbar1:{n+1}', complex=True)\n",
    "\n",
    "# Newton potential (R^n)\n",
    "mag_real = 0\n",
    "for i in range(n):\n",
    "    mag_real += zs[i]**2 ## Euclidean norm squared\n",
    "np_real = sp.sqrt(mag_real)**(2-n)\n",
    "\n",
    "# Newton potential (C^n)\n",
    "mag_complex = 0\n",
    "for i in range(n):\n",
    "    mag_complex += zs[i]*zbar[i] ## Complex modulus squared\n",
    "np_complex = sp.sqrt(mag_complex)**(2-2*n)"
   ]
  },
  {
   "cell_type": "code",
   "execution_count": 3,
   "id": "6630314e",
   "metadata": {
    "execution": {
     "iopub.execute_input": "2025-06-10T14:29:02.243965Z",
     "iopub.status.busy": "2025-06-10T14:29:02.243623Z",
     "iopub.status.idle": "2025-06-10T14:29:02.250214Z",
     "shell.execute_reply": "2025-06-10T14:29:02.249282Z"
    },
    "papermill": {
     "duration": 0.012347,
     "end_time": "2025-06-10T14:29:02.251958",
     "exception": false,
     "start_time": "2025-06-10T14:29:02.239611",
     "status": "completed"
    },
    "tags": []
   },
   "outputs": [
    {
     "data": {
      "text/plain": [
       "(z1, z2, z3)"
      ]
     },
     "execution_count": 3,
     "metadata": {},
     "output_type": "execute_result"
    }
   ],
   "source": [
    "zs"
   ]
  },
  {
   "cell_type": "code",
   "execution_count": 4,
   "id": "b0f7439f",
   "metadata": {
    "execution": {
     "iopub.execute_input": "2025-06-10T14:29:02.259541Z",
     "iopub.status.busy": "2025-06-10T14:29:02.259187Z",
     "iopub.status.idle": "2025-06-10T14:29:02.265449Z",
     "shell.execute_reply": "2025-06-10T14:29:02.264513Z"
    },
    "papermill": {
     "duration": 0.01207,
     "end_time": "2025-06-10T14:29:02.267188",
     "exception": false,
     "start_time": "2025-06-10T14:29:02.255118",
     "status": "completed"
    },
    "tags": []
   },
   "outputs": [
    {
     "data": {
      "text/plain": [
       "(zbar1, zbar2, zbar3)"
      ]
     },
     "execution_count": 4,
     "metadata": {},
     "output_type": "execute_result"
    }
   ],
   "source": [
    "zbar"
   ]
  },
  {
   "cell_type": "code",
   "execution_count": 5,
   "id": "5a0b3840",
   "metadata": {
    "execution": {
     "iopub.execute_input": "2025-06-10T14:29:02.274713Z",
     "iopub.status.busy": "2025-06-10T14:29:02.274364Z",
     "iopub.status.idle": "2025-06-10T14:29:02.282350Z",
     "shell.execute_reply": "2025-06-10T14:29:02.281337Z"
    },
    "papermill": {
     "duration": 0.013547,
     "end_time": "2025-06-10T14:29:02.283953",
     "exception": false,
     "start_time": "2025-06-10T14:29:02.270406",
     "status": "completed"
    },
    "tags": []
   },
   "outputs": [
    {
     "data": {
      "text/latex": [
       "$\\displaystyle \\frac{1}{\\sqrt{z_{1}^{2} + z_{2}^{2} + z_{3}^{2}}}$"
      ],
      "text/plain": [
       "1/sqrt(z1**2 + z2**2 + z3**2)"
      ]
     },
     "execution_count": 5,
     "metadata": {},
     "output_type": "execute_result"
    }
   ],
   "source": [
    "np_real"
   ]
  },
  {
   "cell_type": "code",
   "execution_count": 6,
   "id": "cf64a0ea",
   "metadata": {
    "execution": {
     "iopub.execute_input": "2025-06-10T14:29:02.292056Z",
     "iopub.status.busy": "2025-06-10T14:29:02.291606Z",
     "iopub.status.idle": "2025-06-10T14:29:02.300219Z",
     "shell.execute_reply": "2025-06-10T14:29:02.299190Z"
    },
    "papermill": {
     "duration": 0.01448,
     "end_time": "2025-06-10T14:29:02.301957",
     "exception": false,
     "start_time": "2025-06-10T14:29:02.287477",
     "status": "completed"
    },
    "tags": []
   },
   "outputs": [
    {
     "data": {
      "text/latex": [
       "$\\displaystyle \\frac{1}{\\left(z_{1} \\bar{z}_{1} + z_{2} \\bar{z}_{2} + z_{3} \\bar{z}_{3}\\right)^{2}}$"
      ],
      "text/plain": [
       "(z1*zbar1 + z2*zbar2 + z3*zbar3)**(-2)"
      ]
     },
     "execution_count": 6,
     "metadata": {},
     "output_type": "execute_result"
    }
   ],
   "source": [
    "np_complex"
   ]
  },
  {
   "cell_type": "code",
   "execution_count": 7,
   "id": "2066e9da",
   "metadata": {
    "execution": {
     "iopub.execute_input": "2025-06-10T14:29:02.310590Z",
     "iopub.status.busy": "2025-06-10T14:29:02.310251Z",
     "iopub.status.idle": "2025-06-10T14:29:02.315492Z",
     "shell.execute_reply": "2025-06-10T14:29:02.314472Z"
    },
    "papermill": {
     "duration": 0.011706,
     "end_time": "2025-06-10T14:29:02.317173",
     "exception": false,
     "start_time": "2025-06-10T14:29:02.305467",
     "status": "completed"
    },
    "tags": []
   },
   "outputs": [],
   "source": [
    "# Multi index differentiation\n",
    "def D(f,alpha,zs):\n",
    "    df = f\n",
    "    for i in range(n):\n",
    "        df = diff(df,(zs[i],alpha[i]))\n",
    "    return df"
   ]
  },
  {
   "cell_type": "code",
   "execution_count": 8,
   "id": "05e20fd0",
   "metadata": {
    "execution": {
     "iopub.execute_input": "2025-06-10T14:29:02.325332Z",
     "iopub.status.busy": "2025-06-10T14:29:02.325015Z",
     "iopub.status.idle": "2025-06-10T14:29:02.329289Z",
     "shell.execute_reply": "2025-06-10T14:29:02.328319Z"
    },
    "papermill": {
     "duration": 0.010564,
     "end_time": "2025-06-10T14:29:02.331073",
     "exception": false,
     "start_time": "2025-06-10T14:29:02.320509",
     "status": "completed"
    },
    "tags": []
   },
   "outputs": [],
   "source": [
    "# def D_bar(f,alpha):\n",
    "#     df = f\n",
    "#     for i in range(n):\n",
    "#         df = diff(df,(bar(z[i]),alpha[i]))\n",
    "#     return df"
   ]
  },
  {
   "cell_type": "code",
   "execution_count": 9,
   "id": "c34b89f1",
   "metadata": {
    "execution": {
     "iopub.execute_input": "2025-06-10T14:29:02.338920Z",
     "iopub.status.busy": "2025-06-10T14:29:02.338596Z",
     "iopub.status.idle": "2025-06-10T14:29:02.344636Z",
     "shell.execute_reply": "2025-06-10T14:29:02.343475Z"
    },
    "papermill": {
     "duration": 0.012002,
     "end_time": "2025-06-10T14:29:02.346352",
     "exception": false,
     "start_time": "2025-06-10T14:29:02.334350",
     "status": "completed"
    },
    "tags": []
   },
   "outputs": [],
   "source": [
    "# Returns valid n-tuples\n",
    "# https://www.geeksforgeeks.org/python-program-to-convert-dictionary-to-list-by-repeating-keys-corresponding-value-times/\n",
    "\n",
    "def get_alphas(first):\n",
    "    alphas = FiniteSet()\n",
    "    for part in partitions(k, m=n):\n",
    "        part = list(it.chain.from_iterable(it.repeat(k, v) for k, v in part.items()))\n",
    "        while len(part) < n:\n",
    "            part.append(0)\n",
    "        for perm in it.permutations(part):\n",
    "            if perm[0] <= first:\n",
    "                alphas += FiniteSet(perm)\n",
    "    return alphas"
   ]
  },
  {
   "cell_type": "code",
   "execution_count": 10,
   "id": "0805a21f",
   "metadata": {
    "execution": {
     "iopub.execute_input": "2025-06-10T14:29:02.355635Z",
     "iopub.status.busy": "2025-06-10T14:29:02.354444Z",
     "iopub.status.idle": "2025-06-10T14:29:02.361025Z",
     "shell.execute_reply": "2025-06-10T14:29:02.359516Z"
    },
    "papermill": {
     "duration": 0.012901,
     "end_time": "2025-06-10T14:29:02.362629",
     "exception": false,
     "start_time": "2025-06-10T14:29:02.349728",
     "status": "completed"
    },
    "tags": []
   },
   "outputs": [],
   "source": [
    "def make_polynomial(f, mag):\n",
    "    f = sp.numer(f).subs(mag, x)\n",
    "    while f.is_polynomial(zs,zbar,x) == False:\n",
    "        f = simplify(f * x)\n",
    "        f = sp.numer(f).subs(mag, x)\n",
    "    return factor(f.subs(x,abs(z)**2))"
   ]
  },
  {
   "cell_type": "code",
   "execution_count": 11,
   "id": "07e6c445",
   "metadata": {
    "execution": {
     "iopub.execute_input": "2025-06-10T14:29:02.371267Z",
     "iopub.status.busy": "2025-06-10T14:29:02.370972Z",
     "iopub.status.idle": "2025-06-10T14:29:02.377153Z",
     "shell.execute_reply": "2025-06-10T14:29:02.376151Z"
    },
    "papermill": {
     "duration": 0.012305,
     "end_time": "2025-06-10T14:29:02.378899",
     "exception": false,
     "start_time": "2025-06-10T14:29:02.366594",
     "status": "completed"
    },
    "tags": []
   },
   "outputs": [],
   "source": [
    "# Finding basis for H_k\n",
    "def real_basis():\n",
    "    basis = FiniteSet()\n",
    "    alphas = get_alphas(1)\n",
    "    print(f'Dimension = {len(alphas)}')\n",
    "    for a in alphas:\n",
    "        d = D(np_real, a, zs)\n",
    "        d = make_polynomial(d, mag_real)\n",
    "        print(d, '\\n')\n",
    "        basis += FiniteSet(d)\n",
    "    return basis"
   ]
  },
  {
   "cell_type": "code",
   "execution_count": 12,
   "id": "d813952e",
   "metadata": {
    "execution": {
     "iopub.execute_input": "2025-06-10T14:29:02.387357Z",
     "iopub.status.busy": "2025-06-10T14:29:02.387045Z",
     "iopub.status.idle": "2025-06-10T14:29:03.212962Z",
     "shell.execute_reply": "2025-06-10T14:29:03.211610Z"
    },
    "papermill": {
     "duration": 0.832119,
     "end_time": "2025-06-10T14:29:03.214708",
     "exception": false,
     "start_time": "2025-06-10T14:29:02.382589",
     "status": "completed"
    },
    "tags": []
   },
   "outputs": [
    {
     "name": "stdout",
     "output_type": "stream",
     "text": [
      "Dimension = 9\n",
      "3*(35*z3**4 - 30*z3**2*Abs(z)**2 + 3*Abs(z)**4) \n",
      "\n",
      "15*z2*z3*(7*z3**2 - 3*Abs(z)**2) \n",
      "\n",
      "3*(35*z2**2*z3**2 - 5*z2**2*Abs(z)**2 - 5*z3**2*Abs(z)**2 + Abs(z)**4) \n",
      "\n",
      "15*z2*z3*(7*z2**2 - 3*Abs(z)**2) \n",
      "\n",
      "3*(35*z2**4 - 30*z2**2*Abs(z)**2 + 3*Abs(z)**4) \n",
      "\n",
      "15*z1*z3*(7*z3**2 - 3*Abs(z)**2) \n",
      "\n",
      "15*z1*z2*(7*z3**2 - Abs(z)**2) \n",
      "\n",
      "15*z1*z3*(7*z2**2 - Abs(z)**2) \n",
      "\n",
      "15*z1*z2*(7*z2**2 - 3*Abs(z)**2) \n",
      "\n"
     ]
    },
    {
     "data": {
      "text/latex": [
       "$\\displaystyle \\left\\{15 z_{1} z_{2} \\left(7 z_{2}^{2} - 3 \\left|{z}\\right|^{2}\\right), 15 z_{1} z_{2} \\left(7 z_{3}^{2} - \\left|{z}\\right|^{2}\\right), 15 z_{1} z_{3} \\left(7 z_{2}^{2} - \\left|{z}\\right|^{2}\\right), 15 z_{1} z_{3} \\left(7 z_{3}^{2} - 3 \\left|{z}\\right|^{2}\\right), 15 z_{2} z_{3} \\left(7 z_{2}^{2} - 3 \\left|{z}\\right|^{2}\\right), 15 z_{2} z_{3} \\left(7 z_{3}^{2} - 3 \\left|{z}\\right|^{2}\\right), 3 \\left(35 z_{2}^{4} - 30 z_{2}^{2} \\left|{z}\\right|^{2} + 3 \\left|{z}\\right|^{4}\\right), 3 \\left(35 z_{3}^{4} - 30 z_{3}^{2} \\left|{z}\\right|^{2} + 3 \\left|{z}\\right|^{4}\\right), 3 \\left(35 z_{2}^{2} z_{3}^{2} - 5 z_{2}^{2} \\left|{z}\\right|^{2} - 5 z_{3}^{2} \\left|{z}\\right|^{2} + \\left|{z}\\right|^{4}\\right)\\right\\}$"
      ],
      "text/plain": [
       "{15*z1*z2*(7*z2**2 - 3*Abs(z)**2), 15*z1*z2*(7*z3**2 - Abs(z)**2), 15*z1*z3*(7*z2**2 - Abs(z)**2), 15*z1*z3*(7*z3**2 - 3*Abs(z)**2), 15*z2*z3*(7*z2**2 - 3*Abs(z)**2), 15*z2*z3*(7*z3**2 - 3*Abs(z)**2), 3*(35*z2**4 - 30*z2**2*Abs(z)**2 + 3*Abs(z)**4), 3*(35*z3**4 - 30*z3**2*Abs(z)**2 + 3*Abs(z)**4), 3*(35*z2**2*z3**2 - 5*z2**2*Abs(z)**2 - 5*z3**2*Abs(z)**2 + Abs(z)**4)}"
      ]
     },
     "execution_count": 12,
     "metadata": {},
     "output_type": "execute_result"
    }
   ],
   "source": [
    "basis = real_basis()\n",
    "basis"
   ]
  }
 ],
 "metadata": {
  "kaggle": {
   "accelerator": "none",
   "dataSources": [],
   "dockerImageVersionId": 31040,
   "isGpuEnabled": false,
   "isInternetEnabled": false,
   "language": "python",
   "sourceType": "notebook"
  },
  "kernelspec": {
   "display_name": "Python 3",
   "language": "python",
   "name": "python3"
  },
  "language_info": {
   "codemirror_mode": {
    "name": "ipython",
    "version": 3
   },
   "file_extension": ".py",
   "mimetype": "text/x-python",
   "name": "python",
   "nbconvert_exporter": "python",
   "pygments_lexer": "ipython3",
   "version": "3.11.11"
  },
  "papermill": {
   "default_parameters": {},
   "duration": 10.486329,
   "end_time": "2025-06-10T14:29:03.839678",
   "environment_variables": {},
   "exception": null,
   "input_path": "__notebook__.ipynb",
   "output_path": "__notebook__.ipynb",
   "parameters": {},
   "start_time": "2025-06-10T14:28:53.353349",
   "version": "2.6.0"
  }
 },
 "nbformat": 4,
 "nbformat_minor": 5
}
