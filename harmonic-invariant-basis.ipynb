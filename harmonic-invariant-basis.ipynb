{
 "cells": [
  {
   "cell_type": "code",
   "execution_count": 1,
   "id": "4a3424f6",
   "metadata": {
    "_cell_guid": "b1076dfc-b9ad-4769-8c92-a6c4dae69d19",
    "_uuid": "8f2839f25d086af736a60e9eeb907d3b93b6e0e5",
    "execution": {
     "iopub.execute_input": "2025-06-16T19:23:53.222827Z",
     "iopub.status.busy": "2025-06-16T19:23:53.222430Z",
     "iopub.status.idle": "2025-06-16T19:24:03.100805Z",
     "shell.execute_reply": "2025-06-16T19:24:03.099434Z"
    },
    "papermill": {
     "duration": 9.888149,
     "end_time": "2025-06-16T19:24:03.102627",
     "exception": false,
     "start_time": "2025-06-16T19:23:53.214478",
     "status": "completed"
    },
    "tags": []
   },
   "outputs": [
    {
     "name": "stdout",
     "output_type": "stream",
     "text": [
      "Requirement already satisfied: kaggle in /usr/local/lib/python3.11/dist-packages (1.7.4.2)\r\n",
      "Requirement already satisfied: bleach in /usr/local/lib/python3.11/dist-packages (from kaggle) (6.2.0)\r\n",
      "Requirement already satisfied: certifi>=14.05.14 in /usr/local/lib/python3.11/dist-packages (from kaggle) (2025.4.26)\r\n",
      "Requirement already satisfied: charset-normalizer in /usr/local/lib/python3.11/dist-packages (from kaggle) (3.4.2)\r\n",
      "Requirement already satisfied: idna in /usr/local/lib/python3.11/dist-packages (from kaggle) (3.10)\r\n",
      "Requirement already satisfied: protobuf in /usr/local/lib/python3.11/dist-packages (from kaggle) (3.20.3)\r\n",
      "Requirement already satisfied: python-dateutil>=2.5.3 in /usr/local/lib/python3.11/dist-packages (from kaggle) (2.9.0.post0)\r\n",
      "Requirement already satisfied: python-slugify in /usr/local/lib/python3.11/dist-packages (from kaggle) (8.0.4)\r\n",
      "Requirement already satisfied: requests in /usr/local/lib/python3.11/dist-packages (from kaggle) (2.32.3)\r\n",
      "Requirement already satisfied: setuptools>=21.0.0 in /usr/local/lib/python3.11/dist-packages (from kaggle) (75.2.0)\r\n",
      "Requirement already satisfied: six>=1.10 in /usr/local/lib/python3.11/dist-packages (from kaggle) (1.17.0)\r\n",
      "Requirement already satisfied: text-unidecode in /usr/local/lib/python3.11/dist-packages (from kaggle) (1.3)\r\n",
      "Requirement already satisfied: tqdm in /usr/local/lib/python3.11/dist-packages (from kaggle) (4.67.1)\r\n",
      "Requirement already satisfied: urllib3>=1.15.1 in /usr/local/lib/python3.11/dist-packages (from kaggle) (2.4.0)\r\n",
      "Requirement already satisfied: webencodings in /usr/local/lib/python3.11/dist-packages (from kaggle) (0.5.1)\r\n",
      "/kaggle/input/degeneracy-tables/degeneracy_tables.csv\n"
     ]
    }
   ],
   "source": [
    "# This Python 3 environment comes with many helpful analytics libraries installed\n",
    "# It is defined by the kaggle/python Docker image: https://github.com/kaggle/docker-python\n",
    "# For example, here's several helpful packages to load\n",
    "# hatch run python -c \"import kaggle; from kaggle.api.kaggle_api_extended import KaggleApi; api = KaggleApi(); api.authenticate(); api.model_list_cli()\"\n",
    "\n",
    "import numpy as np # linear algebra\n",
    "import itertools as it\n",
    "import sympy as sp \n",
    "import pandas as pd\n",
    "from sympy import symbols, Function, diff, conjugate, FiniteSet, simplify, Poly, series, re\n",
    "from sympy import *\n",
    "from sympy.utilities.iterables import partitions\n",
    "from sympy.functions.combinatorial.numbers import nC\n",
    "from sympy.combinatorics.named_groups import CyclicGroup\n",
    "from sympy.matrices import Matrix, eye, zeros, ones, diag, GramSchmidt\n",
    "\n",
    "!pip install --user kaggle\n",
    "import os\n",
    "\n",
    "for dirname, _, filenames in os.walk('/kaggle/input/'):\n",
    "    for filename in filenames:\n",
    "        print(os.path.join(dirname, filename))"
   ]
  },
  {
   "cell_type": "code",
   "execution_count": 2,
   "id": "0f575883",
   "metadata": {
    "execution": {
     "iopub.execute_input": "2025-06-16T19:24:03.116617Z",
     "iopub.status.busy": "2025-06-16T19:24:03.115283Z",
     "iopub.status.idle": "2025-06-16T19:24:03.451697Z",
     "shell.execute_reply": "2025-06-16T19:24:03.450372Z"
    },
    "papermill": {
     "duration": 0.344807,
     "end_time": "2025-06-16T19:24:03.453509",
     "exception": false,
     "start_time": "2025-06-16T19:24:03.108702",
     "status": "completed"
    },
    "tags": []
   },
   "outputs": [
    {
     "name": "stdout",
     "output_type": "stream",
     "text": [
      "new directory\n",
      "Yay, it worked!\n"
     ]
    }
   ],
   "source": [
    "from kaggle_secrets import UserSecretsClient\n",
    "if os.path.exists('/root/.kaggle/'):\n",
    "    pass\n",
    "else:\n",
    "    os.mkdir('/root/.kaggle/')\n",
    "    print(\"new directory\")\n",
    "kaggle_API_key = UserSecretsClient().get_secret(\"key\")\n",
    "\n",
    "with open('/root/.kaggle/kaggle.json', 'w') as fid:\n",
    "    fid.writelines(f'{{\"username\":\"tanvikiran27\",\"key\":\"{kaggle_API_key}\"}}')\n",
    "\n",
    "!chmod 600 /root/.kaggle/kaggle.json\n",
    "print('Yay, it worked!')"
   ]
  },
  {
   "cell_type": "code",
   "execution_count": 3,
   "id": "e350234e",
   "metadata": {
    "execution": {
     "iopub.execute_input": "2025-06-16T19:24:03.466131Z",
     "iopub.status.busy": "2025-06-16T19:24:03.465732Z",
     "iopub.status.idle": "2025-06-16T19:24:05.254075Z",
     "shell.execute_reply": "2025-06-16T19:24:05.252941Z"
    },
    "papermill": {
     "duration": 1.796793,
     "end_time": "2025-06-16T19:24:05.255928",
     "exception": false,
     "start_time": "2025-06-16T19:24:03.459135",
     "status": "completed"
    },
    "tags": []
   },
   "outputs": [
    {
     "name": "stdout",
     "output_type": "stream",
     "text": [
      "Dataset URL: https://www.kaggle.com/datasets/tanvikiran27/degeneracy-tables\r\n",
      "License(s): unknown\r\n"
     ]
    }
   ],
   "source": [
    "!kaggle datasets download tanvikiran27/degeneracy-tables\n",
    "import zipfile\n",
    "with zipfile.ZipFile('/kaggle/working/degeneracy-tables.zip') as file:\n",
    "    file.extractall()\n",
    "os.remove('/kaggle/working/degeneracy-tables.zip')"
   ]
  },
  {
   "cell_type": "markdown",
   "id": "3541344e",
   "metadata": {
    "papermill": {
     "duration": 0.005341,
     "end_time": "2025-06-16T19:24:05.266958",
     "exception": false,
     "start_time": "2025-06-16T19:24:05.261617",
     "status": "completed"
    },
    "tags": []
   },
   "source": [
    "$n$ = dimension ($\\mathbb{R}^n$ or $\\mathbb{C}^n$) \\\n",
    "$k$ = real degree \\\n",
    "$(p,q)$ = complex bidegree"
   ]
  },
  {
   "cell_type": "code",
   "execution_count": 4,
   "id": "254dce46",
   "metadata": {
    "execution": {
     "iopub.execute_input": "2025-06-16T19:24:05.279524Z",
     "iopub.status.busy": "2025-06-16T19:24:05.279198Z",
     "iopub.status.idle": "2025-06-16T19:24:05.344440Z",
     "shell.execute_reply": "2025-06-16T19:24:05.343618Z"
    },
    "papermill": {
     "duration": 0.073677,
     "end_time": "2025-06-16T19:24:05.346084",
     "exception": false,
     "start_time": "2025-06-16T19:24:05.272407",
     "status": "completed"
    },
    "tags": []
   },
   "outputs": [],
   "source": [
    "####### Change constants here #######\n",
    "n = 4\n",
    "k = 3\n",
    "p = 2\n",
    "q = 1\n",
    "#####################################\n",
    "\n",
    "# Setting up symbols\n",
    "f = symbols('f', cls = Function)\n",
    "x,y,z,w,zeta = symbols('x y z w zeta')\n",
    "zs = symbols(f'z1:{n+1}', complex=True)\n",
    "zbar = symbols(f'zbar1:{n+1}', complex=True)\n",
    "ls = symbols(f'l1:{n+1}', int=True)\n",
    "\n",
    "# newton potential (R^n) \n",
    "mag_real = 0\n",
    "for i in range(n):\n",
    "    mag_real += zs[i]**2 ## Euclidean norm squared\n",
    "np_real = sp.sqrt(mag_real)**(2-n)\n",
    "\n",
    "# newton potential (C^n)\n",
    "mag_complex = 0\n",
    "for i in range(n):\n",
    "    mag_complex += zs[i]*zbar[i] ## Complex modulus squared\n",
    "np_complex = sp.sqrt(mag_complex)**(2-2*n)"
   ]
  },
  {
   "cell_type": "code",
   "execution_count": 5,
   "id": "3cbe6f37",
   "metadata": {
    "execution": {
     "iopub.execute_input": "2025-06-16T19:24:05.358627Z",
     "iopub.status.busy": "2025-06-16T19:24:05.358325Z",
     "iopub.status.idle": "2025-06-16T19:24:05.385154Z",
     "shell.execute_reply": "2025-06-16T19:24:05.384228Z"
    },
    "papermill": {
     "duration": 0.034787,
     "end_time": "2025-06-16T19:24:05.386607",
     "exception": false,
     "start_time": "2025-06-16T19:24:05.351820",
     "status": "completed"
    },
    "tags": []
   },
   "outputs": [
    {
     "data": {
      "text/latex": [
       "$\\displaystyle \\left\\{\\left[\\begin{matrix}1 & 0\\\\0 & 1\\end{matrix}\\right], \\left[\\begin{matrix}e^{- \\frac{4 i \\pi}{5}} & 0\\\\0 & e^{\\frac{4 i \\pi}{5}}\\end{matrix}\\right], \\left[\\begin{matrix}e^{- \\frac{2 i \\pi}{5}} & 0\\\\0 & e^{\\frac{2 i \\pi}{5}}\\end{matrix}\\right], \\left[\\begin{matrix}e^{\\frac{2 i \\pi}{5}} & 0\\\\0 & e^{- \\frac{2 i \\pi}{5}}\\end{matrix}\\right], \\left[\\begin{matrix}e^{\\frac{4 i \\pi}{5}} & 0\\\\0 & e^{- \\frac{4 i \\pi}{5}}\\end{matrix}\\right]\\right\\}$"
      ],
      "text/plain": [
       "{Matrix([\n",
       "[1, 0],\n",
       "[0, 1]]), Matrix([\n",
       "[exp(-4*I*pi/5),             0],\n",
       "[             0, exp(4*I*pi/5)]]), Matrix([\n",
       "[exp(-2*I*pi/5),             0],\n",
       "[             0, exp(2*I*pi/5)]]), Matrix([\n",
       "[exp(2*I*pi/5),              0],\n",
       "[            0, exp(-2*I*pi/5)]]), Matrix([\n",
       "[exp(4*I*pi/5),              0],\n",
       "[            0, exp(-4*I*pi/5)]])}"
      ]
     },
     "execution_count": 5,
     "metadata": {},
     "output_type": "execute_result"
    }
   ],
   "source": [
    "# Cyclic group (roots of unity)\n",
    "m=5\n",
    "zeta = exp(2*pi*I/m)\n",
    "g = diag(zeta, zeta**(-1))\n",
    "G = FiniteSet()\n",
    "for i in range(m):\n",
    "    G += FiniteSet(g**i)\n",
    "G"
   ]
  },
  {
   "cell_type": "code",
   "execution_count": 6,
   "id": "d663bc22",
   "metadata": {
    "execution": {
     "iopub.execute_input": "2025-06-16T19:24:05.399262Z",
     "iopub.status.busy": "2025-06-16T19:24:05.398945Z",
     "iopub.status.idle": "2025-06-16T19:24:05.403731Z",
     "shell.execute_reply": "2025-06-16T19:24:05.402810Z"
    },
    "papermill": {
     "duration": 0.012941,
     "end_time": "2025-06-16T19:24:05.405319",
     "exception": false,
     "start_time": "2025-06-16T19:24:05.392378",
     "status": "completed"
    },
    "tags": []
   },
   "outputs": [],
   "source": [
    "# Multi index differentiation\n",
    "def D(f,alpha,zs):\n",
    "    df = f\n",
    "    for i in range(n):\n",
    "        df = diff(df,(zs[i],alpha[i]))\n",
    "    return df"
   ]
  },
  {
   "cell_type": "code",
   "execution_count": 7,
   "id": "74e11c97",
   "metadata": {
    "execution": {
     "iopub.execute_input": "2025-06-16T19:24:05.418511Z",
     "iopub.status.busy": "2025-06-16T19:24:05.418210Z",
     "iopub.status.idle": "2025-06-16T19:24:05.423424Z",
     "shell.execute_reply": "2025-06-16T19:24:05.422769Z"
    },
    "papermill": {
     "duration": 0.013219,
     "end_time": "2025-06-16T19:24:05.424775",
     "exception": false,
     "start_time": "2025-06-16T19:24:05.411556",
     "status": "completed"
    },
    "tags": []
   },
   "outputs": [],
   "source": [
    "# Returns valid n-tuples\n",
    "# https://www.geeksforgeeks.org/python-program-to-convert-dictionary-to-list-by-repeating-keys-corresponding-value-times/\n",
    "\n",
    "def get_alpha_beta(deg):\n",
    "    alphas = FiniteSet()\n",
    "    for part in partitions(deg, m=n):\n",
    "        part = list(it.chain.from_iterable(it.repeat(k, v) for k, v in part.items()))\n",
    "        while len(part) < n:\n",
    "            part.append(0)\n",
    "        for perm in it.permutations(part):\n",
    "            alphas += FiniteSet(perm)\n",
    "    return alphas"
   ]
  },
  {
   "cell_type": "code",
   "execution_count": 8,
   "id": "afdd7c05",
   "metadata": {
    "execution": {
     "iopub.execute_input": "2025-06-16T19:24:05.437758Z",
     "iopub.status.busy": "2025-06-16T19:24:05.437416Z",
     "iopub.status.idle": "2025-06-16T19:24:05.443090Z",
     "shell.execute_reply": "2025-06-16T19:24:05.442030Z"
    },
    "papermill": {
     "duration": 0.014192,
     "end_time": "2025-06-16T19:24:05.444612",
     "exception": false,
     "start_time": "2025-06-16T19:24:05.430420",
     "status": "completed"
    },
    "tags": []
   },
   "outputs": [],
   "source": [
    "def make_polynomial(f, mag):\n",
    "    f = sp.numer(f).subs(mag, x)\n",
    "    while f.is_polynomial(zs,zbar,x) == False:\n",
    "        f = simplify(f * x)\n",
    "        f = sp.numer(f).subs(mag, x)\n",
    "    return expand(f.subs(x,abs(z)**2))"
   ]
  },
  {
   "cell_type": "code",
   "execution_count": 9,
   "id": "2315f550",
   "metadata": {
    "execution": {
     "iopub.execute_input": "2025-06-16T19:24:05.457480Z",
     "iopub.status.busy": "2025-06-16T19:24:05.457171Z",
     "iopub.status.idle": "2025-06-16T19:24:05.462274Z",
     "shell.execute_reply": "2025-06-16T19:24:05.461199Z"
    },
    "papermill": {
     "duration": 0.013296,
     "end_time": "2025-06-16T19:24:05.463869",
     "exception": false,
     "start_time": "2025-06-16T19:24:05.450573",
     "status": "completed"
    },
    "tags": []
   },
   "outputs": [],
   "source": [
    "# For H_k(R^n)\n",
    "def real_dim():\n",
    "    return nC(n+k-1,k) - nC(n+k-3,k-2)"
   ]
  },
  {
   "cell_type": "code",
   "execution_count": 10,
   "id": "72cdb57f",
   "metadata": {
    "execution": {
     "iopub.execute_input": "2025-06-16T19:24:05.476654Z",
     "iopub.status.busy": "2025-06-16T19:24:05.476339Z",
     "iopub.status.idle": "2025-06-16T19:24:05.480924Z",
     "shell.execute_reply": "2025-06-16T19:24:05.479933Z"
    },
    "papermill": {
     "duration": 0.012995,
     "end_time": "2025-06-16T19:24:05.482647",
     "exception": false,
     "start_time": "2025-06-16T19:24:05.469652",
     "status": "completed"
    },
    "tags": []
   },
   "outputs": [],
   "source": [
    "def dim_H_k():\n",
    "    return nC(2*n+k-1,k) - nC(2*n+k-3,k-2)"
   ]
  },
  {
   "cell_type": "code",
   "execution_count": 11,
   "id": "02c75160",
   "metadata": {
    "execution": {
     "iopub.execute_input": "2025-06-16T19:24:05.495789Z",
     "iopub.status.busy": "2025-06-16T19:24:05.495061Z",
     "iopub.status.idle": "2025-06-16T19:24:05.499671Z",
     "shell.execute_reply": "2025-06-16T19:24:05.498774Z"
    },
    "papermill": {
     "duration": 0.012807,
     "end_time": "2025-06-16T19:24:05.501244",
     "exception": false,
     "start_time": "2025-06-16T19:24:05.488437",
     "status": "completed"
    },
    "tags": []
   },
   "outputs": [],
   "source": [
    "def dim_H_pq():\n",
    "    return nC(n+p-1,p)*nC(n+q-1,q) - nC(n+p-2,p-1)*nC(n+q-2,q-1)"
   ]
  },
  {
   "cell_type": "code",
   "execution_count": 12,
   "id": "0997d8bc",
   "metadata": {
    "execution": {
     "iopub.execute_input": "2025-06-16T19:24:05.513752Z",
     "iopub.status.busy": "2025-06-16T19:24:05.513192Z",
     "iopub.status.idle": "2025-06-16T19:24:05.518656Z",
     "shell.execute_reply": "2025-06-16T19:24:05.517793Z"
    },
    "papermill": {
     "duration": 0.013434,
     "end_time": "2025-06-16T19:24:05.520185",
     "exception": false,
     "start_time": "2025-06-16T19:24:05.506751",
     "status": "completed"
    },
    "tags": []
   },
   "outputs": [],
   "source": [
    "# Finding basis for H_k(R^n) - see Axler's Harmonic Function Theory p. 92\n",
    "def real_basis():\n",
    "    basis = FiniteSet()\n",
    "    alphas = get_alpha_beta(k)\n",
    "    for a in alphas:\n",
    "        if a[0] > 1:\n",
    "            alphas -= FiniteSet(a)\n",
    "    print(f'# of elements = {len(alphas)}')\n",
    "    print(f'Dimension from combinatorial expression = {real_dim()} \\n')\n",
    "    for a in alphas:\n",
    "        d = D(np_real, a, zs)\n",
    "        d = make_polynomial(d, mag_real)\n",
    "        print(d, '\\n')\n",
    "        basis += FiniteSet(d)\n",
    "    return basis"
   ]
  },
  {
   "cell_type": "code",
   "execution_count": 13,
   "id": "5d4b1d7a",
   "metadata": {
    "execution": {
     "iopub.execute_input": "2025-06-16T19:24:05.533079Z",
     "iopub.status.busy": "2025-06-16T19:24:05.532363Z",
     "iopub.status.idle": "2025-06-16T19:24:05.644283Z",
     "shell.execute_reply": "2025-06-16T19:24:05.643341Z"
    },
    "papermill": {
     "duration": 0.119783,
     "end_time": "2025-06-16T19:24:05.645752",
     "exception": false,
     "start_time": "2025-06-16T19:24:05.525969",
     "status": "completed"
    },
    "tags": []
   },
   "outputs": [],
   "source": [
    "# Finding basis for H_p,q(C^n)\n",
    "def basis_H_pq():\n",
    "    basis = FiniteSet()\n",
    "    alphas = get_alpha_beta(p)\n",
    "    betas = get_alpha_beta(q)\n",
    "    ab = FiniteSet()\n",
    "    for a in alphas:\n",
    "        for b in betas:\n",
    "            if a[0]==0 or b[0]==0:\n",
    "                ab += FiniteSet((a,b))\n",
    "    print(f'# of elements = {len(ab)}')\n",
    "    print(f'Dimension from combinatorial expression = {dim_H_pq()} \\n')\n",
    "    for (a,b) in ab:\n",
    "        d = D(np_complex,b,zs)\n",
    "        d = D(d,a,zbar)\n",
    "        d = make_polynomial(d, mag_complex)\n",
    "        print(d, '\\n')\n",
    "        basis += FiniteSet(d)\n",
    "    return basis"
   ]
  },
  {
   "cell_type": "code",
   "execution_count": 14,
   "id": "d568e525",
   "metadata": {
    "execution": {
     "iopub.execute_input": "2025-06-16T19:24:05.658640Z",
     "iopub.status.busy": "2025-06-16T19:24:05.657906Z",
     "iopub.status.idle": "2025-06-16T19:24:05.662427Z",
     "shell.execute_reply": "2025-06-16T19:24:05.661603Z"
    },
    "papermill": {
     "duration": 0.012487,
     "end_time": "2025-06-16T19:24:05.663880",
     "exception": false,
     "start_time": "2025-06-16T19:24:05.651393",
     "status": "completed"
    },
    "tags": []
   },
   "outputs": [],
   "source": [
    "def box(f):\n",
    "    laplacian = 0\n",
    "    for i in range(n):\n",
    "        laplacian += diff(diff(f,zbar[i]),zs[i])\n",
    "    return laplacian"
   ]
  },
  {
   "cell_type": "code",
   "execution_count": 15,
   "id": "12888967",
   "metadata": {
    "execution": {
     "iopub.execute_input": "2025-06-16T19:24:05.676260Z",
     "iopub.status.busy": "2025-06-16T19:24:05.675944Z",
     "iopub.status.idle": "2025-06-16T19:24:05.682163Z",
     "shell.execute_reply": "2025-06-16T19:24:05.681356Z"
    },
    "papermill": {
     "duration": 0.014127,
     "end_time": "2025-06-16T19:24:05.683584",
     "exception": false,
     "start_time": "2025-06-16T19:24:05.669457",
     "status": "completed"
    },
    "tags": []
   },
   "outputs": [],
   "source": [
    "# Closed form from 2018 REU paper\n",
    "def box_b(f):\n",
    "    box_b = 0\n",
    "    # first term\n",
    "    for i in range(n): \n",
    "        box_b += -2*diff(diff(f,zbar[i]), zs[i])\n",
    "        \n",
    "    # second term\n",
    "    for i in range(n): \n",
    "        box_b += 2*diff(zs[i]*q*f, zs[i])\n",
    "        \n",
    "    # third term (double sum)\n",
    "    for i in range(n): \n",
    "        for a in range(n):\n",
    "            box_b += 2*diff(zs[a]*zbar[i]*diff(f,zbar[i]), zs[a])\n",
    "            \n",
    "    # fourth term (double sum)\n",
    "    for i in range(n): \n",
    "        for a in range(n):\n",
    "            box_b += -2*diff(zs[a]*zbar[i]*zs[i]*q*f, zs[a])\n",
    "    return box_b"
   ]
  },
  {
   "cell_type": "code",
   "execution_count": 16,
   "id": "25c925f2",
   "metadata": {
    "execution": {
     "iopub.execute_input": "2025-06-16T19:24:05.696714Z",
     "iopub.status.busy": "2025-06-16T19:24:05.695802Z",
     "iopub.status.idle": "2025-06-16T19:24:05.700847Z",
     "shell.execute_reply": "2025-06-16T19:24:05.699738Z"
    },
    "papermill": {
     "duration": 0.0131,
     "end_time": "2025-06-16T19:24:05.702473",
     "exception": false,
     "start_time": "2025-06-16T19:24:05.689373",
     "status": "completed"
    },
    "tags": []
   },
   "outputs": [],
   "source": [
    "# Just in case :)\n",
    "def is_harmonic(f):\n",
    "    return (box_b(f)/f).simplify().is_polynomial(mag_complex)"
   ]
  },
  {
   "cell_type": "code",
   "execution_count": 17,
   "id": "f52be864",
   "metadata": {
    "execution": {
     "iopub.execute_input": "2025-06-16T19:24:05.715618Z",
     "iopub.status.busy": "2025-06-16T19:24:05.714730Z",
     "iopub.status.idle": "2025-06-16T19:24:05.720568Z",
     "shell.execute_reply": "2025-06-16T19:24:05.719657Z"
    },
    "papermill": {
     "duration": 0.0141,
     "end_time": "2025-06-16T19:24:05.722216",
     "exception": false,
     "start_time": "2025-06-16T19:24:05.708116",
     "status": "completed"
    },
    "tags": []
   },
   "outputs": [],
   "source": [
    "def F(k,ls):\n",
    "    F = 0\n",
    "    zeta = exp(2*pi*I/k)\n",
    "    for m in range(k):\n",
    "        frac = 1-z*w\n",
    "        for i in range(len(ls)):\n",
    "            frac /= (z-zeta**(-m*ls[i]))*(w-zeta**(m*ls[i]))\n",
    "        F += frac\n",
    "    F = (1/k)*F\n",
    "    return F"
   ]
  },
  {
   "cell_type": "code",
   "execution_count": 18,
   "id": "49b774c0",
   "metadata": {
    "execution": {
     "iopub.execute_input": "2025-06-16T19:24:05.734597Z",
     "iopub.status.busy": "2025-06-16T19:24:05.734321Z",
     "iopub.status.idle": "2025-06-16T19:24:05.740147Z",
     "shell.execute_reply": "2025-06-16T19:24:05.739323Z"
    },
    "papermill": {
     "duration": 0.013681,
     "end_time": "2025-06-16T19:24:05.741608",
     "exception": false,
     "start_time": "2025-06-16T19:24:05.727927",
     "status": "completed"
    },
    "tags": []
   },
   "outputs": [],
   "source": [
    "def taylor_coeffs(f,deg):\n",
    "    table = []\n",
    "    for i in range(deg+1):\n",
    "        row = []\n",
    "        for j in range(deg+1-i):\n",
    "            d = diff(f,w,j)\n",
    "            d = diff(d,z,i)\n",
    "            d = lambdify([z,w],d)\n",
    "            term = re(d(0,0)/(factorial(i)*factorial(j))).round()\n",
    "            row.append(term)\n",
    "        while len(row) < deg+1:\n",
    "            row.append('-')\n",
    "        table.append(row)\n",
    "    return table"
   ]
  },
  {
   "cell_type": "code",
   "execution_count": 19,
   "id": "9ef76205",
   "metadata": {
    "execution": {
     "iopub.execute_input": "2025-06-16T19:24:05.754157Z",
     "iopub.status.busy": "2025-06-16T19:24:05.753791Z",
     "iopub.status.idle": "2025-06-16T19:24:05.772132Z",
     "shell.execute_reply": "2025-06-16T19:24:05.771290Z"
    },
    "papermill": {
     "duration": 0.026363,
     "end_time": "2025-06-16T19:24:05.773684",
     "exception": false,
     "start_time": "2025-06-16T19:24:05.747321",
     "status": "completed"
    },
    "tags": []
   },
   "outputs": [],
   "source": [
    "f = F(5,[1,-1])\n",
    "g = F(3,[1,-1])"
   ]
  },
  {
   "cell_type": "code",
   "execution_count": 20,
   "id": "ba4d6a90",
   "metadata": {
    "execution": {
     "iopub.execute_input": "2025-06-16T19:24:05.785917Z",
     "iopub.status.busy": "2025-06-16T19:24:05.785598Z",
     "iopub.status.idle": "2025-06-16T19:24:10.589392Z",
     "shell.execute_reply": "2025-06-16T19:24:10.588569Z"
    },
    "papermill": {
     "duration": 4.81188,
     "end_time": "2025-06-16T19:24:10.591087",
     "exception": false,
     "start_time": "2025-06-16T19:24:05.779207",
     "status": "completed"
    },
    "tags": []
   },
   "outputs": [],
   "source": [
    "T=taylor_coeffs(f,4)\n",
    "T3=taylor_coeffs(g,3)\n",
    "df1 = pd.DataFrame({'L(5;1,-1)':T})\n",
    "df2 = pd.DataFrame({'L(3;1,-1)':T3})"
   ]
  },
  {
   "cell_type": "code",
   "execution_count": 21,
   "id": "f5a9ae2f",
   "metadata": {
    "execution": {
     "iopub.execute_input": "2025-06-16T19:24:10.604404Z",
     "iopub.status.busy": "2025-06-16T19:24:10.603867Z",
     "iopub.status.idle": "2025-06-16T19:24:10.628390Z",
     "shell.execute_reply": "2025-06-16T19:24:10.627614Z"
    },
    "papermill": {
     "duration": 0.03264,
     "end_time": "2025-06-16T19:24:10.629923",
     "exception": false,
     "start_time": "2025-06-16T19:24:10.597283",
     "status": "completed"
    },
    "tags": []
   },
   "outputs": [
    {
     "data": {
      "text/html": [
       "<div>\n",
       "<style scoped>\n",
       "    .dataframe tbody tr th:only-of-type {\n",
       "        vertical-align: middle;\n",
       "    }\n",
       "\n",
       "    .dataframe tbody tr th {\n",
       "        vertical-align: top;\n",
       "    }\n",
       "\n",
       "    .dataframe thead th {\n",
       "        text-align: right;\n",
       "    }\n",
       "</style>\n",
       "<table border=\"1\" class=\"dataframe\">\n",
       "  <thead>\n",
       "    <tr style=\"text-align: right;\">\n",
       "      <th></th>\n",
       "      <th>L(5;1,-1)</th>\n",
       "    </tr>\n",
       "  </thead>\n",
       "  <tbody>\n",
       "    <tr>\n",
       "      <th>0</th>\n",
       "      <td>[1, 0, 1, 0, 1]</td>\n",
       "    </tr>\n",
       "    <tr>\n",
       "      <th>1</th>\n",
       "      <td>[0, 1, 0, 1, -]</td>\n",
       "    </tr>\n",
       "    <tr>\n",
       "      <th>2</th>\n",
       "      <td>[1, 0, 1, -, -]</td>\n",
       "    </tr>\n",
       "    <tr>\n",
       "      <th>3</th>\n",
       "      <td>[0, 1, -, -, -]</td>\n",
       "    </tr>\n",
       "    <tr>\n",
       "      <th>4</th>\n",
       "      <td>[1, -, -, -, -]</td>\n",
       "    </tr>\n",
       "  </tbody>\n",
       "</table>\n",
       "</div>"
      ],
      "text/plain": [
       "         L(5;1,-1)\n",
       "0  [1, 0, 1, 0, 1]\n",
       "1  [0, 1, 0, 1, -]\n",
       "2  [1, 0, 1, -, -]\n",
       "3  [0, 1, -, -, -]\n",
       "4  [1, -, -, -, -]"
      ]
     },
     "execution_count": 21,
     "metadata": {},
     "output_type": "execute_result"
    }
   ],
   "source": [
    "df1"
   ]
  },
  {
   "cell_type": "code",
   "execution_count": 22,
   "id": "6fe53eac",
   "metadata": {
    "execution": {
     "iopub.execute_input": "2025-06-16T19:24:10.642826Z",
     "iopub.status.busy": "2025-06-16T19:24:10.642504Z",
     "iopub.status.idle": "2025-06-16T19:24:10.651390Z",
     "shell.execute_reply": "2025-06-16T19:24:10.650619Z"
    },
    "papermill": {
     "duration": 0.016839,
     "end_time": "2025-06-16T19:24:10.652706",
     "exception": false,
     "start_time": "2025-06-16T19:24:10.635867",
     "status": "completed"
    },
    "tags": []
   },
   "outputs": [
    {
     "data": {
      "text/html": [
       "<div>\n",
       "<style scoped>\n",
       "    .dataframe tbody tr th:only-of-type {\n",
       "        vertical-align: middle;\n",
       "    }\n",
       "\n",
       "    .dataframe tbody tr th {\n",
       "        vertical-align: top;\n",
       "    }\n",
       "\n",
       "    .dataframe thead th {\n",
       "        text-align: right;\n",
       "    }\n",
       "</style>\n",
       "<table border=\"1\" class=\"dataframe\">\n",
       "  <thead>\n",
       "    <tr style=\"text-align: right;\">\n",
       "      <th></th>\n",
       "      <th>L(3;1,-1)</th>\n",
       "    </tr>\n",
       "  </thead>\n",
       "  <tbody>\n",
       "    <tr>\n",
       "      <th>0</th>\n",
       "      <td>[1, 0, 1, 2]</td>\n",
       "    </tr>\n",
       "    <tr>\n",
       "      <th>1</th>\n",
       "      <td>[0, 1, 2, -]</td>\n",
       "    </tr>\n",
       "    <tr>\n",
       "      <th>2</th>\n",
       "      <td>[1, 2, -, -]</td>\n",
       "    </tr>\n",
       "    <tr>\n",
       "      <th>3</th>\n",
       "      <td>[2, -, -, -]</td>\n",
       "    </tr>\n",
       "  </tbody>\n",
       "</table>\n",
       "</div>"
      ],
      "text/plain": [
       "      L(3;1,-1)\n",
       "0  [1, 0, 1, 2]\n",
       "1  [0, 1, 2, -]\n",
       "2  [1, 2, -, -]\n",
       "3  [2, -, -, -]"
      ]
     },
     "execution_count": 22,
     "metadata": {},
     "output_type": "execute_result"
    }
   ],
   "source": [
    "df2"
   ]
  },
  {
   "cell_type": "code",
   "execution_count": 23,
   "id": "76b8f1b5",
   "metadata": {
    "execution": {
     "iopub.execute_input": "2025-06-16T19:24:10.665660Z",
     "iopub.status.busy": "2025-06-16T19:24:10.665368Z",
     "iopub.status.idle": "2025-06-16T19:24:10.681086Z",
     "shell.execute_reply": "2025-06-16T19:24:10.680154Z"
    },
    "papermill": {
     "duration": 0.024026,
     "end_time": "2025-06-16T19:24:10.682585",
     "exception": false,
     "start_time": "2025-06-16T19:24:10.658559",
     "status": "completed"
    },
    "tags": []
   },
   "outputs": [],
   "source": [
    "df = df1.merge(df2, left_index = True, right_index = True, how = 'outer')"
   ]
  },
  {
   "cell_type": "code",
   "execution_count": 24,
   "id": "4a6f93fa",
   "metadata": {
    "execution": {
     "iopub.execute_input": "2025-06-16T19:24:10.695895Z",
     "iopub.status.busy": "2025-06-16T19:24:10.695012Z",
     "iopub.status.idle": "2025-06-16T19:24:10.705690Z",
     "shell.execute_reply": "2025-06-16T19:24:10.704926Z"
    },
    "papermill": {
     "duration": 0.018698,
     "end_time": "2025-06-16T19:24:10.707074",
     "exception": false,
     "start_time": "2025-06-16T19:24:10.688376",
     "status": "completed"
    },
    "tags": []
   },
   "outputs": [
    {
     "data": {
      "text/html": [
       "<div>\n",
       "<style scoped>\n",
       "    .dataframe tbody tr th:only-of-type {\n",
       "        vertical-align: middle;\n",
       "    }\n",
       "\n",
       "    .dataframe tbody tr th {\n",
       "        vertical-align: top;\n",
       "    }\n",
       "\n",
       "    .dataframe thead th {\n",
       "        text-align: right;\n",
       "    }\n",
       "</style>\n",
       "<table border=\"1\" class=\"dataframe\">\n",
       "  <thead>\n",
       "    <tr style=\"text-align: right;\">\n",
       "      <th></th>\n",
       "      <th>L(5;1,-1)</th>\n",
       "      <th>L(3;1,-1)</th>\n",
       "    </tr>\n",
       "  </thead>\n",
       "  <tbody>\n",
       "    <tr>\n",
       "      <th>0</th>\n",
       "      <td>[1, 0, 1, 0, 1]</td>\n",
       "      <td>[1, 0, 1, 2]</td>\n",
       "    </tr>\n",
       "    <tr>\n",
       "      <th>1</th>\n",
       "      <td>[0, 1, 0, 1, -]</td>\n",
       "      <td>[0, 1, 2, -]</td>\n",
       "    </tr>\n",
       "    <tr>\n",
       "      <th>2</th>\n",
       "      <td>[1, 0, 1, -, -]</td>\n",
       "      <td>[1, 2, -, -]</td>\n",
       "    </tr>\n",
       "    <tr>\n",
       "      <th>3</th>\n",
       "      <td>[0, 1, -, -, -]</td>\n",
       "      <td>[2, -, -, -]</td>\n",
       "    </tr>\n",
       "    <tr>\n",
       "      <th>4</th>\n",
       "      <td>[1, -, -, -, -]</td>\n",
       "      <td>NaN</td>\n",
       "    </tr>\n",
       "  </tbody>\n",
       "</table>\n",
       "</div>"
      ],
      "text/plain": [
       "         L(5;1,-1)     L(3;1,-1)\n",
       "0  [1, 0, 1, 0, 1]  [1, 0, 1, 2]\n",
       "1  [0, 1, 0, 1, -]  [0, 1, 2, -]\n",
       "2  [1, 0, 1, -, -]  [1, 2, -, -]\n",
       "3  [0, 1, -, -, -]  [2, -, -, -]\n",
       "4  [1, -, -, -, -]           NaN"
      ]
     },
     "execution_count": 24,
     "metadata": {},
     "output_type": "execute_result"
    }
   ],
   "source": [
    "df"
   ]
  },
  {
   "cell_type": "code",
   "execution_count": 25,
   "id": "0d9554a5",
   "metadata": {
    "execution": {
     "iopub.execute_input": "2025-06-16T19:24:10.720968Z",
     "iopub.status.busy": "2025-06-16T19:24:10.720041Z",
     "iopub.status.idle": "2025-06-16T19:24:10.725238Z",
     "shell.execute_reply": "2025-06-16T19:24:10.724297Z"
    },
    "papermill": {
     "duration": 0.013466,
     "end_time": "2025-06-16T19:24:10.726651",
     "exception": false,
     "start_time": "2025-06-16T19:24:10.713185",
     "status": "completed"
    },
    "tags": []
   },
   "outputs": [],
   "source": [
    "# Gets a single degeneracy table (as a list of arrays) from the dataset\n",
    "def clean_col(df,col):\n",
    "    table = df[col].to_list()\n",
    "    while type(table[-1]) is float:\n",
    "        table = table[:-1]\n",
    "    return table"
   ]
  },
  {
   "cell_type": "code",
   "execution_count": 26,
   "id": "92f9c179",
   "metadata": {
    "execution": {
     "iopub.execute_input": "2025-06-16T19:24:10.740284Z",
     "iopub.status.busy": "2025-06-16T19:24:10.739475Z",
     "iopub.status.idle": "2025-06-16T19:24:10.744673Z",
     "shell.execute_reply": "2025-06-16T19:24:10.743751Z"
    },
    "papermill": {
     "duration": 0.013583,
     "end_time": "2025-06-16T19:24:10.746192",
     "exception": false,
     "start_time": "2025-06-16T19:24:10.732609",
     "status": "completed"
    },
    "tags": []
   },
   "outputs": [],
   "source": [
    "# To avoid duplicates, the eigenvalues of the generator are sorted in ascending order\n",
    "def make_lens_str(k,ls):\n",
    "    lens = \"L(\"+str(k)+\";\"\n",
    "    ls.sort()\n",
    "    for l in ls:\n",
    "        lens += str(l)+\",\"\n",
    "    lens = lens[:-1]\n",
    "    lens += \")\"\n",
    "    return lens"
   ]
  },
  {
   "cell_type": "code",
   "execution_count": 27,
   "id": "b6d4d33c",
   "metadata": {
    "execution": {
     "iopub.execute_input": "2025-06-16T19:24:10.759780Z",
     "iopub.status.busy": "2025-06-16T19:24:10.758766Z",
     "iopub.status.idle": "2025-06-16T19:24:10.763390Z",
     "shell.execute_reply": "2025-06-16T19:24:10.762685Z"
    },
    "papermill": {
     "duration": 0.012652,
     "end_time": "2025-06-16T19:24:10.764778",
     "exception": false,
     "start_time": "2025-06-16T19:24:10.752126",
     "status": "completed"
    },
    "tags": []
   },
   "outputs": [],
   "source": [
    "# File lookup\n",
    "def find_file(file):\n",
    "    for dirname, _, filenames in os.walk('/kaggle/input/degeneracy-tables'):\n",
    "        if file in filenames:\n",
    "            return True\n",
    "    return False"
   ]
  },
  {
   "cell_type": "code",
   "execution_count": 28,
   "id": "e74b90fb",
   "metadata": {
    "execution": {
     "iopub.execute_input": "2025-06-16T19:24:10.779673Z",
     "iopub.status.busy": "2025-06-16T19:24:10.779269Z",
     "iopub.status.idle": "2025-06-16T19:24:10.787018Z",
     "shell.execute_reply": "2025-06-16T19:24:10.786130Z"
    },
    "papermill": {
     "duration": 0.017283,
     "end_time": "2025-06-16T19:24:10.788531",
     "exception": false,
     "start_time": "2025-06-16T19:24:10.771248",
     "status": "completed"
    },
    "tags": []
   },
   "outputs": [],
   "source": [
    "def degeneracy_table(k,ls,deg):\n",
    "    N = len(ls)\n",
    "    lens = make_lens_str(k,ls)\n",
    "    file = 'n=' + str(N) + '.csv'\n",
    "    path = \"/kaggle/input/degeneracy-tables/\" + file\n",
    "    if find_file(file):\n",
    "        data = pd.read_csv(path)\n",
    "    else:\n",
    "        data = pd.DataFrame()\n",
    "    if lens not in data or deg > len(clean_col(data,lens)):\n",
    "        f = F(k,ls)\n",
    "        T = taylor_coeffs(f,deg)\n",
    "        new = pd.DataFrame({lens:T})\n",
    "        data.merge(new, left_index = True, right_index = True, how = 'outer')\n",
    "        data.to_csv('/kaggle/working/degeneracy_tables.csv', index = False)\n",
    "        update_data()\n",
    "    else:\n",
    "        T = clean_col(data,lens)\n",
    "    pd.DataFrame(T)"
   ]
  },
  {
   "cell_type": "code",
   "execution_count": 29,
   "id": "36efecca",
   "metadata": {
    "execution": {
     "iopub.execute_input": "2025-06-16T19:24:10.801537Z",
     "iopub.status.busy": "2025-06-16T19:24:10.801253Z",
     "iopub.status.idle": "2025-06-16T19:24:10.806427Z",
     "shell.execute_reply": "2025-06-16T19:24:10.805534Z"
    },
    "papermill": {
     "duration": 0.013255,
     "end_time": "2025-06-16T19:24:10.807726",
     "exception": false,
     "start_time": "2025-06-16T19:24:10.794471",
     "status": "completed"
    },
    "tags": []
   },
   "outputs": [],
   "source": [
    "# Update dataset\n",
    "def update_data():\n",
    "    with open('/kaggle/working/dataset-metadata.json', 'w') as json_fid:\n",
    "        json_fid.write('{\\n  \"title\": \"Degeneracy Tables\",\\n  \"id\": \"tanvikiran27/degeneracy-tables\",\\n  \"licenses\": [{\"name\": \"CC0-1.0\"}]},\\n \"description\": \"Database edit\"')\n",
    "    !kaggle datasets version -m new"
   ]
  }
 ],
 "metadata": {
  "kaggle": {
   "accelerator": "none",
   "dataSources": [
    {
     "datasetId": 7663550,
     "sourceId": 12167711,
     "sourceType": "datasetVersion"
    }
   ],
   "dockerImageVersionId": 31040,
   "isGpuEnabled": false,
   "isInternetEnabled": true,
   "language": "python",
   "sourceType": "notebook"
  },
  "kernelspec": {
   "display_name": "Python 3",
   "language": "python",
   "name": "python3"
  },
  "language_info": {
   "codemirror_mode": {
    "name": "ipython",
    "version": 3
   },
   "file_extension": ".py",
   "mimetype": "text/x-python",
   "name": "python",
   "nbconvert_exporter": "python",
   "pygments_lexer": "ipython3",
   "version": "3.11.11"
  },
  "papermill": {
   "default_parameters": {},
   "duration": 23.172912,
   "end_time": "2025-06-16T19:24:11.633762",
   "environment_variables": {},
   "exception": null,
   "input_path": "__notebook__.ipynb",
   "output_path": "__notebook__.ipynb",
   "parameters": {},
   "start_time": "2025-06-16T19:23:48.460850",
   "version": "2.6.0"
  }
 },
 "nbformat": 4,
 "nbformat_minor": 5
}
