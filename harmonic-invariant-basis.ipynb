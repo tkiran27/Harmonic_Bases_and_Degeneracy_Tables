{
 "cells": [
  {
   "cell_type": "code",
   "execution_count": 1,
   "id": "24cef440",
   "metadata": {
    "_cell_guid": "b1076dfc-b9ad-4769-8c92-a6c4dae69d19",
    "_uuid": "8f2839f25d086af736a60e9eeb907d3b93b6e0e5",
    "execution": {
     "iopub.execute_input": "2025-06-17T03:41:35.570875Z",
     "iopub.status.busy": "2025-06-17T03:41:35.570576Z",
     "iopub.status.idle": "2025-06-17T03:41:40.234665Z",
     "shell.execute_reply": "2025-06-17T03:41:40.233642Z"
    },
    "papermill": {
     "duration": 4.672628,
     "end_time": "2025-06-17T03:41:40.236420",
     "exception": false,
     "start_time": "2025-06-17T03:41:35.563792",
     "status": "completed"
    },
    "tags": []
   },
   "outputs": [
    {
     "name": "stdout",
     "output_type": "stream",
     "text": [
      "/kaggle/input/degeneracy-tables/degeneracy_tables.csv\n"
     ]
    }
   ],
   "source": [
    "# This Python 3 environment comes with many helpful analytics libraries installed\n",
    "# It is defined by the kaggle/python Docker image: https://github.com/kaggle/docker-python\n",
    "# For example, here's several helpful packages to load\n",
    "# hatch run python -c \"import kaggle; from kaggle.api.kaggle_api_extended import KaggleApi; api = KaggleApi(); api.authenticate(); api.model_list_cli()\"\n",
    "\n",
    "import numpy as np # linear algebra\n",
    "import itertools as it\n",
    "import sympy as sp \n",
    "import pandas as pd\n",
    "from sympy import symbols, Function, diff, conjugate, FiniteSet, simplify, Poly, series, re\n",
    "from sympy import *\n",
    "from sympy.utilities.iterables import partitions\n",
    "from sympy.functions.combinatorial.numbers import nC\n",
    "from sympy.combinatorics.named_groups import CyclicGroup\n",
    "from sympy.matrices import Matrix, eye, zeros, ones, diag, GramSchmidt\n",
    "\n",
    "import os\n",
    "\n",
    "for dirname, _, filenames in os.walk('/kaggle/input/'):\n",
    "    for filename in filenames:\n",
    "        print(os.path.join(dirname, filename))"
   ]
  },
  {
   "cell_type": "code",
   "execution_count": 2,
   "id": "b329d3c5",
   "metadata": {
    "execution": {
     "iopub.execute_input": "2025-06-17T03:41:40.247816Z",
     "iopub.status.busy": "2025-06-17T03:41:40.247393Z",
     "iopub.status.idle": "2025-06-17T03:41:40.584588Z",
     "shell.execute_reply": "2025-06-17T03:41:40.583327Z"
    },
    "papermill": {
     "duration": 0.344783,
     "end_time": "2025-06-17T03:41:40.586214",
     "exception": false,
     "start_time": "2025-06-17T03:41:40.241431",
     "status": "completed"
    },
    "tags": []
   },
   "outputs": [
    {
     "name": "stdout",
     "output_type": "stream",
     "text": [
      "Yay, it worked!\n"
     ]
    }
   ],
   "source": [
    "from kaggle_secrets import UserSecretsClient\n",
    "if os.path.exists('/root/.kaggle/'):\n",
    "    pass\n",
    "else:\n",
    "    os.mkdir('/root/.kaggle/')\n",
    "kaggle_API_key = UserSecretsClient().get_secret(\"key\")\n",
    "\n",
    "with open('/root/.kaggle/kaggle.json', 'w') as fid:\n",
    "    fid.writelines(f'{{\"username\":\"tanvikiran27\",\"key\":\"{kaggle_API_key}\"}}')\n",
    "\n",
    "!chmod 600 /root/.kaggle/kaggle.json\n",
    "print('Yay, it worked!')"
   ]
  },
  {
   "cell_type": "code",
   "execution_count": 3,
   "id": "80bcbf05",
   "metadata": {
    "execution": {
     "iopub.execute_input": "2025-06-17T03:41:40.596826Z",
     "iopub.status.busy": "2025-06-17T03:41:40.596513Z",
     "iopub.status.idle": "2025-06-17T03:41:42.400661Z",
     "shell.execute_reply": "2025-06-17T03:41:42.399513Z"
    },
    "papermill": {
     "duration": 1.811888,
     "end_time": "2025-06-17T03:41:42.402780",
     "exception": false,
     "start_time": "2025-06-17T03:41:40.590892",
     "status": "completed"
    },
    "tags": []
   },
   "outputs": [
    {
     "name": "stdout",
     "output_type": "stream",
     "text": [
      "Dataset URL: https://www.kaggle.com/datasets/tanvikiran27/degeneracy-tables\r\n",
      "License(s): unknown\r\n"
     ]
    }
   ],
   "source": [
    "!kaggle datasets download tanvikiran27/degeneracy-tables\n",
    "import zipfile\n",
    "with zipfile.ZipFile('/kaggle/working/degeneracy-tables.zip') as file:\n",
    "    file.extractall()\n",
    "os.remove('/kaggle/working/degeneracy-tables.zip')"
   ]
  },
  {
   "cell_type": "markdown",
   "id": "998573c0",
   "metadata": {
    "papermill": {
     "duration": 0.007732,
     "end_time": "2025-06-17T03:41:42.418973",
     "exception": false,
     "start_time": "2025-06-17T03:41:42.411241",
     "status": "completed"
    },
    "tags": []
   },
   "source": [
    "$n$ = dimension ($\\mathbb{R}^n$ or $\\mathbb{C}^n$) \\\n",
    "$k$ = real degree \\\n",
    "$(p,q)$ = complex bidegree"
   ]
  },
  {
   "cell_type": "code",
   "execution_count": 4,
   "id": "32eb4522",
   "metadata": {
    "execution": {
     "iopub.execute_input": "2025-06-17T03:41:42.431842Z",
     "iopub.status.busy": "2025-06-17T03:41:42.431018Z",
     "iopub.status.idle": "2025-06-17T03:41:42.601445Z",
     "shell.execute_reply": "2025-06-17T03:41:42.600627Z"
    },
    "papermill": {
     "duration": 0.177959,
     "end_time": "2025-06-17T03:41:42.603078",
     "exception": false,
     "start_time": "2025-06-17T03:41:42.425119",
     "status": "completed"
    },
    "tags": []
   },
   "outputs": [],
   "source": [
    "####### Change constants here #######\n",
    "n = 3\n",
    "k = 3\n",
    "p = 2\n",
    "q = 1\n",
    "#####################################\n",
    "\n",
    "# Setting up symbols\n",
    "f = symbols('f', cls = Function)\n",
    "x,y,z,w,zeta = symbols('x y z w zeta')\n",
    "zs = symbols(f'z1:{n+1}', complex=True)\n",
    "zbar = symbols(f'zbar1:{n+1}', complex=True)\n",
    "ls = symbols(f'l1:{n+1}', int=True)\n",
    "\n",
    "# newton potential (R^n) \n",
    "mag_real = 0\n",
    "for i in range(n):\n",
    "    mag_real += zs[i]**2 ## Euclidean norm squared\n",
    "np_real = sp.sqrt(mag_real)**(2-n)\n",
    "\n",
    "# newton potential (C^n)\n",
    "mag_complex = 0\n",
    "for i in range(n):\n",
    "    mag_complex += zs[i]*zbar[i] ## Complex modulus squared\n",
    "np_complex = sp.sqrt(mag_complex)**(2-2*n)"
   ]
  },
  {
   "cell_type": "code",
   "execution_count": 5,
   "id": "7114d911",
   "metadata": {
    "execution": {
     "iopub.execute_input": "2025-06-17T03:41:42.613999Z",
     "iopub.status.busy": "2025-06-17T03:41:42.613390Z",
     "iopub.status.idle": "2025-06-17T03:41:42.647301Z",
     "shell.execute_reply": "2025-06-17T03:41:42.646406Z"
    },
    "papermill": {
     "duration": 0.041256,
     "end_time": "2025-06-17T03:41:42.649008",
     "exception": false,
     "start_time": "2025-06-17T03:41:42.607752",
     "status": "completed"
    },
    "tags": []
   },
   "outputs": [
    {
     "data": {
      "text/latex": [
       "$\\displaystyle \\left\\{\\left[\\begin{matrix}1 & 0\\\\0 & 1\\end{matrix}\\right], \\left[\\begin{matrix}e^{- \\frac{4 i \\pi}{5}} & 0\\\\0 & e^{\\frac{4 i \\pi}{5}}\\end{matrix}\\right], \\left[\\begin{matrix}e^{- \\frac{2 i \\pi}{5}} & 0\\\\0 & e^{\\frac{2 i \\pi}{5}}\\end{matrix}\\right], \\left[\\begin{matrix}e^{\\frac{2 i \\pi}{5}} & 0\\\\0 & e^{- \\frac{2 i \\pi}{5}}\\end{matrix}\\right], \\left[\\begin{matrix}e^{\\frac{4 i \\pi}{5}} & 0\\\\0 & e^{- \\frac{4 i \\pi}{5}}\\end{matrix}\\right]\\right\\}$"
      ],
      "text/plain": [
       "{Matrix([\n",
       "[1, 0],\n",
       "[0, 1]]), Matrix([\n",
       "[exp(-4*I*pi/5),             0],\n",
       "[             0, exp(4*I*pi/5)]]), Matrix([\n",
       "[exp(-2*I*pi/5),             0],\n",
       "[             0, exp(2*I*pi/5)]]), Matrix([\n",
       "[exp(2*I*pi/5),              0],\n",
       "[            0, exp(-2*I*pi/5)]]), Matrix([\n",
       "[exp(4*I*pi/5),              0],\n",
       "[            0, exp(-4*I*pi/5)]])}"
      ]
     },
     "execution_count": 5,
     "metadata": {},
     "output_type": "execute_result"
    }
   ],
   "source": [
    "# Cyclic group (roots of unity)\n",
    "m=5\n",
    "zeta = exp(2*pi*I/m)\n",
    "g = diag(zeta, zeta**(-1))\n",
    "G = FiniteSet()\n",
    "for i in range(m):\n",
    "    G += FiniteSet(g**i)\n",
    "G"
   ]
  },
  {
   "cell_type": "code",
   "execution_count": 6,
   "id": "7f7adb93",
   "metadata": {
    "execution": {
     "iopub.execute_input": "2025-06-17T03:41:42.660018Z",
     "iopub.status.busy": "2025-06-17T03:41:42.659649Z",
     "iopub.status.idle": "2025-06-17T03:41:42.665166Z",
     "shell.execute_reply": "2025-06-17T03:41:42.664345Z"
    },
    "papermill": {
     "duration": 0.012732,
     "end_time": "2025-06-17T03:41:42.666606",
     "exception": false,
     "start_time": "2025-06-17T03:41:42.653874",
     "status": "completed"
    },
    "tags": []
   },
   "outputs": [],
   "source": [
    "# Multi index differentiation\n",
    "def D(f,alpha,zs):\n",
    "    df = f\n",
    "    for i in range(n):\n",
    "        df = diff(df,(zs[i],alpha[i]))\n",
    "    return df"
   ]
  },
  {
   "cell_type": "code",
   "execution_count": 7,
   "id": "2d37d692",
   "metadata": {
    "execution": {
     "iopub.execute_input": "2025-06-17T03:41:42.677583Z",
     "iopub.status.busy": "2025-06-17T03:41:42.676867Z",
     "iopub.status.idle": "2025-06-17T03:41:42.683515Z",
     "shell.execute_reply": "2025-06-17T03:41:42.682728Z"
    },
    "papermill": {
     "duration": 0.01354,
     "end_time": "2025-06-17T03:41:42.684866",
     "exception": false,
     "start_time": "2025-06-17T03:41:42.671326",
     "status": "completed"
    },
    "tags": []
   },
   "outputs": [],
   "source": [
    "# Returns valid n-tuples\n",
    "# https://www.geeksforgeeks.org/python-program-to-convert-dictionary-to-list-by-repeating-keys-corresponding-value-times/\n",
    "def get_alpha_beta(deg):\n",
    "    alphas = FiniteSet()\n",
    "    for part in partitions(deg, m=n):\n",
    "        part = list(it.chain.from_iterable(it.repeat(k, v) for k, v in part.items()))\n",
    "        while len(part) < n:\n",
    "            part.append(0)\n",
    "        for perm in it.permutations(part):\n",
    "            alphas += FiniteSet(perm)\n",
    "    return alphas"
   ]
  },
  {
   "cell_type": "code",
   "execution_count": 8,
   "id": "08826e8c",
   "metadata": {
    "execution": {
     "iopub.execute_input": "2025-06-17T03:41:42.695900Z",
     "iopub.status.busy": "2025-06-17T03:41:42.695092Z",
     "iopub.status.idle": "2025-06-17T03:41:42.701838Z",
     "shell.execute_reply": "2025-06-17T03:41:42.701012Z"
    },
    "papermill": {
     "duration": 0.013995,
     "end_time": "2025-06-17T03:41:42.703540",
     "exception": false,
     "start_time": "2025-06-17T03:41:42.689545",
     "status": "completed"
    },
    "tags": []
   },
   "outputs": [],
   "source": [
    "# Turns rational functions in our basis into polynomials\n",
    "def make_polynomial(f, mag):\n",
    "    f = sp.numer(f).subs(mag, x)\n",
    "    while f.is_polynomial(zs,zbar,x) == False:\n",
    "        f = simplify(f * x)\n",
    "        f = sp.numer(f).subs(mag, x)\n",
    "    return expand(f.subs(x,abs(z)**2))"
   ]
  },
  {
   "cell_type": "code",
   "execution_count": 9,
   "id": "75016966",
   "metadata": {
    "execution": {
     "iopub.execute_input": "2025-06-17T03:41:42.721777Z",
     "iopub.status.busy": "2025-06-17T03:41:42.720951Z",
     "iopub.status.idle": "2025-06-17T03:41:42.725369Z",
     "shell.execute_reply": "2025-06-17T03:41:42.724566Z"
    },
    "papermill": {
     "duration": 0.014826,
     "end_time": "2025-06-17T03:41:42.726765",
     "exception": false,
     "start_time": "2025-06-17T03:41:42.711939",
     "status": "completed"
    },
    "tags": []
   },
   "outputs": [],
   "source": [
    "# For H_k(R^n) *NOT C^n\n",
    "def real_dim():\n",
    "    return nC(n+k-1,k) - nC(n+k-3,k-2)"
   ]
  },
  {
   "cell_type": "code",
   "execution_count": 10,
   "id": "07e181d3",
   "metadata": {
    "execution": {
     "iopub.execute_input": "2025-06-17T03:41:42.737173Z",
     "iopub.status.busy": "2025-06-17T03:41:42.736868Z",
     "iopub.status.idle": "2025-06-17T03:41:42.741131Z",
     "shell.execute_reply": "2025-06-17T03:41:42.740409Z"
    },
    "papermill": {
     "duration": 0.011044,
     "end_time": "2025-06-17T03:41:42.742515",
     "exception": false,
     "start_time": "2025-06-17T03:41:42.731471",
     "status": "completed"
    },
    "tags": []
   },
   "outputs": [],
   "source": [
    "# For H_k(C^n)\n",
    "def dim_H_k():\n",
    "    return nC(2*n+k-1,k) - nC(2*n+k-3,k-2)"
   ]
  },
  {
   "cell_type": "code",
   "execution_count": 11,
   "id": "ff7ba4c1",
   "metadata": {
    "execution": {
     "iopub.execute_input": "2025-06-17T03:41:42.753643Z",
     "iopub.status.busy": "2025-06-17T03:41:42.752832Z",
     "iopub.status.idle": "2025-06-17T03:41:42.758242Z",
     "shell.execute_reply": "2025-06-17T03:41:42.757425Z"
    },
    "papermill": {
     "duration": 0.012292,
     "end_time": "2025-06-17T03:41:42.759592",
     "exception": false,
     "start_time": "2025-06-17T03:41:42.747300",
     "status": "completed"
    },
    "tags": []
   },
   "outputs": [],
   "source": [
    "# For H_p,q(C^n)\n",
    "def dim_H_pq():\n",
    "    return nC(n+p-1,p)*nC(n+q-1,q) - nC(n+p-2,p-1)*nC(n+q-2,q-1)"
   ]
  },
  {
   "cell_type": "code",
   "execution_count": 12,
   "id": "f279c9b0",
   "metadata": {
    "execution": {
     "iopub.execute_input": "2025-06-17T03:41:42.770390Z",
     "iopub.status.busy": "2025-06-17T03:41:42.770011Z",
     "iopub.status.idle": "2025-06-17T03:41:42.776888Z",
     "shell.execute_reply": "2025-06-17T03:41:42.776038Z"
    },
    "papermill": {
     "duration": 0.014396,
     "end_time": "2025-06-17T03:41:42.778694",
     "exception": false,
     "start_time": "2025-06-17T03:41:42.764298",
     "status": "completed"
    },
    "tags": []
   },
   "outputs": [],
   "source": [
    "# Finding basis for H_k(R^n) - see Axler's Harmonic Function Theory p. 92\n",
    "def real_basis():\n",
    "    basis = FiniteSet()\n",
    "    alphas = get_alpha_beta(k)\n",
    "    for a in alphas:\n",
    "        if a[0] > 1:\n",
    "            alphas -= FiniteSet(a)\n",
    "    print(f'# of elements = {len(alphas)}')\n",
    "    print(f'Dimension from combinatorial expression = {real_dim()} \\n')\n",
    "    for a in alphas:\n",
    "        d = D(np_real, a, zs)\n",
    "        d = make_polynomial(d, mag_real)\n",
    "        print(d, '\\n')\n",
    "        basis += FiniteSet(d)\n",
    "    return basis"
   ]
  },
  {
   "cell_type": "code",
   "execution_count": 13,
   "id": "5d404744",
   "metadata": {
    "execution": {
     "iopub.execute_input": "2025-06-17T03:41:42.795988Z",
     "iopub.status.busy": "2025-06-17T03:41:42.795350Z",
     "iopub.status.idle": "2025-06-17T03:41:42.801243Z",
     "shell.execute_reply": "2025-06-17T03:41:42.800444Z"
    },
    "papermill": {
     "duration": 0.015384,
     "end_time": "2025-06-17T03:41:42.803020",
     "exception": false,
     "start_time": "2025-06-17T03:41:42.787636",
     "status": "completed"
    },
    "tags": []
   },
   "outputs": [],
   "source": [
    "# Finding basis for H_p,q(C^n)\n",
    "def basis_H_pq():\n",
    "    basis = FiniteSet()\n",
    "    alphas = get_alpha_beta(p)\n",
    "    betas = get_alpha_beta(q)\n",
    "    ab = FiniteSet()\n",
    "    for a in alphas:\n",
    "        for b in betas:\n",
    "            if a[0]==0 or b[0]==0:\n",
    "                ab += FiniteSet((a,b))\n",
    "    print(f'# of elements = {len(ab)}')\n",
    "    print(f'Dimension from combinatorial expression = {dim_H_pq()} \\n')\n",
    "    for (a,b) in ab:\n",
    "        d = D(np_complex,b,zs)\n",
    "        d = D(d,a,zbar)\n",
    "        d = make_polynomial(d, mag_complex)\n",
    "        print(d, '\\n')\n",
    "        basis += FiniteSet(d)\n",
    "    return basis"
   ]
  },
  {
   "cell_type": "code",
   "execution_count": 14,
   "id": "777290e9",
   "metadata": {
    "execution": {
     "iopub.execute_input": "2025-06-17T03:41:42.821178Z",
     "iopub.status.busy": "2025-06-17T03:41:42.820330Z",
     "iopub.status.idle": "2025-06-17T03:41:42.825032Z",
     "shell.execute_reply": "2025-06-17T03:41:42.824242Z"
    },
    "papermill": {
     "duration": 0.015379,
     "end_time": "2025-06-17T03:41:42.826704",
     "exception": false,
     "start_time": "2025-06-17T03:41:42.811325",
     "status": "completed"
    },
    "tags": []
   },
   "outputs": [],
   "source": [
    "# Regular complex Laplacian\n",
    "def box(f):\n",
    "    laplacian = 0\n",
    "    for i in range(n):\n",
    "        laplacian += diff(diff(f,zbar[i]),zs[i])\n",
    "    return laplacian"
   ]
  },
  {
   "cell_type": "code",
   "execution_count": 15,
   "id": "f529f1b4",
   "metadata": {
    "execution": {
     "iopub.execute_input": "2025-06-17T03:41:42.844776Z",
     "iopub.status.busy": "2025-06-17T03:41:42.844169Z",
     "iopub.status.idle": "2025-06-17T03:41:42.850404Z",
     "shell.execute_reply": "2025-06-17T03:41:42.849577Z"
    },
    "papermill": {
     "duration": 0.016867,
     "end_time": "2025-06-17T03:41:42.852019",
     "exception": false,
     "start_time": "2025-06-17T03:41:42.835152",
     "status": "completed"
    },
    "tags": []
   },
   "outputs": [],
   "source": [
    "# Kohn Laplacian as given in 2018 REU paper\n",
    "def box_b(f):\n",
    "    box_b = 0\n",
    "    # first term\n",
    "    for i in range(n): \n",
    "        box_b += -2*diff(diff(f,zbar[i]), zs[i])\n",
    "        \n",
    "    # second term\n",
    "    for i in range(n): \n",
    "        box_b += 2*diff(zs[i]*q*f, zs[i])\n",
    "        \n",
    "    # third term (double sum)\n",
    "    for i in range(n): \n",
    "        for a in range(n):\n",
    "            box_b += 2*diff(zs[a]*zbar[i]*diff(f,zbar[i]), zs[a])\n",
    "            \n",
    "    # fourth term (double sum)\n",
    "    for i in range(n): \n",
    "        for a in range(n):\n",
    "            box_b += -2*diff(zs[a]*zbar[i]*zs[i]*q*f, zs[a])\n",
    "    return box_b"
   ]
  },
  {
   "cell_type": "code",
   "execution_count": 16,
   "id": "db78a32c",
   "metadata": {
    "execution": {
     "iopub.execute_input": "2025-06-17T03:41:42.869648Z",
     "iopub.status.busy": "2025-06-17T03:41:42.869331Z",
     "iopub.status.idle": "2025-06-17T03:41:42.873718Z",
     "shell.execute_reply": "2025-06-17T03:41:42.872840Z"
    },
    "papermill": {
     "duration": 0.015086,
     "end_time": "2025-06-17T03:41:42.875464",
     "exception": false,
     "start_time": "2025-06-17T03:41:42.860378",
     "status": "completed"
    },
    "tags": []
   },
   "outputs": [],
   "source": [
    "# Just in case :)\n",
    "def is_harmonic(f):\n",
    "    return (box_b(f)/f).simplify().is_polynomial(mag_complex)"
   ]
  },
  {
   "cell_type": "code",
   "execution_count": 17,
   "id": "956aefc2",
   "metadata": {
    "execution": {
     "iopub.execute_input": "2025-06-17T03:41:42.893016Z",
     "iopub.status.busy": "2025-06-17T03:41:42.892721Z",
     "iopub.status.idle": "2025-06-17T03:41:42.898106Z",
     "shell.execute_reply": "2025-06-17T03:41:42.897332Z"
    },
    "papermill": {
     "duration": 0.015682,
     "end_time": "2025-06-17T03:41:42.899504",
     "exception": false,
     "start_time": "2025-06-17T03:41:42.883822",
     "status": "completed"
    },
    "tags": []
   },
   "outputs": [],
   "source": [
    "# Returns the Ikeda generating function for a given lens space\n",
    "def F(k,ls):\n",
    "    F = 0\n",
    "    zeta = exp(2*pi*I/k)\n",
    "    for m in range(k):\n",
    "        frac = 1-z*w\n",
    "        for i in range(len(ls)):\n",
    "            frac /= (z-zeta**(-m*ls[i]))*(w-zeta**(m*ls[i]))\n",
    "        F += frac\n",
    "    F = (1/k)*F\n",
    "    return F"
   ]
  },
  {
   "cell_type": "code",
   "execution_count": 18,
   "id": "2c15b819",
   "metadata": {
    "execution": {
     "iopub.execute_input": "2025-06-17T03:41:42.910403Z",
     "iopub.status.busy": "2025-06-17T03:41:42.909744Z",
     "iopub.status.idle": "2025-06-17T03:41:42.917187Z",
     "shell.execute_reply": "2025-06-17T03:41:42.916390Z"
    },
    "papermill": {
     "duration": 0.014332,
     "end_time": "2025-06-17T03:41:42.918568",
     "exception": false,
     "start_time": "2025-06-17T03:41:42.904236",
     "status": "completed"
    },
    "tags": []
   },
   "outputs": [],
   "source": [
    "# Coefficients from Taylor series expansion for a two-variable function- read more at\n",
    "# https://math.libretexts.org/Bookshelves/Calculus/Supplemental_Modules_(Calculus)/Multivariable_Calculus/3%3A_Topics_in_Partial_Derivatives/Taylor__Polynomials_of_Functions_of_Two_Variables\n",
    "def taylor_coeffs(f,deg):\n",
    "    table = []\n",
    "    for i in range(deg+1):\n",
    "        row = []\n",
    "        for j in range(deg+1-i):\n",
    "            d = diff(f,w,j)\n",
    "            d = diff(d,z,i)\n",
    "            d = lambdify([z,w],d)\n",
    "            term = re(d(0,0)/(factorial(i)*factorial(j))).round()\n",
    "            row.append(term)\n",
    "        while len(row) < deg+1:\n",
    "            row.append('-')\n",
    "        table.append(row)\n",
    "    return table"
   ]
  },
  {
   "cell_type": "code",
   "execution_count": 19,
   "id": "a92406b2",
   "metadata": {
    "execution": {
     "iopub.execute_input": "2025-06-17T03:41:42.929340Z",
     "iopub.status.busy": "2025-06-17T03:41:42.928566Z",
     "iopub.status.idle": "2025-06-17T03:41:42.934477Z",
     "shell.execute_reply": "2025-06-17T03:41:42.933733Z"
    },
    "papermill": {
     "duration": 0.012494,
     "end_time": "2025-06-17T03:41:42.935763",
     "exception": false,
     "start_time": "2025-06-17T03:41:42.923269",
     "status": "completed"
    },
    "tags": []
   },
   "outputs": [],
   "source": [
    "# Gets a single degeneracy table (as a list of arrays) from the dataset\n",
    "def clean_col(df,col):\n",
    "    table = df[col].to_list()\n",
    "    while type(table[-1]) is float:\n",
    "        table = table[:-1]\n",
    "    return table"
   ]
  },
  {
   "cell_type": "code",
   "execution_count": 20,
   "id": "9c9df48d",
   "metadata": {
    "execution": {
     "iopub.execute_input": "2025-06-17T03:41:42.946254Z",
     "iopub.status.busy": "2025-06-17T03:41:42.945640Z",
     "iopub.status.idle": "2025-06-17T03:41:42.950331Z",
     "shell.execute_reply": "2025-06-17T03:41:42.949577Z"
    },
    "papermill": {
     "duration": 0.011269,
     "end_time": "2025-06-17T03:41:42.951589",
     "exception": false,
     "start_time": "2025-06-17T03:41:42.940320",
     "status": "completed"
    },
    "tags": []
   },
   "outputs": [],
   "source": [
    "# Turns the order and l values into a string \n",
    "# To avoid duplicates, the eigenvalues of the generator are sorted in ascending order\n",
    "def make_lens_str(k,ls):\n",
    "    lens = \"L(\"+str(k)+\";\"\n",
    "    ls.sort()\n",
    "    for l in ls:\n",
    "        lens += str(l)+\",\"\n",
    "    lens = lens[:-1]\n",
    "    lens += \")\"\n",
    "    return lens"
   ]
  },
  {
   "cell_type": "code",
   "execution_count": 21,
   "id": "b15509b0",
   "metadata": {
    "execution": {
     "iopub.execute_input": "2025-06-17T03:41:42.962143Z",
     "iopub.status.busy": "2025-06-17T03:41:42.961396Z",
     "iopub.status.idle": "2025-06-17T03:41:42.966341Z",
     "shell.execute_reply": "2025-06-17T03:41:42.965591Z"
    },
    "papermill": {
     "duration": 0.011446,
     "end_time": "2025-06-17T03:41:42.967659",
     "exception": false,
     "start_time": "2025-06-17T03:41:42.956213",
     "status": "completed"
    },
    "tags": []
   },
   "outputs": [],
   "source": [
    "# File lookup\n",
    "def find_file(file):\n",
    "    for dirname, _, filenames in os.walk('/kaggle/input/degeneracy-tables'):\n",
    "        if file in filenames:\n",
    "            return True\n",
    "    return False"
   ]
  },
  {
   "cell_type": "code",
   "execution_count": 22,
   "id": "bd8560ba",
   "metadata": {
    "execution": {
     "iopub.execute_input": "2025-06-17T03:41:42.978454Z",
     "iopub.status.busy": "2025-06-17T03:41:42.977782Z",
     "iopub.status.idle": "2025-06-17T03:41:42.985822Z",
     "shell.execute_reply": "2025-06-17T03:41:42.985094Z"
    },
    "papermill": {
     "duration": 0.014937,
     "end_time": "2025-06-17T03:41:42.987246",
     "exception": false,
     "start_time": "2025-06-17T03:41:42.972309",
     "status": "completed"
    },
    "tags": []
   },
   "outputs": [],
   "source": [
    "def degeneracy_table(k,ls,deg):\n",
    "    N = len(ls)\n",
    "    lens = make_lens_str(k,ls)\n",
    "    file = 'n=' + str(N) + '.csv'\n",
    "    path = \"/kaggle/working/\" + file\n",
    "    if find_file(file):\n",
    "        data = pd.read_csv(path)\n",
    "    else:\n",
    "        data = pd.DataFrame()\n",
    "    if lens not in data or deg > len(clean_col(data,lens)):\n",
    "        f = F(k,ls)\n",
    "        T = taylor_coeffs(f,deg)\n",
    "        new = pd.DataFrame({lens:T})\n",
    "        data.merge(new, left_index = True, right_index = True, how = 'outer')\n",
    "        data.to_csv(path, index = False)\n",
    "        update_data()\n",
    "    else:\n",
    "        T = clean_col(data,lens)\n",
    "    return pd.DataFrame(T)"
   ]
  },
  {
   "cell_type": "code",
   "execution_count": 23,
   "id": "5496dbad",
   "metadata": {
    "execution": {
     "iopub.execute_input": "2025-06-17T03:41:42.998299Z",
     "iopub.status.busy": "2025-06-17T03:41:42.997471Z",
     "iopub.status.idle": "2025-06-17T03:41:43.003673Z",
     "shell.execute_reply": "2025-06-17T03:41:43.002881Z"
    },
    "papermill": {
     "duration": 0.013247,
     "end_time": "2025-06-17T03:41:43.005109",
     "exception": false,
     "start_time": "2025-06-17T03:41:42.991862",
     "status": "completed"
    },
    "tags": []
   },
   "outputs": [],
   "source": [
    "# Update dataset\n",
    "def update_data():\n",
    "    print(\"Update.\")\n",
    "    with open('/kaggle/working/dataset-metadata.json', 'w') as json_fid:\n",
    "        json_fid.write('{\\n  \"title\": \"Degeneracy Tables\",\\n  \"id\": \"tanvikiran27/degeneracy-tables\",\\n  \"licenses\": [{\"name\": \"CC0-1.0\"}]},\\n \"description\": \"Database edit\"')\n",
    "    !kaggle datasets version -m new"
   ]
  },
  {
   "cell_type": "code",
   "execution_count": 24,
   "id": "9980666e",
   "metadata": {
    "execution": {
     "iopub.execute_input": "2025-06-17T03:41:43.015547Z",
     "iopub.status.busy": "2025-06-17T03:41:43.015258Z",
     "iopub.status.idle": "2025-06-17T03:41:47.589570Z",
     "shell.execute_reply": "2025-06-17T03:41:47.588534Z"
    },
    "papermill": {
     "duration": 4.58135,
     "end_time": "2025-06-17T03:41:47.591146",
     "exception": false,
     "start_time": "2025-06-17T03:41:43.009796",
     "status": "completed"
    },
    "tags": []
   },
   "outputs": [
    {
     "name": "stdout",
     "output_type": "stream",
     "text": [
      "Update.\n",
      "Extra data: line 4 column 37 (char 112)\r\n",
      "Done!\n"
     ]
    },
    {
     "data": {
      "text/html": [
       "<div>\n",
       "<style scoped>\n",
       "    .dataframe tbody tr th:only-of-type {\n",
       "        vertical-align: middle;\n",
       "    }\n",
       "\n",
       "    .dataframe tbody tr th {\n",
       "        vertical-align: top;\n",
       "    }\n",
       "\n",
       "    .dataframe thead th {\n",
       "        text-align: right;\n",
       "    }\n",
       "</style>\n",
       "<table border=\"1\" class=\"dataframe\">\n",
       "  <thead>\n",
       "    <tr style=\"text-align: right;\">\n",
       "      <th></th>\n",
       "      <th>0</th>\n",
       "      <th>1</th>\n",
       "      <th>2</th>\n",
       "      <th>3</th>\n",
       "      <th>4</th>\n",
       "      <th>5</th>\n",
       "    </tr>\n",
       "  </thead>\n",
       "  <tbody>\n",
       "    <tr>\n",
       "      <th>0</th>\n",
       "      <td>1</td>\n",
       "      <td>0</td>\n",
       "      <td>1</td>\n",
       "      <td>2</td>\n",
       "      <td>1</td>\n",
       "      <td>2</td>\n",
       "    </tr>\n",
       "    <tr>\n",
       "      <th>1</th>\n",
       "      <td>0</td>\n",
       "      <td>1</td>\n",
       "      <td>2</td>\n",
       "      <td>1</td>\n",
       "      <td>2</td>\n",
       "      <td>-</td>\n",
       "    </tr>\n",
       "    <tr>\n",
       "      <th>2</th>\n",
       "      <td>1</td>\n",
       "      <td>2</td>\n",
       "      <td>1</td>\n",
       "      <td>2</td>\n",
       "      <td>-</td>\n",
       "      <td>-</td>\n",
       "    </tr>\n",
       "    <tr>\n",
       "      <th>3</th>\n",
       "      <td>2</td>\n",
       "      <td>1</td>\n",
       "      <td>2</td>\n",
       "      <td>-</td>\n",
       "      <td>-</td>\n",
       "      <td>-</td>\n",
       "    </tr>\n",
       "    <tr>\n",
       "      <th>4</th>\n",
       "      <td>1</td>\n",
       "      <td>2</td>\n",
       "      <td>-</td>\n",
       "      <td>-</td>\n",
       "      <td>-</td>\n",
       "      <td>-</td>\n",
       "    </tr>\n",
       "    <tr>\n",
       "      <th>5</th>\n",
       "      <td>2</td>\n",
       "      <td>-</td>\n",
       "      <td>-</td>\n",
       "      <td>-</td>\n",
       "      <td>-</td>\n",
       "      <td>-</td>\n",
       "    </tr>\n",
       "  </tbody>\n",
       "</table>\n",
       "</div>"
      ],
      "text/plain": [
       "   0  1  2  3  4  5\n",
       "0  1  0  1  2  1  2\n",
       "1  0  1  2  1  2  -\n",
       "2  1  2  1  2  -  -\n",
       "3  2  1  2  -  -  -\n",
       "4  1  2  -  -  -  -\n",
       "5  2  -  -  -  -  -"
      ]
     },
     "execution_count": 24,
     "metadata": {},
     "output_type": "execute_result"
    }
   ],
   "source": [
    "T = degeneracy_table(3,[1,-1],5)\n",
    "print(\"Done!\")\n",
    "T"
   ]
  }
 ],
 "metadata": {
  "kaggle": {
   "accelerator": "none",
   "dataSources": [
    {
     "datasetId": 7663550,
     "isSourceIdPinned": false,
     "sourceId": 12167711,
     "sourceType": "datasetVersion"
    }
   ],
   "dockerImageVersionId": 31040,
   "isGpuEnabled": false,
   "isInternetEnabled": true,
   "language": "python",
   "sourceType": "notebook"
  },
  "kernelspec": {
   "display_name": "Python 3",
   "language": "python",
   "name": "python3"
  },
  "language_info": {
   "codemirror_mode": {
    "name": "ipython",
    "version": 3
   },
   "file_extension": ".py",
   "mimetype": "text/x-python",
   "name": "python",
   "nbconvert_exporter": "python",
   "pygments_lexer": "ipython3",
   "version": "3.11.11"
  },
  "papermill": {
   "default_parameters": {},
   "duration": 18.306089,
   "end_time": "2025-06-17T03:41:48.415795",
   "environment_variables": {},
   "exception": null,
   "input_path": "__notebook__.ipynb",
   "output_path": "__notebook__.ipynb",
   "parameters": {},
   "start_time": "2025-06-17T03:41:30.109706",
   "version": "2.6.0"
  }
 },
 "nbformat": 4,
 "nbformat_minor": 5
}
