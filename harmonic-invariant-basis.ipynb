{
 "cells": [
  {
   "cell_type": "code",
   "execution_count": 1,
   "id": "d5bd42da",
   "metadata": {
    "_cell_guid": "b1076dfc-b9ad-4769-8c92-a6c4dae69d19",
    "_uuid": "8f2839f25d086af736a60e9eeb907d3b93b6e0e5",
    "execution": {
     "iopub.execute_input": "2025-06-10T15:39:13.461148Z",
     "iopub.status.busy": "2025-06-10T15:39:13.460766Z",
     "iopub.status.idle": "2025-06-10T15:39:16.439774Z",
     "shell.execute_reply": "2025-06-10T15:39:16.438893Z"
    },
    "papermill": {
     "duration": 2.985978,
     "end_time": "2025-06-10T15:39:16.441544",
     "exception": false,
     "start_time": "2025-06-10T15:39:13.455566",
     "status": "completed"
    },
    "tags": []
   },
   "outputs": [],
   "source": [
    "# This Python 3 environment comes with many helpful analytics libraries installed\n",
    "# It is defined by the kaggle/python Docker image: https://github.com/kaggle/docker-python\n",
    "# For example, here's several helpful packages to load\n",
    "\n",
    "import numpy as np # linear algebra\n",
    "import itertools as it\n",
    "import sympy as sp \n",
    "from sympy import symbols, Function, diff, conjugate, FiniteSet, simplify, Poly\n",
    "from sympy import *\n",
    "from sympy.utilities.iterables import partitions\n",
    "from sympy.functions.combinatorial.numbers import nC"
   ]
  },
  {
   "cell_type": "markdown",
   "id": "a4fc3643",
   "metadata": {
    "papermill": {
     "duration": 0.002877,
     "end_time": "2025-06-10T15:39:16.448160",
     "exception": false,
     "start_time": "2025-06-10T15:39:16.445283",
     "status": "completed"
    },
    "tags": []
   },
   "source": [
    "$n$ = dimension ($\\mathbb{R}^n$ or $\\mathbb{C}^n$) \\\n",
    "$k$ = real degree \\\n",
    "$(p,q)$ = complex bidegree"
   ]
  },
  {
   "cell_type": "code",
   "execution_count": 2,
   "id": "8b5b53a1",
   "metadata": {
    "execution": {
     "iopub.execute_input": "2025-06-10T15:39:16.455703Z",
     "iopub.status.busy": "2025-06-10T15:39:16.455331Z",
     "iopub.status.idle": "2025-06-10T15:39:16.619075Z",
     "shell.execute_reply": "2025-06-10T15:39:16.618275Z"
    },
    "papermill": {
     "duration": 0.169353,
     "end_time": "2025-06-10T15:39:16.620661",
     "exception": false,
     "start_time": "2025-06-10T15:39:16.451308",
     "status": "completed"
    },
    "tags": []
   },
   "outputs": [],
   "source": [
    "n = 3\n",
    "k = 2\n",
    "p = 2\n",
    "q = 1\n",
    "f = symbols('f', cls = Function)\n",
    "x,y,z = symbols('x y z')\n",
    "zs = symbols(f'z1:{n+1}', complex=True)\n",
    "zbar = symbols(f'zbar1:{n+1}', complex=True)\n",
    "\n",
    "# Newton potential (R^n)\n",
    "mag_real = 0\n",
    "for i in range(n):\n",
    "    mag_real += zs[i]**2 ## Euclidean norm squared\n",
    "np_real = sp.sqrt(mag_real)**(2-n)\n",
    "\n",
    "# Newton potential (C^n)\n",
    "mag_complex = 0\n",
    "for i in range(n):\n",
    "    mag_complex += zs[i]*zbar[i] ## Complex modulus squared\n",
    "np_complex = sp.sqrt(mag_complex)**(2-2*n)"
   ]
  },
  {
   "cell_type": "code",
   "execution_count": 3,
   "id": "37766d72",
   "metadata": {
    "execution": {
     "iopub.execute_input": "2025-06-10T15:39:16.628381Z",
     "iopub.status.busy": "2025-06-10T15:39:16.628055Z",
     "iopub.status.idle": "2025-06-10T15:39:16.632868Z",
     "shell.execute_reply": "2025-06-10T15:39:16.632052Z"
    },
    "papermill": {
     "duration": 0.01048,
     "end_time": "2025-06-10T15:39:16.634480",
     "exception": false,
     "start_time": "2025-06-10T15:39:16.624000",
     "status": "completed"
    },
    "tags": []
   },
   "outputs": [],
   "source": [
    "# Multi index differentiation\n",
    "def D(f,alpha,zs):\n",
    "    df = f\n",
    "    for i in range(n):\n",
    "        df = diff(df,(zs[i],alpha[i]))\n",
    "    return df"
   ]
  },
  {
   "cell_type": "code",
   "execution_count": 4,
   "id": "26b0577c",
   "metadata": {
    "execution": {
     "iopub.execute_input": "2025-06-10T15:39:16.642203Z",
     "iopub.status.busy": "2025-06-10T15:39:16.641827Z",
     "iopub.status.idle": "2025-06-10T15:39:16.647441Z",
     "shell.execute_reply": "2025-06-10T15:39:16.646590Z"
    },
    "papermill": {
     "duration": 0.010959,
     "end_time": "2025-06-10T15:39:16.648830",
     "exception": false,
     "start_time": "2025-06-10T15:39:16.637871",
     "status": "completed"
    },
    "tags": []
   },
   "outputs": [],
   "source": [
    "# Returns valid n-tuples\n",
    "# https://www.geeksforgeeks.org/python-program-to-convert-dictionary-to-list-by-repeating-keys-corresponding-value-times/\n",
    "\n",
    "def get_alpha_beta(deg):\n",
    "    alphas = FiniteSet()\n",
    "    for part in partitions(deg, m=n):\n",
    "        part = list(it.chain.from_iterable(it.repeat(k, v) for k, v in part.items()))\n",
    "        while len(part) < n:\n",
    "            part.append(0)\n",
    "        for perm in it.permutations(part):\n",
    "            alphas += FiniteSet(perm)\n",
    "    return alphas"
   ]
  },
  {
   "cell_type": "code",
   "execution_count": 5,
   "id": "91ae77f5",
   "metadata": {
    "execution": {
     "iopub.execute_input": "2025-06-10T15:39:16.656168Z",
     "iopub.status.busy": "2025-06-10T15:39:16.655854Z",
     "iopub.status.idle": "2025-06-10T15:39:16.660837Z",
     "shell.execute_reply": "2025-06-10T15:39:16.660154Z"
    },
    "papermill": {
     "duration": 0.01024,
     "end_time": "2025-06-10T15:39:16.662191",
     "exception": false,
     "start_time": "2025-06-10T15:39:16.651951",
     "status": "completed"
    },
    "tags": []
   },
   "outputs": [],
   "source": [
    "def make_polynomial(f, mag):\n",
    "    f = sp.numer(f).subs(mag, x)\n",
    "    while f.is_polynomial(zs,zbar,x) == False:\n",
    "        f = simplify(f * x)\n",
    "        f = sp.numer(f).subs(mag, x)\n",
    "    return factor(f.subs(x,abs(z)**2))"
   ]
  },
  {
   "cell_type": "code",
   "execution_count": 6,
   "id": "7f6d7e64",
   "metadata": {
    "execution": {
     "iopub.execute_input": "2025-06-10T15:39:16.669533Z",
     "iopub.status.busy": "2025-06-10T15:39:16.669213Z",
     "iopub.status.idle": "2025-06-10T15:39:16.674190Z",
     "shell.execute_reply": "2025-06-10T15:39:16.673161Z"
    },
    "papermill": {
     "duration": 0.01023,
     "end_time": "2025-06-10T15:39:16.675579",
     "exception": false,
     "start_time": "2025-06-10T15:39:16.665349",
     "status": "completed"
    },
    "tags": []
   },
   "outputs": [],
   "source": [
    "def real_dim():\n",
    "    return nC(n+k-1,k) - nC(n+k-3,k-2)"
   ]
  },
  {
   "cell_type": "code",
   "execution_count": 7,
   "id": "23cd98af",
   "metadata": {
    "execution": {
     "iopub.execute_input": "2025-06-10T15:39:16.683396Z",
     "iopub.status.busy": "2025-06-10T15:39:16.683055Z",
     "iopub.status.idle": "2025-06-10T15:39:16.687568Z",
     "shell.execute_reply": "2025-06-10T15:39:16.686868Z"
    },
    "papermill": {
     "duration": 0.010138,
     "end_time": "2025-06-10T15:39:16.688967",
     "exception": false,
     "start_time": "2025-06-10T15:39:16.678829",
     "status": "completed"
    },
    "tags": []
   },
   "outputs": [],
   "source": [
    "def complex_dim():\n",
    "    return nC(n+p-1,p)*nC(n+q-1,q) - nC(n+p-2,p-1)*nC(n+q-2,q-1)"
   ]
  },
  {
   "cell_type": "code",
   "execution_count": 8,
   "id": "cce23a27",
   "metadata": {
    "execution": {
     "iopub.execute_input": "2025-06-10T15:39:16.696826Z",
     "iopub.status.busy": "2025-06-10T15:39:16.696510Z",
     "iopub.status.idle": "2025-06-10T15:39:16.701900Z",
     "shell.execute_reply": "2025-06-10T15:39:16.701227Z"
    },
    "papermill": {
     "duration": 0.010953,
     "end_time": "2025-06-10T15:39:16.703404",
     "exception": false,
     "start_time": "2025-06-10T15:39:16.692451",
     "status": "completed"
    },
    "tags": []
   },
   "outputs": [],
   "source": [
    "# Finding basis for H_k\n",
    "def real_basis():\n",
    "    basis = FiniteSet()\n",
    "    alphas = get_alpha_beta(k)\n",
    "    for a in alphas:\n",
    "        if a[0] > 1:\n",
    "            alphas -= FiniteSet(a)\n",
    "    print(f'# of elements = {len(alphas)}')\n",
    "    print(f'Dimension from combinatorial expression = {real_dim()} \\n')\n",
    "    for a in alphas:\n",
    "        d = D(np_real, a, zs)\n",
    "        d = make_polynomial(d, mag_real)\n",
    "        print(d, '\\n')\n",
    "        basis += FiniteSet(d)\n",
    "    return basis"
   ]
  },
  {
   "cell_type": "code",
   "execution_count": 9,
   "id": "301ff971",
   "metadata": {
    "execution": {
     "iopub.execute_input": "2025-06-10T15:39:16.712244Z",
     "iopub.status.busy": "2025-06-10T15:39:16.711928Z",
     "iopub.status.idle": "2025-06-10T15:39:16.718171Z",
     "shell.execute_reply": "2025-06-10T15:39:16.717300Z"
    },
    "papermill": {
     "duration": 0.012895,
     "end_time": "2025-06-10T15:39:16.719534",
     "exception": false,
     "start_time": "2025-06-10T15:39:16.706639",
     "status": "completed"
    },
    "tags": []
   },
   "outputs": [],
   "source": [
    "# Finding basis for H_p,q\n",
    "def complex_basis():\n",
    "    basis = FiniteSet()\n",
    "    alphas = get_alpha_beta(p)\n",
    "    betas = get_alpha_beta(q)\n",
    "    ab = FiniteSet()\n",
    "    for a in alphas:\n",
    "        for b in betas:\n",
    "            if a[0]==0 or b[0]==0:\n",
    "                ab += FiniteSet((a,b))\n",
    "    print(f'# of elements = {len(ab)}')\n",
    "    print(f'Dimension from combinatorial expression = {complex_dim()} \\n')\n",
    "    for (a,b) in ab:\n",
    "        d = D(np_complex,b,zs)\n",
    "        d = D(d,a,zbar)\n",
    "        d = make_polynomial(d, mag_complex)\n",
    "        print(d, '\\n')\n",
    "        basis += FiniteSet(d)\n",
    "    return basis"
   ]
  },
  {
   "cell_type": "code",
   "execution_count": 10,
   "id": "e9f67c34",
   "metadata": {
    "execution": {
     "iopub.execute_input": "2025-06-10T15:39:16.727244Z",
     "iopub.status.busy": "2025-06-10T15:39:16.726906Z",
     "iopub.status.idle": "2025-06-10T15:39:16.985522Z",
     "shell.execute_reply": "2025-06-10T15:39:16.984534Z"
    },
    "papermill": {
     "duration": 0.264073,
     "end_time": "2025-06-10T15:39:16.986923",
     "exception": false,
     "start_time": "2025-06-10T15:39:16.722850",
     "status": "completed"
    },
    "tags": []
   },
   "outputs": [
    {
     "name": "stdout",
     "output_type": "stream",
     "text": [
      "# of elements = 5\n",
      "Dimension from combinatorial expression = 5 \n",
      "\n",
      "3*z3**2 - Abs(z)**2 \n",
      "\n",
      "3*z2*z3 \n",
      "\n",
      "3*z2**2 - Abs(z)**2 \n",
      "\n",
      "3*z1*z3 \n",
      "\n",
      "3*z1*z2 \n",
      "\n"
     ]
    },
    {
     "data": {
      "text/latex": [
       "$\\displaystyle \\left\\{3 z_{1} z_{2}, 3 z_{1} z_{3}, 3 z_{2} z_{3}, 3 z_{2}^{2} - \\left|{z}\\right|^{2}, 3 z_{3}^{2} - \\left|{z}\\right|^{2}\\right\\}$"
      ],
      "text/plain": [
       "{3*z1*z2, 3*z1*z3, 3*z2*z3, 3*z2**2 - Abs(z)**2, 3*z3**2 - Abs(z)**2}"
      ]
     },
     "execution_count": 10,
     "metadata": {},
     "output_type": "execute_result"
    }
   ],
   "source": [
    "real_basis()"
   ]
  },
  {
   "cell_type": "code",
   "execution_count": 11,
   "id": "a770e94a",
   "metadata": {
    "execution": {
     "iopub.execute_input": "2025-06-10T15:39:16.995008Z",
     "iopub.status.busy": "2025-06-10T15:39:16.994696Z",
     "iopub.status.idle": "2025-06-10T15:39:17.282253Z",
     "shell.execute_reply": "2025-06-10T15:39:17.281407Z"
    },
    "papermill": {
     "duration": 0.293018,
     "end_time": "2025-06-10T15:39:17.283477",
     "exception": false,
     "start_time": "2025-06-10T15:39:16.990459",
     "status": "completed"
    },
    "tags": []
   },
   "outputs": [
    {
     "name": "stdout",
     "output_type": "stream",
     "text": [
      "# of elements = 15\n",
      "Dimension from combinatorial expression = 15 \n",
      "\n",
      "-12*z3*(2*z3*zbar3 - Abs(z)**2) \n",
      "\n",
      "-24*z3**2*zbar2 \n",
      "\n",
      "-24*z3**2*zbar1 \n",
      "\n",
      "-6*z2*(4*z3*zbar3 - Abs(z)**2) \n",
      "\n",
      "-6*z3*(4*z2*zbar2 - Abs(z)**2) \n",
      "\n",
      "-24*z2*z3*zbar1 \n",
      "\n",
      "-24*z2**2*zbar3 \n",
      "\n",
      "-12*z2*(2*z2*zbar2 - Abs(z)**2) \n",
      "\n",
      "-24*z2**2*zbar1 \n",
      "\n",
      "-6*z1*(4*z3*zbar3 - Abs(z)**2) \n",
      "\n",
      "-24*z1*z3*zbar2 \n",
      "\n",
      "-24*z1*z2*zbar3 \n",
      "\n",
      "-6*z1*(4*z2*zbar2 - Abs(z)**2) \n",
      "\n",
      "-24*z1**2*zbar3 \n",
      "\n",
      "-24*z1**2*zbar2 \n",
      "\n"
     ]
    },
    {
     "data": {
      "text/latex": [
       "$\\displaystyle \\left\\{- 6 z_{1} \\left(4 z_{2} \\bar{z}_{2} - \\left|{z}\\right|^{2}\\right), - 6 z_{1} \\left(4 z_{3} \\bar{z}_{3} - \\left|{z}\\right|^{2}\\right), - 24 z_{1}^{2} \\bar{z}_{2}, - 24 z_{1}^{2} \\bar{z}_{3}, - 12 z_{2} \\left(2 z_{2} \\bar{z}_{2} - \\left|{z}\\right|^{2}\\right), - 6 z_{2} \\left(4 z_{3} \\bar{z}_{3} - \\left|{z}\\right|^{2}\\right), - 24 z_{2}^{2} \\bar{z}_{1}, - 24 z_{2}^{2} \\bar{z}_{3}, - 6 z_{3} \\left(4 z_{2} \\bar{z}_{2} - \\left|{z}\\right|^{2}\\right), - 12 z_{3} \\left(2 z_{3} \\bar{z}_{3} - \\left|{z}\\right|^{2}\\right), - 24 z_{3}^{2} \\bar{z}_{1}, - 24 z_{3}^{2} \\bar{z}_{2}, - 24 z_{1} z_{2} \\bar{z}_{3}, - 24 z_{1} z_{3} \\bar{z}_{2}, - 24 z_{2} z_{3} \\bar{z}_{1}\\right\\}$"
      ],
      "text/plain": [
       "{-6*z1*(4*z2*zbar2 - Abs(z)**2), -6*z1*(4*z3*zbar3 - Abs(z)**2), -24*z1**2*zbar2, -24*z1**2*zbar3, -12*z2*(2*z2*zbar2 - Abs(z)**2), -6*z2*(4*z3*zbar3 - Abs(z)**2), -24*z2**2*zbar1, -24*z2**2*zbar3, -6*z3*(4*z2*zbar2 - Abs(z)**2), -12*z3*(2*z3*zbar3 - Abs(z)**2), -24*z3**2*zbar1, -24*z3**2*zbar2, -24*z1*z2*zbar3, -24*z1*z3*zbar2, -24*z2*z3*zbar1}"
      ]
     },
     "execution_count": 11,
     "metadata": {},
     "output_type": "execute_result"
    }
   ],
   "source": [
    "complex_basis()"
   ]
  },
  {
   "cell_type": "code",
   "execution_count": 12,
   "id": "2785d83e",
   "metadata": {
    "execution": {
     "iopub.execute_input": "2025-06-10T15:39:17.292002Z",
     "iopub.status.busy": "2025-06-10T15:39:17.291700Z",
     "iopub.status.idle": "2025-06-10T15:39:17.297353Z",
     "shell.execute_reply": "2025-06-10T15:39:17.296485Z"
    },
    "papermill": {
     "duration": 0.011361,
     "end_time": "2025-06-10T15:39:17.298617",
     "exception": false,
     "start_time": "2025-06-10T15:39:17.287256",
     "status": "completed"
    },
    "tags": []
   },
   "outputs": [
    {
     "data": {
      "text/plain": [
       "(z1, z2, z3)"
      ]
     },
     "execution_count": 12,
     "metadata": {},
     "output_type": "execute_result"
    }
   ],
   "source": [
    "zs"
   ]
  },
  {
   "cell_type": "code",
   "execution_count": 13,
   "id": "e73f8258",
   "metadata": {
    "execution": {
     "iopub.execute_input": "2025-06-10T15:39:17.307529Z",
     "iopub.status.busy": "2025-06-10T15:39:17.307208Z",
     "iopub.status.idle": "2025-06-10T15:39:17.312650Z",
     "shell.execute_reply": "2025-06-10T15:39:17.311910Z"
    },
    "papermill": {
     "duration": 0.011552,
     "end_time": "2025-06-10T15:39:17.313989",
     "exception": false,
     "start_time": "2025-06-10T15:39:17.302437",
     "status": "completed"
    },
    "tags": []
   },
   "outputs": [
    {
     "data": {
      "text/plain": [
       "(zbar1, zbar2, zbar3)"
      ]
     },
     "execution_count": 13,
     "metadata": {},
     "output_type": "execute_result"
    }
   ],
   "source": [
    "zbar"
   ]
  },
  {
   "cell_type": "code",
   "execution_count": 14,
   "id": "cc5af937",
   "metadata": {
    "execution": {
     "iopub.execute_input": "2025-06-10T15:39:17.323058Z",
     "iopub.status.busy": "2025-06-10T15:39:17.322700Z",
     "iopub.status.idle": "2025-06-10T15:39:17.329238Z",
     "shell.execute_reply": "2025-06-10T15:39:17.328513Z"
    },
    "papermill": {
     "duration": 0.012621,
     "end_time": "2025-06-10T15:39:17.330519",
     "exception": false,
     "start_time": "2025-06-10T15:39:17.317898",
     "status": "completed"
    },
    "tags": []
   },
   "outputs": [
    {
     "data": {
      "text/latex": [
       "$\\displaystyle \\frac{1}{\\sqrt{z_{1}^{2} + z_{2}^{2} + z_{3}^{2}}}$"
      ],
      "text/plain": [
       "1/sqrt(z1**2 + z2**2 + z3**2)"
      ]
     },
     "execution_count": 14,
     "metadata": {},
     "output_type": "execute_result"
    }
   ],
   "source": [
    "np_real"
   ]
  },
  {
   "cell_type": "code",
   "execution_count": 15,
   "id": "c75dc4e0",
   "metadata": {
    "execution": {
     "iopub.execute_input": "2025-06-10T15:39:17.339716Z",
     "iopub.status.busy": "2025-06-10T15:39:17.339001Z",
     "iopub.status.idle": "2025-06-10T15:39:17.346478Z",
     "shell.execute_reply": "2025-06-10T15:39:17.345433Z"
    },
    "papermill": {
     "duration": 0.013457,
     "end_time": "2025-06-10T15:39:17.347916",
     "exception": false,
     "start_time": "2025-06-10T15:39:17.334459",
     "status": "completed"
    },
    "tags": []
   },
   "outputs": [
    {
     "data": {
      "text/latex": [
       "$\\displaystyle \\frac{1}{\\left(z_{1} \\bar{z}_{1} + z_{2} \\bar{z}_{2} + z_{3} \\bar{z}_{3}\\right)^{2}}$"
      ],
      "text/plain": [
       "(z1*zbar1 + z2*zbar2 + z3*zbar3)**(-2)"
      ]
     },
     "execution_count": 15,
     "metadata": {},
     "output_type": "execute_result"
    }
   ],
   "source": [
    "np_complex"
   ]
  }
 ],
 "metadata": {
  "kaggle": {
   "accelerator": "none",
   "dataSources": [],
   "dockerImageVersionId": 31040,
   "isGpuEnabled": false,
   "isInternetEnabled": false,
   "language": "python",
   "sourceType": "notebook"
  },
  "kernelspec": {
   "display_name": "Python 3",
   "language": "python",
   "name": "python3"
  },
  "language_info": {
   "codemirror_mode": {
    "name": "ipython",
    "version": 3
   },
   "file_extension": ".py",
   "mimetype": "text/x-python",
   "name": "python",
   "nbconvert_exporter": "python",
   "pygments_lexer": "ipython3",
   "version": "3.11.11"
  },
  "papermill": {
   "default_parameters": {},
   "duration": 9.478245,
   "end_time": "2025-06-10T15:39:17.972475",
   "environment_variables": {},
   "exception": null,
   "input_path": "__notebook__.ipynb",
   "output_path": "__notebook__.ipynb",
   "parameters": {},
   "start_time": "2025-06-10T15:39:08.494230",
   "version": "2.6.0"
  }
 },
 "nbformat": 4,
 "nbformat_minor": 5
}
