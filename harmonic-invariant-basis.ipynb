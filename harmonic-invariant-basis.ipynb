{
 "cells": [
  {
   "cell_type": "code",
   "execution_count": 1,
   "id": "eea47bfa",
   "metadata": {
    "_cell_guid": "b1076dfc-b9ad-4769-8c92-a6c4dae69d19",
    "_uuid": "8f2839f25d086af736a60e9eeb907d3b93b6e0e5",
    "execution": {
     "iopub.execute_input": "2025-06-17T18:02:55.916104Z",
     "iopub.status.busy": "2025-06-17T18:02:55.915682Z",
     "iopub.status.idle": "2025-06-17T18:03:01.513551Z",
     "shell.execute_reply": "2025-06-17T18:03:01.512299Z"
    },
    "papermill": {
     "duration": 5.606975,
     "end_time": "2025-06-17T18:03:01.515534",
     "exception": false,
     "start_time": "2025-06-17T18:02:55.908559",
     "status": "completed"
    },
    "tags": []
   },
   "outputs": [
    {
     "name": "stdout",
     "output_type": "stream",
     "text": [
      "/kaggle/input/degeneracy-tables/dataset-metadata.json\n"
     ]
    }
   ],
   "source": [
    "# This Python 3 environment comes with many helpful analytics libraries installed\n",
    "# It is defined by the kaggle/python Docker image: https://github.com/kaggle/docker-python\n",
    "# For example, here's several helpful packages to load\n",
    "# hatch run python -c \"import kaggle; from kaggle.api.kaggle_api_extended import KaggleApi; api = KaggleApi(); api.authenticate(); api.model_list_cli()\"\n",
    "\n",
    "import numpy as np # linear algebra\n",
    "import itertools as it\n",
    "import sympy as sp \n",
    "import pandas as pd\n",
    "from sympy import symbols, Function, diff, conjugate, FiniteSet, simplify, Poly, series, re\n",
    "from sympy import *\n",
    "from sympy.utilities.iterables import partitions\n",
    "from sympy.functions.combinatorial.numbers import nC\n",
    "from sympy.combinatorics.named_groups import CyclicGroup\n",
    "from sympy.matrices import Matrix, eye, zeros, ones, diag, GramSchmidt\n",
    "\n",
    "import os\n",
    "import zipfile\n",
    "\n",
    "for dirname, _, filenames in os.walk('/kaggle/input/'):\n",
    "    for filename in filenames:\n",
    "        print(os.path.join(dirname, filename))"
   ]
  },
  {
   "cell_type": "code",
   "execution_count": 2,
   "id": "c720c5c0",
   "metadata": {
    "execution": {
     "iopub.execute_input": "2025-06-17T18:03:01.529128Z",
     "iopub.status.busy": "2025-06-17T18:03:01.528704Z",
     "iopub.status.idle": "2025-06-17T18:03:01.825528Z",
     "shell.execute_reply": "2025-06-17T18:03:01.824073Z"
    },
    "papermill": {
     "duration": 0.305959,
     "end_time": "2025-06-17T18:03:01.827330",
     "exception": false,
     "start_time": "2025-06-17T18:03:01.521371",
     "status": "completed"
    },
    "tags": []
   },
   "outputs": [
    {
     "name": "stdout",
     "output_type": "stream",
     "text": [
      "Yay, it worked!\n"
     ]
    }
   ],
   "source": [
    "from kaggle_secrets import UserSecretsClient\n",
    "if os.path.exists('/root/.kaggle/'):\n",
    "    pass\n",
    "else:\n",
    "    os.mkdir('/root/.kaggle/')\n",
    "kaggle_API_key = UserSecretsClient().get_secret(\"key\")\n",
    "\n",
    "with open('/root/.kaggle/kaggle.json', 'w') as fid:\n",
    "    fid.writelines(f'{{\"username\":\"tanvikiran27\",\"key\":\"{kaggle_API_key}\"}}')\n",
    "\n",
    "!chmod 600 /root/.kaggle/kaggle.json\n",
    "print('Yay, it worked!')"
   ]
  },
  {
   "cell_type": "code",
   "execution_count": 3,
   "id": "3040c9d2",
   "metadata": {
    "execution": {
     "iopub.execute_input": "2025-06-17T18:03:01.839747Z",
     "iopub.status.busy": "2025-06-17T18:03:01.839335Z",
     "iopub.status.idle": "2025-06-17T18:03:03.700482Z",
     "shell.execute_reply": "2025-06-17T18:03:03.699036Z"
    },
    "papermill": {
     "duration": 1.86996,
     "end_time": "2025-06-17T18:03:03.702646",
     "exception": false,
     "start_time": "2025-06-17T18:03:01.832686",
     "status": "completed"
    },
    "tags": []
   },
   "outputs": [
    {
     "name": "stdout",
     "output_type": "stream",
     "text": [
      "Dataset URL: https://www.kaggle.com/datasets/tanvikiran27/degeneracy-tables\r\n",
      "License(s): CC0-1.0\r\n"
     ]
    }
   ],
   "source": [
    "!kaggle datasets download tanvikiran27/degeneracy-tables\n",
    "\n",
    "with zipfile.ZipFile('/kaggle/working/degeneracy-tables.zip') as file:\n",
    "    file.extractall()\n",
    "os.remove('/kaggle/working/degeneracy-tables.zip')"
   ]
  },
  {
   "cell_type": "markdown",
   "id": "0f312b5a",
   "metadata": {
    "papermill": {
     "duration": 0.004785,
     "end_time": "2025-06-17T18:03:03.712719",
     "exception": false,
     "start_time": "2025-06-17T18:03:03.707934",
     "status": "completed"
    },
    "tags": []
   },
   "source": [
    "$n$ = dimension ($\\mathbb{R}^n$ or $\\mathbb{C}^n$) \\\n",
    "$k$ = real degree \\\n",
    "$(p,q)$ = complex bidegree"
   ]
  },
  {
   "cell_type": "code",
   "execution_count": 4,
   "id": "566ec23c",
   "metadata": {
    "execution": {
     "iopub.execute_input": "2025-06-17T18:03:03.727041Z",
     "iopub.status.busy": "2025-06-17T18:03:03.725906Z",
     "iopub.status.idle": "2025-06-17T18:03:03.797830Z",
     "shell.execute_reply": "2025-06-17T18:03:03.796526Z"
    },
    "papermill": {
     "duration": 0.081624,
     "end_time": "2025-06-17T18:03:03.799861",
     "exception": false,
     "start_time": "2025-06-17T18:03:03.718237",
     "status": "completed"
    },
    "tags": []
   },
   "outputs": [],
   "source": [
    "####### Change constants here #######\n",
    "n = 3\n",
    "k = 3\n",
    "p = 2\n",
    "q = 1\n",
    "#####################################\n",
    "\n",
    "# Setting up symbols\n",
    "f = symbols('f', cls = Function)\n",
    "x,y,z,w,zeta = symbols('x y z w zeta')\n",
    "zs = symbols(f'z1:{n+1}', complex=True)\n",
    "zbar = symbols(f'zbar1:{n+1}', complex=True)\n",
    "ls = symbols(f'l1:{n+1}', int=True)\n",
    "\n",
    "# newton potential (R^n) \n",
    "mag_real = 0\n",
    "for i in range(n):\n",
    "    mag_real += zs[i]**2 ## Euclidean norm squared\n",
    "np_real = sp.sqrt(mag_real)**(2-n)\n",
    "\n",
    "# newton potential (C^n)\n",
    "mag_complex = 0\n",
    "for i in range(n):\n",
    "    mag_complex += zs[i]*zbar[i] ## Complex modulus squared\n",
    "np_complex = sp.sqrt(mag_complex)**(2-2*n)"
   ]
  },
  {
   "cell_type": "code",
   "execution_count": 5,
   "id": "df044e44",
   "metadata": {
    "execution": {
     "iopub.execute_input": "2025-06-17T18:03:03.811862Z",
     "iopub.status.busy": "2025-06-17T18:03:03.811368Z",
     "iopub.status.idle": "2025-06-17T18:03:03.841586Z",
     "shell.execute_reply": "2025-06-17T18:03:03.840457Z"
    },
    "papermill": {
     "duration": 0.038523,
     "end_time": "2025-06-17T18:03:03.843454",
     "exception": false,
     "start_time": "2025-06-17T18:03:03.804931",
     "status": "completed"
    },
    "tags": []
   },
   "outputs": [
    {
     "data": {
      "text/latex": [
       "$\\displaystyle \\left\\{\\left[\\begin{matrix}1 & 0\\\\0 & 1\\end{matrix}\\right], \\left[\\begin{matrix}e^{- \\frac{4 i \\pi}{5}} & 0\\\\0 & e^{\\frac{4 i \\pi}{5}}\\end{matrix}\\right], \\left[\\begin{matrix}e^{- \\frac{2 i \\pi}{5}} & 0\\\\0 & e^{\\frac{2 i \\pi}{5}}\\end{matrix}\\right], \\left[\\begin{matrix}e^{\\frac{2 i \\pi}{5}} & 0\\\\0 & e^{- \\frac{2 i \\pi}{5}}\\end{matrix}\\right], \\left[\\begin{matrix}e^{\\frac{4 i \\pi}{5}} & 0\\\\0 & e^{- \\frac{4 i \\pi}{5}}\\end{matrix}\\right]\\right\\}$"
      ],
      "text/plain": [
       "{Matrix([\n",
       "[1, 0],\n",
       "[0, 1]]), Matrix([\n",
       "[exp(-4*I*pi/5),             0],\n",
       "[             0, exp(4*I*pi/5)]]), Matrix([\n",
       "[exp(-2*I*pi/5),             0],\n",
       "[             0, exp(2*I*pi/5)]]), Matrix([\n",
       "[exp(2*I*pi/5),              0],\n",
       "[            0, exp(-2*I*pi/5)]]), Matrix([\n",
       "[exp(4*I*pi/5),              0],\n",
       "[            0, exp(-4*I*pi/5)]])}"
      ]
     },
     "execution_count": 5,
     "metadata": {},
     "output_type": "execute_result"
    }
   ],
   "source": [
    "# Cyclic group (roots of unity)\n",
    "m=5\n",
    "zeta = exp(2*pi*I/m)\n",
    "g = diag(zeta, zeta**(-1))\n",
    "G = FiniteSet()\n",
    "for i in range(m):\n",
    "    G += FiniteSet(g**i)\n",
    "G"
   ]
  },
  {
   "cell_type": "code",
   "execution_count": 6,
   "id": "fd46b28a",
   "metadata": {
    "execution": {
     "iopub.execute_input": "2025-06-17T18:03:03.855224Z",
     "iopub.status.busy": "2025-06-17T18:03:03.854880Z",
     "iopub.status.idle": "2025-06-17T18:03:03.860217Z",
     "shell.execute_reply": "2025-06-17T18:03:03.859008Z"
    },
    "papermill": {
     "duration": 0.013073,
     "end_time": "2025-06-17T18:03:03.861918",
     "exception": false,
     "start_time": "2025-06-17T18:03:03.848845",
     "status": "completed"
    },
    "tags": []
   },
   "outputs": [],
   "source": [
    "# Multi index differentiation\n",
    "def D(f,alpha,zs):\n",
    "    df = f\n",
    "    for i in range(n):\n",
    "        df = diff(df,(zs[i],alpha[i]))\n",
    "    return df"
   ]
  },
  {
   "cell_type": "code",
   "execution_count": 7,
   "id": "322e2ac5",
   "metadata": {
    "execution": {
     "iopub.execute_input": "2025-06-17T18:03:03.873687Z",
     "iopub.status.busy": "2025-06-17T18:03:03.873396Z",
     "iopub.status.idle": "2025-06-17T18:03:03.879208Z",
     "shell.execute_reply": "2025-06-17T18:03:03.878146Z"
    },
    "papermill": {
     "duration": 0.013495,
     "end_time": "2025-06-17T18:03:03.880649",
     "exception": false,
     "start_time": "2025-06-17T18:03:03.867154",
     "status": "completed"
    },
    "tags": []
   },
   "outputs": [],
   "source": [
    "# Returns valid n-tuples\n",
    "# https://www.geeksforgeeks.org/python-program-to-convert-dictionary-to-list-by-repeating-keys-corresponding-value-times/\n",
    "def get_alpha_beta(deg):\n",
    "    alphas = FiniteSet()\n",
    "    for part in partitions(deg, m=n):\n",
    "        part = list(it.chain.from_iterable(it.repeat(k, v) for k, v in part.items()))\n",
    "        while len(part) < n:\n",
    "            part.append(0)\n",
    "        for perm in it.permutations(part):\n",
    "            alphas += FiniteSet(perm)\n",
    "    return alphas"
   ]
  },
  {
   "cell_type": "code",
   "execution_count": 8,
   "id": "b7d75d1f",
   "metadata": {
    "execution": {
     "iopub.execute_input": "2025-06-17T18:03:03.893424Z",
     "iopub.status.busy": "2025-06-17T18:03:03.893102Z",
     "iopub.status.idle": "2025-06-17T18:03:03.899116Z",
     "shell.execute_reply": "2025-06-17T18:03:03.898040Z"
    },
    "papermill": {
     "duration": 0.014693,
     "end_time": "2025-06-17T18:03:03.900952",
     "exception": false,
     "start_time": "2025-06-17T18:03:03.886259",
     "status": "completed"
    },
    "tags": []
   },
   "outputs": [],
   "source": [
    "# Turns rational functions in our basis into polynomials\n",
    "def make_polynomial(f, mag):\n",
    "    f = sp.numer(f).subs(mag, x)\n",
    "    while f.is_polynomial(zs,zbar,x) == False:\n",
    "        f = simplify(f * x)\n",
    "        f = sp.numer(f).subs(mag, x)\n",
    "    return expand(f.subs(x,abs(z)**2))"
   ]
  },
  {
   "cell_type": "code",
   "execution_count": 9,
   "id": "29d290d3",
   "metadata": {
    "execution": {
     "iopub.execute_input": "2025-06-17T18:03:03.912976Z",
     "iopub.status.busy": "2025-06-17T18:03:03.912669Z",
     "iopub.status.idle": "2025-06-17T18:03:03.917962Z",
     "shell.execute_reply": "2025-06-17T18:03:03.916610Z"
    },
    "papermill": {
     "duration": 0.01305,
     "end_time": "2025-06-17T18:03:03.919834",
     "exception": false,
     "start_time": "2025-06-17T18:03:03.906784",
     "status": "completed"
    },
    "tags": []
   },
   "outputs": [],
   "source": [
    "# For H_k(R^n) *NOT C^n\n",
    "def real_dim():\n",
    "    return nC(n+k-1,k) - nC(n+k-3,k-2)"
   ]
  },
  {
   "cell_type": "code",
   "execution_count": 10,
   "id": "903b8f25",
   "metadata": {
    "execution": {
     "iopub.execute_input": "2025-06-17T18:03:03.931744Z",
     "iopub.status.busy": "2025-06-17T18:03:03.931442Z",
     "iopub.status.idle": "2025-06-17T18:03:03.937377Z",
     "shell.execute_reply": "2025-06-17T18:03:03.936085Z"
    },
    "papermill": {
     "duration": 0.013991,
     "end_time": "2025-06-17T18:03:03.939219",
     "exception": false,
     "start_time": "2025-06-17T18:03:03.925228",
     "status": "completed"
    },
    "tags": []
   },
   "outputs": [],
   "source": [
    "# For H_k(C^n)\n",
    "def dim_H_k():\n",
    "    return nC(2*n+k-1,k) - nC(2*n+k-3,k-2)"
   ]
  },
  {
   "cell_type": "code",
   "execution_count": 11,
   "id": "c506837a",
   "metadata": {
    "execution": {
     "iopub.execute_input": "2025-06-17T18:03:03.951917Z",
     "iopub.status.busy": "2025-06-17T18:03:03.951596Z",
     "iopub.status.idle": "2025-06-17T18:03:03.956901Z",
     "shell.execute_reply": "2025-06-17T18:03:03.955645Z"
    },
    "papermill": {
     "duration": 0.014068,
     "end_time": "2025-06-17T18:03:03.958733",
     "exception": false,
     "start_time": "2025-06-17T18:03:03.944665",
     "status": "completed"
    },
    "tags": []
   },
   "outputs": [],
   "source": [
    "# For H_p,q(C^n)\n",
    "def dim_H_pq():\n",
    "    return nC(n+p-1,p)*nC(n+q-1,q) - nC(n+p-2,p-1)*nC(n+q-2,q-1)"
   ]
  },
  {
   "cell_type": "code",
   "execution_count": 12,
   "id": "2647115a",
   "metadata": {
    "execution": {
     "iopub.execute_input": "2025-06-17T18:03:03.971085Z",
     "iopub.status.busy": "2025-06-17T18:03:03.970694Z",
     "iopub.status.idle": "2025-06-17T18:03:03.977475Z",
     "shell.execute_reply": "2025-06-17T18:03:03.976314Z"
    },
    "papermill": {
     "duration": 0.01546,
     "end_time": "2025-06-17T18:03:03.979561",
     "exception": false,
     "start_time": "2025-06-17T18:03:03.964101",
     "status": "completed"
    },
    "tags": []
   },
   "outputs": [],
   "source": [
    "# Finding basis for H_k(R^n) - see Axler's Harmonic Function Theory p. 92\n",
    "def real_basis():\n",
    "    basis = FiniteSet()\n",
    "    alphas = get_alpha_beta(k)\n",
    "    for a in alphas:\n",
    "        if a[0] > 1:\n",
    "            alphas -= FiniteSet(a)\n",
    "    print(f'# of elements = {len(alphas)}')\n",
    "    print(f'Dimension from combinatorial expression = {real_dim()} \\n')\n",
    "    for a in alphas:\n",
    "        d = D(np_real, a, zs)\n",
    "        d = make_polynomial(d, mag_real)\n",
    "        print(d, '\\n')\n",
    "        basis += FiniteSet(d)\n",
    "    return basis"
   ]
  },
  {
   "cell_type": "code",
   "execution_count": 13,
   "id": "592ff9c7",
   "metadata": {
    "execution": {
     "iopub.execute_input": "2025-06-17T18:03:03.991446Z",
     "iopub.status.busy": "2025-06-17T18:03:03.991152Z",
     "iopub.status.idle": "2025-06-17T18:03:03.998155Z",
     "shell.execute_reply": "2025-06-17T18:03:03.997171Z"
    },
    "papermill": {
     "duration": 0.015066,
     "end_time": "2025-06-17T18:03:03.999998",
     "exception": false,
     "start_time": "2025-06-17T18:03:03.984932",
     "status": "completed"
    },
    "tags": []
   },
   "outputs": [],
   "source": [
    "# Finding basis for H_p,q(C^n)\n",
    "def basis_H_pq():\n",
    "    basis = FiniteSet()\n",
    "    alphas = get_alpha_beta(p)\n",
    "    betas = get_alpha_beta(q)\n",
    "    ab = FiniteSet()\n",
    "    for a in alphas:\n",
    "        for b in betas:\n",
    "            if a[0]==0 or b[0]==0:\n",
    "                ab += FiniteSet((a,b))\n",
    "    print(f'# of elements = {len(ab)}')\n",
    "    print(f'Dimension from combinatorial expression = {dim_H_pq()} \\n')\n",
    "    for (a,b) in ab:\n",
    "        d = D(np_complex,b,zs)\n",
    "        d = D(d,a,zbar)\n",
    "        d = make_polynomial(d, mag_complex)\n",
    "        print(d, '\\n')\n",
    "        basis += FiniteSet(d)\n",
    "    return basis"
   ]
  },
  {
   "cell_type": "code",
   "execution_count": 14,
   "id": "8f01ed75",
   "metadata": {
    "execution": {
     "iopub.execute_input": "2025-06-17T18:03:04.011884Z",
     "iopub.status.busy": "2025-06-17T18:03:04.011551Z",
     "iopub.status.idle": "2025-06-17T18:03:04.016919Z",
     "shell.execute_reply": "2025-06-17T18:03:04.015967Z"
    },
    "papermill": {
     "duration": 0.013556,
     "end_time": "2025-06-17T18:03:04.018744",
     "exception": false,
     "start_time": "2025-06-17T18:03:04.005188",
     "status": "completed"
    },
    "tags": []
   },
   "outputs": [],
   "source": [
    "# Regular complex Laplacian\n",
    "def box(f):\n",
    "    laplacian = 0\n",
    "    for i in range(n):\n",
    "        laplacian += diff(diff(f,zbar[i]),zs[i])\n",
    "    return laplacian"
   ]
  },
  {
   "cell_type": "code",
   "execution_count": 15,
   "id": "537bf6bb",
   "metadata": {
    "execution": {
     "iopub.execute_input": "2025-06-17T18:03:04.030531Z",
     "iopub.status.busy": "2025-06-17T18:03:04.030242Z",
     "iopub.status.idle": "2025-06-17T18:03:04.037385Z",
     "shell.execute_reply": "2025-06-17T18:03:04.036280Z"
    },
    "papermill": {
     "duration": 0.015023,
     "end_time": "2025-06-17T18:03:04.039151",
     "exception": false,
     "start_time": "2025-06-17T18:03:04.024128",
     "status": "completed"
    },
    "tags": []
   },
   "outputs": [],
   "source": [
    "# Kohn Laplacian as given in 2018 REU paper\n",
    "def box_b(f):\n",
    "    box_b = 0\n",
    "    # first term\n",
    "    for i in range(n): \n",
    "        box_b += -2*diff(diff(f,zbar[i]), zs[i])\n",
    "        \n",
    "    # second term\n",
    "    for i in range(n): \n",
    "        box_b += 2*diff(zs[i]*q*f, zs[i])\n",
    "        \n",
    "    # third term (double sum)\n",
    "    for i in range(n): \n",
    "        for a in range(n):\n",
    "            box_b += 2*diff(zs[a]*zbar[i]*diff(f,zbar[i]), zs[a])\n",
    "            \n",
    "    # fourth term (double sum)\n",
    "    for i in range(n): \n",
    "        for a in range(n):\n",
    "            box_b += -2*diff(zs[a]*zbar[i]*zs[i]*q*f, zs[a])\n",
    "    return box_b"
   ]
  },
  {
   "cell_type": "code",
   "execution_count": 16,
   "id": "98f3a17a",
   "metadata": {
    "execution": {
     "iopub.execute_input": "2025-06-17T18:03:04.050873Z",
     "iopub.status.busy": "2025-06-17T18:03:04.050444Z",
     "iopub.status.idle": "2025-06-17T18:03:04.055339Z",
     "shell.execute_reply": "2025-06-17T18:03:04.054376Z"
    },
    "papermill": {
     "duration": 0.012989,
     "end_time": "2025-06-17T18:03:04.057346",
     "exception": false,
     "start_time": "2025-06-17T18:03:04.044357",
     "status": "completed"
    },
    "tags": []
   },
   "outputs": [],
   "source": [
    "# Just in case :)\n",
    "def is_harmonic(f):\n",
    "    return (box_b(f)/f).simplify().is_polynomial(mag_complex)"
   ]
  },
  {
   "cell_type": "code",
   "execution_count": 17,
   "id": "03452469",
   "metadata": {
    "execution": {
     "iopub.execute_input": "2025-06-17T18:03:04.068896Z",
     "iopub.status.busy": "2025-06-17T18:03:04.068575Z",
     "iopub.status.idle": "2025-06-17T18:03:04.075005Z",
     "shell.execute_reply": "2025-06-17T18:03:04.073737Z"
    },
    "papermill": {
     "duration": 0.014331,
     "end_time": "2025-06-17T18:03:04.076902",
     "exception": false,
     "start_time": "2025-06-17T18:03:04.062571",
     "status": "completed"
    },
    "tags": []
   },
   "outputs": [],
   "source": [
    "# Returns the Ikeda generating function for a given lens space\n",
    "def F(k,ls):\n",
    "    F = 0\n",
    "    zeta = exp(2*pi*I/k)\n",
    "    for m in range(k):\n",
    "        frac = 1-z*w\n",
    "        for i in range(len(ls)):\n",
    "            frac /= (z-zeta**(-m*ls[i]))*(w-zeta**(m*ls[i]))\n",
    "        F += frac\n",
    "    F = (1/k)*F\n",
    "    return F"
   ]
  },
  {
   "cell_type": "code",
   "execution_count": 18,
   "id": "6133a6dc",
   "metadata": {
    "execution": {
     "iopub.execute_input": "2025-06-17T18:03:04.088781Z",
     "iopub.status.busy": "2025-06-17T18:03:04.088473Z",
     "iopub.status.idle": "2025-06-17T18:03:04.095482Z",
     "shell.execute_reply": "2025-06-17T18:03:04.094467Z"
    },
    "papermill": {
     "duration": 0.015187,
     "end_time": "2025-06-17T18:03:04.097221",
     "exception": false,
     "start_time": "2025-06-17T18:03:04.082034",
     "status": "completed"
    },
    "tags": []
   },
   "outputs": [],
   "source": [
    "# Coefficients from Taylor series expansion for a two-variable function- read more at\n",
    "# https://math.libretexts.org/Bookshelves/Calculus/Supplemental_Modules_(Calculus)/Multivariable_Calculus/3%3A_Topics_in_Partial_Derivatives/Taylor__Polynomials_of_Functions_of_Two_Variables\n",
    "def taylor_coeffs(f,deg):\n",
    "    table = []\n",
    "    for i in range(deg+1):\n",
    "        row = []\n",
    "        for j in range(deg+1-i):\n",
    "            d = diff(f,w,j)\n",
    "            d = diff(d,z,i)\n",
    "            d = lambdify([z,w],d)\n",
    "            term = re(d(0,0)/(factorial(i)*factorial(j))).round()\n",
    "            row.append(term)\n",
    "        while len(row) < deg+1:\n",
    "            row.append('-')\n",
    "        table.append(row)\n",
    "    return table"
   ]
  },
  {
   "cell_type": "code",
   "execution_count": 19,
   "id": "4067cf26",
   "metadata": {
    "execution": {
     "iopub.execute_input": "2025-06-17T18:03:04.109117Z",
     "iopub.status.busy": "2025-06-17T18:03:04.108749Z",
     "iopub.status.idle": "2025-06-17T18:03:04.113737Z",
     "shell.execute_reply": "2025-06-17T18:03:04.112833Z"
    },
    "papermill": {
     "duration": 0.012794,
     "end_time": "2025-06-17T18:03:04.115370",
     "exception": false,
     "start_time": "2025-06-17T18:03:04.102576",
     "status": "completed"
    },
    "tags": []
   },
   "outputs": [],
   "source": [
    "# Gets a single degeneracy table (as a list of arrays) from the dataset\n",
    "def clean_col(df,col):\n",
    "    table = df[col].to_list()\n",
    "    while type(table[-1]) is float:\n",
    "        table = table[:-1]\n",
    "    return table"
   ]
  },
  {
   "cell_type": "code",
   "execution_count": 20,
   "id": "946e193a",
   "metadata": {
    "execution": {
     "iopub.execute_input": "2025-06-17T18:03:04.126817Z",
     "iopub.status.busy": "2025-06-17T18:03:04.126406Z",
     "iopub.status.idle": "2025-06-17T18:03:04.131970Z",
     "shell.execute_reply": "2025-06-17T18:03:04.130776Z"
    },
    "papermill": {
     "duration": 0.020823,
     "end_time": "2025-06-17T18:03:04.141288",
     "exception": false,
     "start_time": "2025-06-17T18:03:04.120465",
     "status": "completed"
    },
    "tags": []
   },
   "outputs": [],
   "source": [
    "# Turns the order and l values into a string \n",
    "# To avoid duplicates, the eigenvalues of the generator are sorted in ascending order\n",
    "def make_lens_str(k,ls):\n",
    "    lens = \"L(\"+str(k)+\";\"\n",
    "    ls.sort()\n",
    "    for l in ls:\n",
    "        lens += str(l)+\",\"\n",
    "    lens = lens[:-1]\n",
    "    lens += \")\"\n",
    "    return lens"
   ]
  },
  {
   "cell_type": "code",
   "execution_count": 21,
   "id": "686bc936",
   "metadata": {
    "execution": {
     "iopub.execute_input": "2025-06-17T18:03:04.152914Z",
     "iopub.status.busy": "2025-06-17T18:03:04.152555Z",
     "iopub.status.idle": "2025-06-17T18:03:04.157612Z",
     "shell.execute_reply": "2025-06-17T18:03:04.156598Z"
    },
    "papermill": {
     "duration": 0.012797,
     "end_time": "2025-06-17T18:03:04.159215",
     "exception": false,
     "start_time": "2025-06-17T18:03:04.146418",
     "status": "completed"
    },
    "tags": []
   },
   "outputs": [],
   "source": [
    "# File lookup\n",
    "def find_file(file):\n",
    "    for dirname, _, filenames in os.walk('/kaggle/input/degeneracy-tables'):\n",
    "        if file in filenames:\n",
    "            return True\n",
    "    return False"
   ]
  },
  {
   "cell_type": "code",
   "execution_count": 22,
   "id": "95a3877a",
   "metadata": {
    "execution": {
     "iopub.execute_input": "2025-06-17T18:03:04.171633Z",
     "iopub.status.busy": "2025-06-17T18:03:04.171281Z",
     "iopub.status.idle": "2025-06-17T18:03:04.180120Z",
     "shell.execute_reply": "2025-06-17T18:03:04.178638Z"
    },
    "papermill": {
     "duration": 0.017342,
     "end_time": "2025-06-17T18:03:04.182229",
     "exception": false,
     "start_time": "2025-06-17T18:03:04.164887",
     "status": "completed"
    },
    "tags": []
   },
   "outputs": [],
   "source": [
    "def degeneracy_table(k,ls,deg):\n",
    "    N = len(ls)\n",
    "    lens = make_lens_str(k,ls)\n",
    "    file = 'n=' + str(N) + '.csv'\n",
    "    path = \"/kaggle/working/\" + file\n",
    "    if find_file(file):\n",
    "        try:\n",
    "            data = pd.read_csv(path)\n",
    "        except pd.errors.EmptyDataError:\n",
    "            data = pd.DataFrame()\n",
    "    else:\n",
    "        data = pd.DataFrame()\n",
    "    if lens not in data or deg > len(clean_col(data,lens)):\n",
    "        f = F(k,ls)\n",
    "        T = taylor_coeffs(f,deg)\n",
    "        new = pd.DataFrame({lens:T})\n",
    "        added = data.merge(new, left_index = True, right_index = True, how = 'outer')\n",
    "        added.to_csv(path, index = False)\n",
    "        print(\"Created csv\")\n",
    "        update_data()\n",
    "    else:\n",
    "        T = clean_col(data,lens)\n",
    "    return pd.DataFrame(T)"
   ]
  },
  {
   "cell_type": "code",
   "execution_count": 23,
   "id": "a3e92cd5",
   "metadata": {
    "execution": {
     "iopub.execute_input": "2025-06-17T18:03:04.194736Z",
     "iopub.status.busy": "2025-06-17T18:03:04.194411Z",
     "iopub.status.idle": "2025-06-17T18:03:04.200103Z",
     "shell.execute_reply": "2025-06-17T18:03:04.199158Z"
    },
    "papermill": {
     "duration": 0.013787,
     "end_time": "2025-06-17T18:03:04.202101",
     "exception": false,
     "start_time": "2025-06-17T18:03:04.188314",
     "status": "completed"
    },
    "tags": []
   },
   "outputs": [],
   "source": [
    "# Update dataset\n",
    "def update_data():\n",
    "    with open('/kaggle/working/dataset-metadata.json', 'w') as json_fid:\n",
    "        json_fid.write('{\\n  \"title\": \"Degeneracy Tables\",\\n  \"id\": \"tanvikiran27/degeneracy-tables\",\\n  \"licenses\": [{\"name\": \"CC0-1.0\"}]}')\n",
    "    #!kaggle datasets version -p /kaggle/working -h \"Test\" {\"title\": \"Degeneracy Tables\",\"id\": \"tanvikiran27/degeneracy-tables\",\"licenses\": [{\"name\": \"CC0-1.0\"}]}\n",
    "    !kaggle datasets version -m new"
   ]
  },
  {
   "cell_type": "code",
   "execution_count": 24,
   "id": "f994394a",
   "metadata": {
    "execution": {
     "iopub.execute_input": "2025-06-17T18:03:04.213843Z",
     "iopub.status.busy": "2025-06-17T18:03:04.213384Z",
     "iopub.status.idle": "2025-06-17T18:03:08.029992Z",
     "shell.execute_reply": "2025-06-17T18:03:08.028370Z"
    },
    "papermill": {
     "duration": 3.824487,
     "end_time": "2025-06-17T18:03:08.031863",
     "exception": false,
     "start_time": "2025-06-17T18:03:04.207376",
     "status": "completed"
    },
    "tags": []
   },
   "outputs": [
    {
     "name": "stdout",
     "output_type": "stream",
     "text": [
      "Created csv\n",
      "Starting upload for file n=2.csv\r\n",
      "100%|████████████████████████████████████████████| 168/168 [00:00<00:00, 268B/s]\r\n",
      "Upload successful: n=2.csv (168B)\r\n",
      "Starting upload for file __notebook__.ipynb\r\n",
      "100%|██████████████████████████████████████| 29.7k/29.7k [00:00<00:00, 48.1kB/s]\r\n",
      "Upload successful: __notebook__.ipynb (30KB)\r\n",
      "Dataset version creation error: Incompatible Dataset Type\r\n"
     ]
    },
    {
     "data": {
      "text/html": [
       "<div>\n",
       "<style scoped>\n",
       "    .dataframe tbody tr th:only-of-type {\n",
       "        vertical-align: middle;\n",
       "    }\n",
       "\n",
       "    .dataframe tbody tr th {\n",
       "        vertical-align: top;\n",
       "    }\n",
       "\n",
       "    .dataframe thead th {\n",
       "        text-align: right;\n",
       "    }\n",
       "</style>\n",
       "<table border=\"1\" class=\"dataframe\">\n",
       "  <thead>\n",
       "    <tr style=\"text-align: right;\">\n",
       "      <th></th>\n",
       "      <th>0</th>\n",
       "      <th>1</th>\n",
       "      <th>2</th>\n",
       "      <th>3</th>\n",
       "      <th>4</th>\n",
       "      <th>5</th>\n",
       "    </tr>\n",
       "  </thead>\n",
       "  <tbody>\n",
       "    <tr>\n",
       "      <th>0</th>\n",
       "      <td>1</td>\n",
       "      <td>0</td>\n",
       "      <td>3</td>\n",
       "      <td>0</td>\n",
       "      <td>5</td>\n",
       "      <td>0</td>\n",
       "    </tr>\n",
       "    <tr>\n",
       "      <th>1</th>\n",
       "      <td>0</td>\n",
       "      <td>3</td>\n",
       "      <td>0</td>\n",
       "      <td>5</td>\n",
       "      <td>0</td>\n",
       "      <td>-</td>\n",
       "    </tr>\n",
       "    <tr>\n",
       "      <th>2</th>\n",
       "      <td>3</td>\n",
       "      <td>0</td>\n",
       "      <td>5</td>\n",
       "      <td>0</td>\n",
       "      <td>-</td>\n",
       "      <td>-</td>\n",
       "    </tr>\n",
       "    <tr>\n",
       "      <th>3</th>\n",
       "      <td>0</td>\n",
       "      <td>5</td>\n",
       "      <td>0</td>\n",
       "      <td>-</td>\n",
       "      <td>-</td>\n",
       "      <td>-</td>\n",
       "    </tr>\n",
       "    <tr>\n",
       "      <th>4</th>\n",
       "      <td>5</td>\n",
       "      <td>0</td>\n",
       "      <td>-</td>\n",
       "      <td>-</td>\n",
       "      <td>-</td>\n",
       "      <td>-</td>\n",
       "    </tr>\n",
       "    <tr>\n",
       "      <th>5</th>\n",
       "      <td>0</td>\n",
       "      <td>-</td>\n",
       "      <td>-</td>\n",
       "      <td>-</td>\n",
       "      <td>-</td>\n",
       "      <td>-</td>\n",
       "    </tr>\n",
       "  </tbody>\n",
       "</table>\n",
       "</div>"
      ],
      "text/plain": [
       "   0  1  2  3  4  5\n",
       "0  1  0  3  0  5  0\n",
       "1  0  3  0  5  0  -\n",
       "2  3  0  5  0  -  -\n",
       "3  0  5  0  -  -  -\n",
       "4  5  0  -  -  -  -\n",
       "5  0  -  -  -  -  -"
      ]
     },
     "execution_count": 24,
     "metadata": {},
     "output_type": "execute_result"
    }
   ],
   "source": [
    "degeneracy_table(2,[1,-1],5)"
   ]
  },
  {
   "cell_type": "code",
   "execution_count": 25,
   "id": "45ef171b",
   "metadata": {
    "execution": {
     "iopub.execute_input": "2025-06-17T18:03:08.044721Z",
     "iopub.status.busy": "2025-06-17T18:03:08.044376Z",
     "iopub.status.idle": "2025-06-17T18:03:08.050286Z",
     "shell.execute_reply": "2025-06-17T18:03:08.049236Z"
    },
    "papermill": {
     "duration": 0.01439,
     "end_time": "2025-06-17T18:03:08.052137",
     "exception": false,
     "start_time": "2025-06-17T18:03:08.037747",
     "status": "completed"
    },
    "tags": []
   },
   "outputs": [],
   "source": [
    "# In case you need to clear the dataset for some reason\n",
    "# CAUTION: This will delete the .csvs from the output directory and can potentially\n",
    "# delete everything in the dataset- use with caution...\n",
    "def clear_csvs():\n",
    "    import pathlib\n",
    "    files_to_delete = './*.csv' # this considers only \".txt\" files. If you want to delete all files, use \"./*\"\n",
    "    files_list = pathlib.Path(os.getcwd()).glob(files_to_delete)\n",
    "    for file_path in files_list:\n",
    "        os.remove(file_path)"
   ]
  },
  {
   "cell_type": "code",
   "execution_count": 26,
   "id": "64bb0b6b",
   "metadata": {
    "execution": {
     "iopub.execute_input": "2025-06-17T18:03:08.064921Z",
     "iopub.status.busy": "2025-06-17T18:03:08.064608Z",
     "iopub.status.idle": "2025-06-17T18:03:08.069105Z",
     "shell.execute_reply": "2025-06-17T18:03:08.068016Z"
    },
    "papermill": {
     "duration": 0.013159,
     "end_time": "2025-06-17T18:03:08.070856",
     "exception": false,
     "start_time": "2025-06-17T18:03:08.057697",
     "status": "completed"
    },
    "tags": []
   },
   "outputs": [],
   "source": [
    "# clear_csvs()"
   ]
  }
 ],
 "metadata": {
  "kaggle": {
   "accelerator": "none",
   "dataSources": [
    {
     "datasetId": 7663550,
     "sourceId": 12197690,
     "sourceType": "datasetVersion"
    }
   ],
   "dockerImageVersionId": 31040,
   "isGpuEnabled": false,
   "isInternetEnabled": true,
   "language": "python",
   "sourceType": "notebook"
  },
  "kernelspec": {
   "display_name": "Python 3",
   "language": "python",
   "name": "python3"
  },
  "language_info": {
   "codemirror_mode": {
    "name": "ipython",
    "version": 3
   },
   "file_extension": ".py",
   "mimetype": "text/x-python",
   "name": "python",
   "nbconvert_exporter": "python",
   "pygments_lexer": "ipython3",
   "version": "3.11.11"
  },
  "papermill": {
   "default_parameters": {},
   "duration": 18.263789,
   "end_time": "2025-06-17T18:03:08.899196",
   "environment_variables": {},
   "exception": null,
   "input_path": "__notebook__.ipynb",
   "output_path": "__notebook__.ipynb",
   "parameters": {},
   "start_time": "2025-06-17T18:02:50.635407",
   "version": "2.6.0"
  }
 },
 "nbformat": 4,
 "nbformat_minor": 5
}
