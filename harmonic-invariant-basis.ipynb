{
 "cells": [
  {
   "cell_type": "code",
   "execution_count": 1,
   "id": "e1b58922",
   "metadata": {
    "_cell_guid": "b1076dfc-b9ad-4769-8c92-a6c4dae69d19",
    "_uuid": "8f2839f25d086af736a60e9eeb907d3b93b6e0e5",
    "execution": {
     "iopub.execute_input": "2025-06-17T15:04:02.969181Z",
     "iopub.status.busy": "2025-06-17T15:04:02.968857Z",
     "iopub.status.idle": "2025-06-17T15:04:07.918974Z",
     "shell.execute_reply": "2025-06-17T15:04:07.917761Z"
    },
    "papermill": {
     "duration": 4.958533,
     "end_time": "2025-06-17T15:04:07.920673",
     "exception": false,
     "start_time": "2025-06-17T15:04:02.962140",
     "status": "completed"
    },
    "tags": []
   },
   "outputs": [
    {
     "name": "stdout",
     "output_type": "stream",
     "text": [
      "/kaggle/input/degeneracy-tables/dataset-metadata.json\n"
     ]
    }
   ],
   "source": [
    "# This Python 3 environment comes with many helpful analytics libraries installed\n",
    "# It is defined by the kaggle/python Docker image: https://github.com/kaggle/docker-python\n",
    "# For example, here's several helpful packages to load\n",
    "# hatch run python -c \"import kaggle; from kaggle.api.kaggle_api_extended import KaggleApi; api = KaggleApi(); api.authenticate(); api.model_list_cli()\"\n",
    "\n",
    "import numpy as np # linear algebra\n",
    "import itertools as it\n",
    "import sympy as sp \n",
    "import pandas as pd\n",
    "from sympy import symbols, Function, diff, conjugate, FiniteSet, simplify, Poly, series, re\n",
    "from sympy import *\n",
    "from sympy.utilities.iterables import partitions\n",
    "from sympy.functions.combinatorial.numbers import nC\n",
    "from sympy.combinatorics.named_groups import CyclicGroup\n",
    "from sympy.matrices import Matrix, eye, zeros, ones, diag, GramSchmidt\n",
    "\n",
    "import os\n",
    "import zipfile\n",
    "\n",
    "for dirname, _, filenames in os.walk('/kaggle/input/'):\n",
    "    for filename in filenames:\n",
    "        print(os.path.join(dirname, filename))"
   ]
  },
  {
   "cell_type": "code",
   "execution_count": 2,
   "id": "adb3878e",
   "metadata": {
    "execution": {
     "iopub.execute_input": "2025-06-17T15:04:07.932465Z",
     "iopub.status.busy": "2025-06-17T15:04:07.931441Z",
     "iopub.status.idle": "2025-06-17T15:04:08.272045Z",
     "shell.execute_reply": "2025-06-17T15:04:08.270798Z"
    },
    "papermill": {
     "duration": 0.347928,
     "end_time": "2025-06-17T15:04:08.273696",
     "exception": false,
     "start_time": "2025-06-17T15:04:07.925768",
     "status": "completed"
    },
    "tags": []
   },
   "outputs": [
    {
     "name": "stdout",
     "output_type": "stream",
     "text": [
      "Yay, it worked!\n"
     ]
    }
   ],
   "source": [
    "from kaggle_secrets import UserSecretsClient\n",
    "if os.path.exists('/root/.kaggle/'):\n",
    "    pass\n",
    "else:\n",
    "    os.mkdir('/root/.kaggle/')\n",
    "kaggle_API_key = UserSecretsClient().get_secret(\"key\")\n",
    "\n",
    "with open('/root/.kaggle/kaggle.json', 'w') as fid:\n",
    "    fid.writelines(f'{{\"username\":\"tanvikiran27\",\"key\":\"{kaggle_API_key}\"}}')\n",
    "\n",
    "!chmod 600 /root/.kaggle/kaggle.json\n",
    "print('Yay, it worked!')"
   ]
  },
  {
   "cell_type": "code",
   "execution_count": 3,
   "id": "184e4984",
   "metadata": {
    "execution": {
     "iopub.execute_input": "2025-06-17T15:04:08.285663Z",
     "iopub.status.busy": "2025-06-17T15:04:08.284747Z",
     "iopub.status.idle": "2025-06-17T15:04:10.035705Z",
     "shell.execute_reply": "2025-06-17T15:04:10.034505Z"
    },
    "papermill": {
     "duration": 1.758872,
     "end_time": "2025-06-17T15:04:10.037565",
     "exception": false,
     "start_time": "2025-06-17T15:04:08.278693",
     "status": "completed"
    },
    "tags": []
   },
   "outputs": [
    {
     "name": "stdout",
     "output_type": "stream",
     "text": [
      "Dataset URL: https://www.kaggle.com/datasets/tanvikiran27/degeneracy-tables\r\n",
      "License(s): unknown\r\n"
     ]
    }
   ],
   "source": [
    "!kaggle datasets download tanvikiran27/degeneracy-tables\n",
    "\n",
    "with zipfile.ZipFile('/kaggle/working/degeneracy-tables.zip') as file:\n",
    "    file.extractall()\n",
    "os.remove('/kaggle/working/degeneracy-tables.zip')"
   ]
  },
  {
   "cell_type": "markdown",
   "id": "af854a73",
   "metadata": {
    "papermill": {
     "duration": 0.004541,
     "end_time": "2025-06-17T15:04:10.047480",
     "exception": false,
     "start_time": "2025-06-17T15:04:10.042939",
     "status": "completed"
    },
    "tags": []
   },
   "source": [
    "$n$ = dimension ($\\mathbb{R}^n$ or $\\mathbb{C}^n$) \\\n",
    "$k$ = real degree \\\n",
    "$(p,q)$ = complex bidegree"
   ]
  },
  {
   "cell_type": "code",
   "execution_count": 4,
   "id": "51e5c9d6",
   "metadata": {
    "execution": {
     "iopub.execute_input": "2025-06-17T15:04:10.058672Z",
     "iopub.status.busy": "2025-06-17T15:04:10.058328Z",
     "iopub.status.idle": "2025-06-17T15:04:10.124468Z",
     "shell.execute_reply": "2025-06-17T15:04:10.123581Z"
    },
    "papermill": {
     "duration": 0.073907,
     "end_time": "2025-06-17T15:04:10.126106",
     "exception": false,
     "start_time": "2025-06-17T15:04:10.052199",
     "status": "completed"
    },
    "tags": []
   },
   "outputs": [],
   "source": [
    "####### Change constants here #######\n",
    "n = 3\n",
    "k = 3\n",
    "p = 2\n",
    "q = 1\n",
    "#####################################\n",
    "\n",
    "# Setting up symbols\n",
    "f = symbols('f', cls = Function)\n",
    "x,y,z,w,zeta = symbols('x y z w zeta')\n",
    "zs = symbols(f'z1:{n+1}', complex=True)\n",
    "zbar = symbols(f'zbar1:{n+1}', complex=True)\n",
    "ls = symbols(f'l1:{n+1}', int=True)\n",
    "\n",
    "# newton potential (R^n) \n",
    "mag_real = 0\n",
    "for i in range(n):\n",
    "    mag_real += zs[i]**2 ## Euclidean norm squared\n",
    "np_real = sp.sqrt(mag_real)**(2-n)\n",
    "\n",
    "# newton potential (C^n)\n",
    "mag_complex = 0\n",
    "for i in range(n):\n",
    "    mag_complex += zs[i]*zbar[i] ## Complex modulus squared\n",
    "np_complex = sp.sqrt(mag_complex)**(2-2*n)"
   ]
  },
  {
   "cell_type": "code",
   "execution_count": 5,
   "id": "bf2c2c54",
   "metadata": {
    "execution": {
     "iopub.execute_input": "2025-06-17T15:04:10.136652Z",
     "iopub.status.busy": "2025-06-17T15:04:10.136361Z",
     "iopub.status.idle": "2025-06-17T15:04:10.162647Z",
     "shell.execute_reply": "2025-06-17T15:04:10.161843Z"
    },
    "papermill": {
     "duration": 0.033112,
     "end_time": "2025-06-17T15:04:10.164020",
     "exception": false,
     "start_time": "2025-06-17T15:04:10.130908",
     "status": "completed"
    },
    "tags": []
   },
   "outputs": [
    {
     "data": {
      "text/latex": [
       "$\\displaystyle \\left\\{\\left[\\begin{matrix}1 & 0\\\\0 & 1\\end{matrix}\\right], \\left[\\begin{matrix}e^{- \\frac{4 i \\pi}{5}} & 0\\\\0 & e^{\\frac{4 i \\pi}{5}}\\end{matrix}\\right], \\left[\\begin{matrix}e^{- \\frac{2 i \\pi}{5}} & 0\\\\0 & e^{\\frac{2 i \\pi}{5}}\\end{matrix}\\right], \\left[\\begin{matrix}e^{\\frac{2 i \\pi}{5}} & 0\\\\0 & e^{- \\frac{2 i \\pi}{5}}\\end{matrix}\\right], \\left[\\begin{matrix}e^{\\frac{4 i \\pi}{5}} & 0\\\\0 & e^{- \\frac{4 i \\pi}{5}}\\end{matrix}\\right]\\right\\}$"
      ],
      "text/plain": [
       "{Matrix([\n",
       "[1, 0],\n",
       "[0, 1]]), Matrix([\n",
       "[exp(-4*I*pi/5),             0],\n",
       "[             0, exp(4*I*pi/5)]]), Matrix([\n",
       "[exp(-2*I*pi/5),             0],\n",
       "[             0, exp(2*I*pi/5)]]), Matrix([\n",
       "[exp(2*I*pi/5),              0],\n",
       "[            0, exp(-2*I*pi/5)]]), Matrix([\n",
       "[exp(4*I*pi/5),              0],\n",
       "[            0, exp(-4*I*pi/5)]])}"
      ]
     },
     "execution_count": 5,
     "metadata": {},
     "output_type": "execute_result"
    }
   ],
   "source": [
    "# Cyclic group (roots of unity)\n",
    "m=5\n",
    "zeta = exp(2*pi*I/m)\n",
    "g = diag(zeta, zeta**(-1))\n",
    "G = FiniteSet()\n",
    "for i in range(m):\n",
    "    G += FiniteSet(g**i)\n",
    "G"
   ]
  },
  {
   "cell_type": "code",
   "execution_count": 6,
   "id": "f241484e",
   "metadata": {
    "execution": {
     "iopub.execute_input": "2025-06-17T15:04:10.174968Z",
     "iopub.status.busy": "2025-06-17T15:04:10.174659Z",
     "iopub.status.idle": "2025-06-17T15:04:10.179028Z",
     "shell.execute_reply": "2025-06-17T15:04:10.178372Z"
    },
    "papermill": {
     "duration": 0.011293,
     "end_time": "2025-06-17T15:04:10.180260",
     "exception": false,
     "start_time": "2025-06-17T15:04:10.168967",
     "status": "completed"
    },
    "tags": []
   },
   "outputs": [],
   "source": [
    "# Multi index differentiation\n",
    "def D(f,alpha,zs):\n",
    "    df = f\n",
    "    for i in range(n):\n",
    "        df = diff(df,(zs[i],alpha[i]))\n",
    "    return df"
   ]
  },
  {
   "cell_type": "code",
   "execution_count": 7,
   "id": "c6e2365b",
   "metadata": {
    "execution": {
     "iopub.execute_input": "2025-06-17T15:04:10.191154Z",
     "iopub.status.busy": "2025-06-17T15:04:10.190789Z",
     "iopub.status.idle": "2025-06-17T15:04:10.196441Z",
     "shell.execute_reply": "2025-06-17T15:04:10.195653Z"
    },
    "papermill": {
     "duration": 0.012707,
     "end_time": "2025-06-17T15:04:10.197796",
     "exception": false,
     "start_time": "2025-06-17T15:04:10.185089",
     "status": "completed"
    },
    "tags": []
   },
   "outputs": [],
   "source": [
    "# Returns valid n-tuples\n",
    "# https://www.geeksforgeeks.org/python-program-to-convert-dictionary-to-list-by-repeating-keys-corresponding-value-times/\n",
    "def get_alpha_beta(deg):\n",
    "    alphas = FiniteSet()\n",
    "    for part in partitions(deg, m=n):\n",
    "        part = list(it.chain.from_iterable(it.repeat(k, v) for k, v in part.items()))\n",
    "        while len(part) < n:\n",
    "            part.append(0)\n",
    "        for perm in it.permutations(part):\n",
    "            alphas += FiniteSet(perm)\n",
    "    return alphas"
   ]
  },
  {
   "cell_type": "code",
   "execution_count": 8,
   "id": "2e7439a5",
   "metadata": {
    "execution": {
     "iopub.execute_input": "2025-06-17T15:04:10.209118Z",
     "iopub.status.busy": "2025-06-17T15:04:10.208770Z",
     "iopub.status.idle": "2025-06-17T15:04:10.213886Z",
     "shell.execute_reply": "2025-06-17T15:04:10.212987Z"
    },
    "papermill": {
     "duration": 0.012495,
     "end_time": "2025-06-17T15:04:10.215406",
     "exception": false,
     "start_time": "2025-06-17T15:04:10.202911",
     "status": "completed"
    },
    "tags": []
   },
   "outputs": [],
   "source": [
    "# Turns rational functions in our basis into polynomials\n",
    "def make_polynomial(f, mag):\n",
    "    f = sp.numer(f).subs(mag, x)\n",
    "    while f.is_polynomial(zs,zbar,x) == False:\n",
    "        f = simplify(f * x)\n",
    "        f = sp.numer(f).subs(mag, x)\n",
    "    return expand(f.subs(x,abs(z)**2))"
   ]
  },
  {
   "cell_type": "code",
   "execution_count": 9,
   "id": "6800a489",
   "metadata": {
    "execution": {
     "iopub.execute_input": "2025-06-17T15:04:10.226513Z",
     "iopub.status.busy": "2025-06-17T15:04:10.226213Z",
     "iopub.status.idle": "2025-06-17T15:04:10.230774Z",
     "shell.execute_reply": "2025-06-17T15:04:10.229790Z"
    },
    "papermill": {
     "duration": 0.012091,
     "end_time": "2025-06-17T15:04:10.232419",
     "exception": false,
     "start_time": "2025-06-17T15:04:10.220328",
     "status": "completed"
    },
    "tags": []
   },
   "outputs": [],
   "source": [
    "# For H_k(R^n) *NOT C^n\n",
    "def real_dim():\n",
    "    return nC(n+k-1,k) - nC(n+k-3,k-2)"
   ]
  },
  {
   "cell_type": "code",
   "execution_count": 10,
   "id": "81715d6a",
   "metadata": {
    "execution": {
     "iopub.execute_input": "2025-06-17T15:04:10.245389Z",
     "iopub.status.busy": "2025-06-17T15:04:10.244556Z",
     "iopub.status.idle": "2025-06-17T15:04:10.249047Z",
     "shell.execute_reply": "2025-06-17T15:04:10.248215Z"
    },
    "papermill": {
     "duration": 0.012004,
     "end_time": "2025-06-17T15:04:10.250445",
     "exception": false,
     "start_time": "2025-06-17T15:04:10.238441",
     "status": "completed"
    },
    "tags": []
   },
   "outputs": [],
   "source": [
    "# For H_k(C^n)\n",
    "def dim_H_k():\n",
    "    return nC(2*n+k-1,k) - nC(2*n+k-3,k-2)"
   ]
  },
  {
   "cell_type": "code",
   "execution_count": 11,
   "id": "59e773d1",
   "metadata": {
    "execution": {
     "iopub.execute_input": "2025-06-17T15:04:10.261359Z",
     "iopub.status.busy": "2025-06-17T15:04:10.261042Z",
     "iopub.status.idle": "2025-06-17T15:04:10.265520Z",
     "shell.execute_reply": "2025-06-17T15:04:10.264637Z"
    },
    "papermill": {
     "duration": 0.011492,
     "end_time": "2025-06-17T15:04:10.266896",
     "exception": false,
     "start_time": "2025-06-17T15:04:10.255404",
     "status": "completed"
    },
    "tags": []
   },
   "outputs": [],
   "source": [
    "# For H_p,q(C^n)\n",
    "def dim_H_pq():\n",
    "    return nC(n+p-1,p)*nC(n+q-1,q) - nC(n+p-2,p-1)*nC(n+q-2,q-1)"
   ]
  },
  {
   "cell_type": "code",
   "execution_count": 12,
   "id": "46a0ee62",
   "metadata": {
    "execution": {
     "iopub.execute_input": "2025-06-17T15:04:10.277906Z",
     "iopub.status.busy": "2025-06-17T15:04:10.277554Z",
     "iopub.status.idle": "2025-06-17T15:04:10.283414Z",
     "shell.execute_reply": "2025-06-17T15:04:10.282568Z"
    },
    "papermill": {
     "duration": 0.013044,
     "end_time": "2025-06-17T15:04:10.284862",
     "exception": false,
     "start_time": "2025-06-17T15:04:10.271818",
     "status": "completed"
    },
    "tags": []
   },
   "outputs": [],
   "source": [
    "# Finding basis for H_k(R^n) - see Axler's Harmonic Function Theory p. 92\n",
    "def real_basis():\n",
    "    basis = FiniteSet()\n",
    "    alphas = get_alpha_beta(k)\n",
    "    for a in alphas:\n",
    "        if a[0] > 1:\n",
    "            alphas -= FiniteSet(a)\n",
    "    print(f'# of elements = {len(alphas)}')\n",
    "    print(f'Dimension from combinatorial expression = {real_dim()} \\n')\n",
    "    for a in alphas:\n",
    "        d = D(np_real, a, zs)\n",
    "        d = make_polynomial(d, mag_real)\n",
    "        print(d, '\\n')\n",
    "        basis += FiniteSet(d)\n",
    "    return basis"
   ]
  },
  {
   "cell_type": "code",
   "execution_count": 13,
   "id": "5a994542",
   "metadata": {
    "execution": {
     "iopub.execute_input": "2025-06-17T15:04:10.296209Z",
     "iopub.status.busy": "2025-06-17T15:04:10.295922Z",
     "iopub.status.idle": "2025-06-17T15:04:10.302694Z",
     "shell.execute_reply": "2025-06-17T15:04:10.301725Z"
    },
    "papermill": {
     "duration": 0.01387,
     "end_time": "2025-06-17T15:04:10.304168",
     "exception": false,
     "start_time": "2025-06-17T15:04:10.290298",
     "status": "completed"
    },
    "tags": []
   },
   "outputs": [],
   "source": [
    "# Finding basis for H_p,q(C^n)\n",
    "def basis_H_pq():\n",
    "    basis = FiniteSet()\n",
    "    alphas = get_alpha_beta(p)\n",
    "    betas = get_alpha_beta(q)\n",
    "    ab = FiniteSet()\n",
    "    for a in alphas:\n",
    "        for b in betas:\n",
    "            if a[0]==0 or b[0]==0:\n",
    "                ab += FiniteSet((a,b))\n",
    "    print(f'# of elements = {len(ab)}')\n",
    "    print(f'Dimension from combinatorial expression = {dim_H_pq()} \\n')\n",
    "    for (a,b) in ab:\n",
    "        d = D(np_complex,b,zs)\n",
    "        d = D(d,a,zbar)\n",
    "        d = make_polynomial(d, mag_complex)\n",
    "        print(d, '\\n')\n",
    "        basis += FiniteSet(d)\n",
    "    return basis"
   ]
  },
  {
   "cell_type": "code",
   "execution_count": 14,
   "id": "0b44c7ec",
   "metadata": {
    "execution": {
     "iopub.execute_input": "2025-06-17T15:04:10.314952Z",
     "iopub.status.busy": "2025-06-17T15:04:10.314591Z",
     "iopub.status.idle": "2025-06-17T15:04:10.319491Z",
     "shell.execute_reply": "2025-06-17T15:04:10.318628Z"
    },
    "papermill": {
     "duration": 0.011814,
     "end_time": "2025-06-17T15:04:10.320820",
     "exception": false,
     "start_time": "2025-06-17T15:04:10.309006",
     "status": "completed"
    },
    "tags": []
   },
   "outputs": [],
   "source": [
    "# Regular complex Laplacian\n",
    "def box(f):\n",
    "    laplacian = 0\n",
    "    for i in range(n):\n",
    "        laplacian += diff(diff(f,zbar[i]),zs[i])\n",
    "    return laplacian"
   ]
  },
  {
   "cell_type": "code",
   "execution_count": 15,
   "id": "87bc8fbf",
   "metadata": {
    "execution": {
     "iopub.execute_input": "2025-06-17T15:04:10.332209Z",
     "iopub.status.busy": "2025-06-17T15:04:10.331886Z",
     "iopub.status.idle": "2025-06-17T15:04:10.338473Z",
     "shell.execute_reply": "2025-06-17T15:04:10.337636Z"
    },
    "papermill": {
     "duration": 0.014131,
     "end_time": "2025-06-17T15:04:10.340154",
     "exception": false,
     "start_time": "2025-06-17T15:04:10.326023",
     "status": "completed"
    },
    "tags": []
   },
   "outputs": [],
   "source": [
    "# Kohn Laplacian as given in 2018 REU paper\n",
    "def box_b(f):\n",
    "    box_b = 0\n",
    "    # first term\n",
    "    for i in range(n): \n",
    "        box_b += -2*diff(diff(f,zbar[i]), zs[i])\n",
    "        \n",
    "    # second term\n",
    "    for i in range(n): \n",
    "        box_b += 2*diff(zs[i]*q*f, zs[i])\n",
    "        \n",
    "    # third term (double sum)\n",
    "    for i in range(n): \n",
    "        for a in range(n):\n",
    "            box_b += 2*diff(zs[a]*zbar[i]*diff(f,zbar[i]), zs[a])\n",
    "            \n",
    "    # fourth term (double sum)\n",
    "    for i in range(n): \n",
    "        for a in range(n):\n",
    "            box_b += -2*diff(zs[a]*zbar[i]*zs[i]*q*f, zs[a])\n",
    "    return box_b"
   ]
  },
  {
   "cell_type": "code",
   "execution_count": 16,
   "id": "7efdf92d",
   "metadata": {
    "execution": {
     "iopub.execute_input": "2025-06-17T15:04:10.351270Z",
     "iopub.status.busy": "2025-06-17T15:04:10.350971Z",
     "iopub.status.idle": "2025-06-17T15:04:10.355419Z",
     "shell.execute_reply": "2025-06-17T15:04:10.354648Z"
    },
    "papermill": {
     "duration": 0.011547,
     "end_time": "2025-06-17T15:04:10.356716",
     "exception": false,
     "start_time": "2025-06-17T15:04:10.345169",
     "status": "completed"
    },
    "tags": []
   },
   "outputs": [],
   "source": [
    "# Just in case :)\n",
    "def is_harmonic(f):\n",
    "    return (box_b(f)/f).simplify().is_polynomial(mag_complex)"
   ]
  },
  {
   "cell_type": "code",
   "execution_count": 17,
   "id": "43f92ed2",
   "metadata": {
    "execution": {
     "iopub.execute_input": "2025-06-17T15:04:10.367874Z",
     "iopub.status.busy": "2025-06-17T15:04:10.367541Z",
     "iopub.status.idle": "2025-06-17T15:04:10.373127Z",
     "shell.execute_reply": "2025-06-17T15:04:10.372205Z"
    },
    "papermill": {
     "duration": 0.012804,
     "end_time": "2025-06-17T15:04:10.374700",
     "exception": false,
     "start_time": "2025-06-17T15:04:10.361896",
     "status": "completed"
    },
    "tags": []
   },
   "outputs": [],
   "source": [
    "# Returns the Ikeda generating function for a given lens space\n",
    "def F(k,ls):\n",
    "    F = 0\n",
    "    zeta = exp(2*pi*I/k)\n",
    "    for m in range(k):\n",
    "        frac = 1-z*w\n",
    "        for i in range(len(ls)):\n",
    "            frac /= (z-zeta**(-m*ls[i]))*(w-zeta**(m*ls[i]))\n",
    "        F += frac\n",
    "    F = (1/k)*F\n",
    "    return F"
   ]
  },
  {
   "cell_type": "code",
   "execution_count": 18,
   "id": "d1cdf763",
   "metadata": {
    "execution": {
     "iopub.execute_input": "2025-06-17T15:04:10.386710Z",
     "iopub.status.busy": "2025-06-17T15:04:10.385760Z",
     "iopub.status.idle": "2025-06-17T15:04:10.391991Z",
     "shell.execute_reply": "2025-06-17T15:04:10.391181Z"
    },
    "papermill": {
     "duration": 0.013395,
     "end_time": "2025-06-17T15:04:10.393414",
     "exception": false,
     "start_time": "2025-06-17T15:04:10.380019",
     "status": "completed"
    },
    "tags": []
   },
   "outputs": [],
   "source": [
    "# Coefficients from Taylor series expansion for a two-variable function- read more at\n",
    "# https://math.libretexts.org/Bookshelves/Calculus/Supplemental_Modules_(Calculus)/Multivariable_Calculus/3%3A_Topics_in_Partial_Derivatives/Taylor__Polynomials_of_Functions_of_Two_Variables\n",
    "def taylor_coeffs(f,deg):\n",
    "    table = []\n",
    "    for i in range(deg+1):\n",
    "        row = []\n",
    "        for j in range(deg+1-i):\n",
    "            d = diff(f,w,j)\n",
    "            d = diff(d,z,i)\n",
    "            d = lambdify([z,w],d)\n",
    "            term = re(d(0,0)/(factorial(i)*factorial(j))).round()\n",
    "            row.append(term)\n",
    "        while len(row) < deg+1:\n",
    "            row.append('-')\n",
    "        table.append(row)\n",
    "    return table"
   ]
  },
  {
   "cell_type": "code",
   "execution_count": 19,
   "id": "d3c535d1",
   "metadata": {
    "execution": {
     "iopub.execute_input": "2025-06-17T15:04:10.404741Z",
     "iopub.status.busy": "2025-06-17T15:04:10.404432Z",
     "iopub.status.idle": "2025-06-17T15:04:10.409390Z",
     "shell.execute_reply": "2025-06-17T15:04:10.408550Z"
    },
    "papermill": {
     "duration": 0.012154,
     "end_time": "2025-06-17T15:04:10.410661",
     "exception": false,
     "start_time": "2025-06-17T15:04:10.398507",
     "status": "completed"
    },
    "tags": []
   },
   "outputs": [],
   "source": [
    "# Gets a single degeneracy table (as a list of arrays) from the dataset\n",
    "def clean_col(df,col):\n",
    "    table = df[col].to_list()\n",
    "    while type(table[-1]) is float:\n",
    "        table = table[:-1]\n",
    "    return table"
   ]
  },
  {
   "cell_type": "code",
   "execution_count": 20,
   "id": "c24ac2ff",
   "metadata": {
    "execution": {
     "iopub.execute_input": "2025-06-17T15:04:10.421485Z",
     "iopub.status.busy": "2025-06-17T15:04:10.421196Z",
     "iopub.status.idle": "2025-06-17T15:04:10.426288Z",
     "shell.execute_reply": "2025-06-17T15:04:10.425358Z"
    },
    "papermill": {
     "duration": 0.012298,
     "end_time": "2025-06-17T15:04:10.427774",
     "exception": false,
     "start_time": "2025-06-17T15:04:10.415476",
     "status": "completed"
    },
    "tags": []
   },
   "outputs": [],
   "source": [
    "# Turns the order and l values into a string \n",
    "# To avoid duplicates, the eigenvalues of the generator are sorted in ascending order\n",
    "def make_lens_str(k,ls):\n",
    "    lens = \"L(\"+str(k)+\";\"\n",
    "    ls.sort()\n",
    "    for l in ls:\n",
    "        lens += str(l)+\",\"\n",
    "    lens = lens[:-1]\n",
    "    lens += \")\"\n",
    "    return lens"
   ]
  },
  {
   "cell_type": "code",
   "execution_count": 21,
   "id": "b1f20e1b",
   "metadata": {
    "execution": {
     "iopub.execute_input": "2025-06-17T15:04:10.438723Z",
     "iopub.status.busy": "2025-06-17T15:04:10.438422Z",
     "iopub.status.idle": "2025-06-17T15:04:10.443090Z",
     "shell.execute_reply": "2025-06-17T15:04:10.442238Z"
    },
    "papermill": {
     "duration": 0.011727,
     "end_time": "2025-06-17T15:04:10.444463",
     "exception": false,
     "start_time": "2025-06-17T15:04:10.432736",
     "status": "completed"
    },
    "tags": []
   },
   "outputs": [],
   "source": [
    "# File lookup\n",
    "def find_file(file):\n",
    "    for dirname, _, filenames in os.walk('/kaggle/input/degeneracy-tables'):\n",
    "        if file in filenames:\n",
    "            return True\n",
    "    return False"
   ]
  },
  {
   "cell_type": "code",
   "execution_count": 22,
   "id": "82b6206b",
   "metadata": {
    "execution": {
     "iopub.execute_input": "2025-06-17T15:04:10.455970Z",
     "iopub.status.busy": "2025-06-17T15:04:10.455635Z",
     "iopub.status.idle": "2025-06-17T15:04:10.462131Z",
     "shell.execute_reply": "2025-06-17T15:04:10.461240Z"
    },
    "papermill": {
     "duration": 0.013925,
     "end_time": "2025-06-17T15:04:10.463635",
     "exception": false,
     "start_time": "2025-06-17T15:04:10.449710",
     "status": "completed"
    },
    "tags": []
   },
   "outputs": [],
   "source": [
    "def degeneracy_table(k,ls,deg):\n",
    "    N = len(ls)\n",
    "    lens = make_lens_str(k,ls)\n",
    "    file = 'n=' + str(N) + '.csv'\n",
    "    path = \"/kaggle/working/\" + file\n",
    "    if find_file(file):\n",
    "        data = pd.read_csv(path)\n",
    "    else:\n",
    "        data = pd.DataFrame()\n",
    "    if lens not in data or deg > len(clean_col(data,lens)):\n",
    "        f = F(k,ls)\n",
    "        T = taylor_coeffs(f,deg)\n",
    "        new = pd.DataFrame({lens:T})\n",
    "        data.merge(new, left_index = True, right_index = True, how = 'outer')\n",
    "        data.to_csv(path, index = False)\n",
    "        update_data()\n",
    "    else:\n",
    "        T = clean_col(data,lens)\n",
    "    return pd.DataFrame(T)"
   ]
  },
  {
   "cell_type": "code",
   "execution_count": 23,
   "id": "d7d032c5",
   "metadata": {
    "execution": {
     "iopub.execute_input": "2025-06-17T15:04:10.475283Z",
     "iopub.status.busy": "2025-06-17T15:04:10.474956Z",
     "iopub.status.idle": "2025-06-17T15:04:10.481414Z",
     "shell.execute_reply": "2025-06-17T15:04:10.480505Z"
    },
    "papermill": {
     "duration": 0.014218,
     "end_time": "2025-06-17T15:04:10.482806",
     "exception": false,
     "start_time": "2025-06-17T15:04:10.468588",
     "status": "completed"
    },
    "tags": []
   },
   "outputs": [],
   "source": [
    "# Update dataset\n",
    "def update_data():\n",
    "    # with open('/kaggle/working/dataset-metadata.json', 'w') as json_fid:\n",
    "    #     json_fid.write('{\\n  \"title\": \"Degeneracy Tables\",\\n  \"id\": \"tanvikiran27/degeneracy-tables\",\\n  \"licenses\": [{\"name\": \"CC0-1.0\"}]},\\n \"description\": \"Database edit\"')\n",
    "    !kaggle datasets init -p /kaggle/working\n",
    "    with open('/kaggle/working/dataset-metadata.json', 'w') as json_fid:\n",
    "        json_fid.write('{\\n  \"title\": \"Degeneracy Tables\",\\n  \"id\": \"tanvikiran27/degeneracy-tables\",\\n  \"licenses\": [{\"name\": \"CC0-1.0\"}]},\\n \"description\": \"Database edit\"')\n",
    "    !kaggle datasets version -m new\n",
    "    print(\"Dataset updated!\")"
   ]
  },
  {
   "cell_type": "code",
   "execution_count": 24,
   "id": "1a5400f4",
   "metadata": {
    "execution": {
     "iopub.execute_input": "2025-06-17T15:04:10.494136Z",
     "iopub.status.busy": "2025-06-17T15:04:10.493335Z",
     "iopub.status.idle": "2025-06-17T15:04:12.902264Z",
     "shell.execute_reply": "2025-06-17T15:04:12.901052Z"
    },
    "papermill": {
     "duration": 2.415879,
     "end_time": "2025-06-17T15:04:12.903645",
     "exception": false,
     "start_time": "2025-06-17T15:04:10.487766",
     "status": "completed"
    },
    "tags": []
   },
   "outputs": [
    {
     "name": "stdout",
     "output_type": "stream",
     "text": [
      "Data package template written to: /kaggle/working/dataset-metadata.json\r\n",
      "Extra data: line 4 column 37 (char 112)\r\n",
      "Dataset updated!\n"
     ]
    },
    {
     "data": {
      "text/html": [
       "<div>\n",
       "<style scoped>\n",
       "    .dataframe tbody tr th:only-of-type {\n",
       "        vertical-align: middle;\n",
       "    }\n",
       "\n",
       "    .dataframe tbody tr th {\n",
       "        vertical-align: top;\n",
       "    }\n",
       "\n",
       "    .dataframe thead th {\n",
       "        text-align: right;\n",
       "    }\n",
       "</style>\n",
       "<table border=\"1\" class=\"dataframe\">\n",
       "  <thead>\n",
       "    <tr style=\"text-align: right;\">\n",
       "      <th></th>\n",
       "      <th>0</th>\n",
       "      <th>1</th>\n",
       "      <th>2</th>\n",
       "      <th>3</th>\n",
       "      <th>4</th>\n",
       "      <th>5</th>\n",
       "    </tr>\n",
       "  </thead>\n",
       "  <tbody>\n",
       "    <tr>\n",
       "      <th>0</th>\n",
       "      <td>1</td>\n",
       "      <td>0</td>\n",
       "      <td>3</td>\n",
       "      <td>0</td>\n",
       "      <td>5</td>\n",
       "      <td>0</td>\n",
       "    </tr>\n",
       "    <tr>\n",
       "      <th>1</th>\n",
       "      <td>0</td>\n",
       "      <td>3</td>\n",
       "      <td>0</td>\n",
       "      <td>5</td>\n",
       "      <td>0</td>\n",
       "      <td>-</td>\n",
       "    </tr>\n",
       "    <tr>\n",
       "      <th>2</th>\n",
       "      <td>3</td>\n",
       "      <td>0</td>\n",
       "      <td>5</td>\n",
       "      <td>0</td>\n",
       "      <td>-</td>\n",
       "      <td>-</td>\n",
       "    </tr>\n",
       "    <tr>\n",
       "      <th>3</th>\n",
       "      <td>0</td>\n",
       "      <td>5</td>\n",
       "      <td>0</td>\n",
       "      <td>-</td>\n",
       "      <td>-</td>\n",
       "      <td>-</td>\n",
       "    </tr>\n",
       "    <tr>\n",
       "      <th>4</th>\n",
       "      <td>5</td>\n",
       "      <td>0</td>\n",
       "      <td>-</td>\n",
       "      <td>-</td>\n",
       "      <td>-</td>\n",
       "      <td>-</td>\n",
       "    </tr>\n",
       "    <tr>\n",
       "      <th>5</th>\n",
       "      <td>0</td>\n",
       "      <td>-</td>\n",
       "      <td>-</td>\n",
       "      <td>-</td>\n",
       "      <td>-</td>\n",
       "      <td>-</td>\n",
       "    </tr>\n",
       "  </tbody>\n",
       "</table>\n",
       "</div>"
      ],
      "text/plain": [
       "   0  1  2  3  4  5\n",
       "0  1  0  3  0  5  0\n",
       "1  0  3  0  5  0  -\n",
       "2  3  0  5  0  -  -\n",
       "3  0  5  0  -  -  -\n",
       "4  5  0  -  -  -  -\n",
       "5  0  -  -  -  -  -"
      ]
     },
     "execution_count": 24,
     "metadata": {},
     "output_type": "execute_result"
    }
   ],
   "source": [
    "degeneracy_table(2,[1,-1],5)"
   ]
  },
  {
   "cell_type": "code",
   "execution_count": 25,
   "id": "b7981d11",
   "metadata": {
    "execution": {
     "iopub.execute_input": "2025-06-17T15:04:12.915535Z",
     "iopub.status.busy": "2025-06-17T15:04:12.915183Z",
     "iopub.status.idle": "2025-06-17T15:04:12.919701Z",
     "shell.execute_reply": "2025-06-17T15:04:12.918946Z"
    },
    "papermill": {
     "duration": 0.01227,
     "end_time": "2025-06-17T15:04:12.921189",
     "exception": false,
     "start_time": "2025-06-17T15:04:12.908919",
     "status": "completed"
    },
    "tags": []
   },
   "outputs": [],
   "source": [
    "# In case you need to clear the dataset for some reason\n",
    "\n",
    "# import pathlib\n",
    "# files_to_delete = './*.csv' # this considers only \".txt\" files. If you want to delete all files, use \"./*\"\n",
    "# files_list = pathlib.Path(os.getcwd()).glob(files_to_delete)\n",
    "# for file_path in files_list:\n",
    "#     os.remove(file_path)"
   ]
  }
 ],
 "metadata": {
  "kaggle": {
   "accelerator": "none",
   "dataSources": [
    {
     "datasetId": 7663550,
     "sourceId": 12197123,
     "sourceType": "datasetVersion"
    }
   ],
   "dockerImageVersionId": 31040,
   "isGpuEnabled": false,
   "isInternetEnabled": true,
   "language": "python",
   "sourceType": "notebook"
  },
  "kernelspec": {
   "display_name": "Python 3",
   "language": "python",
   "name": "python3"
  },
  "language_info": {
   "codemirror_mode": {
    "name": "ipython",
    "version": 3
   },
   "file_extension": ".py",
   "mimetype": "text/x-python",
   "name": "python",
   "nbconvert_exporter": "python",
   "pygments_lexer": "ipython3",
   "version": "3.11.11"
  },
  "papermill": {
   "default_parameters": {},
   "duration": 15.39351,
   "end_time": "2025-06-17T15:04:13.646578",
   "environment_variables": {},
   "exception": null,
   "input_path": "__notebook__.ipynb",
   "output_path": "__notebook__.ipynb",
   "parameters": {},
   "start_time": "2025-06-17T15:03:58.253068",
   "version": "2.6.0"
  }
 },
 "nbformat": 4,
 "nbformat_minor": 5
}
