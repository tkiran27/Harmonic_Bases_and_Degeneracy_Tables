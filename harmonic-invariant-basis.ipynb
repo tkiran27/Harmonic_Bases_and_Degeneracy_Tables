{
 "cells": [
  {
   "cell_type": "code",
   "execution_count": 1,
   "id": "12e47265",
   "metadata": {
    "_cell_guid": "b1076dfc-b9ad-4769-8c92-a6c4dae69d19",
    "_uuid": "8f2839f25d086af736a60e9eeb907d3b93b6e0e5",
    "execution": {
     "iopub.execute_input": "2025-06-17T14:52:23.086643Z",
     "iopub.status.busy": "2025-06-17T14:52:23.086291Z",
     "iopub.status.idle": "2025-06-17T14:52:28.203460Z",
     "shell.execute_reply": "2025-06-17T14:52:28.202458Z"
    },
    "papermill": {
     "duration": 5.130351,
     "end_time": "2025-06-17T14:52:28.205322",
     "exception": false,
     "start_time": "2025-06-17T14:52:23.074971",
     "status": "completed"
    },
    "tags": []
   },
   "outputs": [
    {
     "name": "stdout",
     "output_type": "stream",
     "text": [
      "/kaggle/input/degeneracy-tables/degeneracy_tables.csv\n",
      "/kaggle/input/degeneracy-tables/n=2.csv\n",
      "/kaggle/input/degeneracy-tables/dataset-metadata.json\n"
     ]
    }
   ],
   "source": [
    "# This Python 3 environment comes with many helpful analytics libraries installed\n",
    "# It is defined by the kaggle/python Docker image: https://github.com/kaggle/docker-python\n",
    "# For example, here's several helpful packages to load\n",
    "# hatch run python -c \"import kaggle; from kaggle.api.kaggle_api_extended import KaggleApi; api = KaggleApi(); api.authenticate(); api.model_list_cli()\"\n",
    "\n",
    "import numpy as np # linear algebra\n",
    "import itertools as it\n",
    "import sympy as sp \n",
    "import pandas as pd\n",
    "from sympy import symbols, Function, diff, conjugate, FiniteSet, simplify, Poly, series, re\n",
    "from sympy import *\n",
    "from sympy.utilities.iterables import partitions\n",
    "from sympy.functions.combinatorial.numbers import nC\n",
    "from sympy.combinatorics.named_groups import CyclicGroup\n",
    "from sympy.matrices import Matrix, eye, zeros, ones, diag, GramSchmidt\n",
    "\n",
    "import os\n",
    "import zipfile\n",
    "\n",
    "for dirname, _, filenames in os.walk('/kaggle/input/'):\n",
    "    for filename in filenames:\n",
    "        print(os.path.join(dirname, filename))"
   ]
  },
  {
   "cell_type": "code",
   "execution_count": 2,
   "id": "ce45ca48",
   "metadata": {
    "execution": {
     "iopub.execute_input": "2025-06-17T14:52:28.217382Z",
     "iopub.status.busy": "2025-06-17T14:52:28.216956Z",
     "iopub.status.idle": "2025-06-17T14:52:28.554013Z",
     "shell.execute_reply": "2025-06-17T14:52:28.552840Z"
    },
    "papermill": {
     "duration": 0.345104,
     "end_time": "2025-06-17T14:52:28.555914",
     "exception": false,
     "start_time": "2025-06-17T14:52:28.210810",
     "status": "completed"
    },
    "tags": []
   },
   "outputs": [
    {
     "name": "stdout",
     "output_type": "stream",
     "text": [
      "Yay, it worked!\n"
     ]
    }
   ],
   "source": [
    "from kaggle_secrets import UserSecretsClient\n",
    "if os.path.exists('/root/.kaggle/'):\n",
    "    pass\n",
    "else:\n",
    "    os.mkdir('/root/.kaggle/')\n",
    "kaggle_API_key = UserSecretsClient().get_secret(\"key\")\n",
    "\n",
    "with open('/root/.kaggle/kaggle.json', 'w') as fid:\n",
    "    fid.writelines(f'{{\"username\":\"tanvikiran27\",\"key\":\"{kaggle_API_key}\"}}')\n",
    "\n",
    "!chmod 600 /root/.kaggle/kaggle.json\n",
    "print('Yay, it worked!')"
   ]
  },
  {
   "cell_type": "code",
   "execution_count": 3,
   "id": "1167e0c5",
   "metadata": {
    "execution": {
     "iopub.execute_input": "2025-06-17T14:52:28.567811Z",
     "iopub.status.busy": "2025-06-17T14:52:28.567437Z",
     "iopub.status.idle": "2025-06-17T14:52:30.325397Z",
     "shell.execute_reply": "2025-06-17T14:52:30.324237Z"
    },
    "papermill": {
     "duration": 1.766166,
     "end_time": "2025-06-17T14:52:30.327199",
     "exception": false,
     "start_time": "2025-06-17T14:52:28.561033",
     "status": "completed"
    },
    "tags": []
   },
   "outputs": [
    {
     "name": "stdout",
     "output_type": "stream",
     "text": [
      "Dataset URL: https://www.kaggle.com/datasets/tanvikiran27/degeneracy-tables\r\n",
      "License(s): unknown\r\n"
     ]
    }
   ],
   "source": [
    "!kaggle datasets download tanvikiran27/degeneracy-tables\n",
    "\n",
    "with zipfile.ZipFile('/kaggle/working/degeneracy-tables.zip') as file:\n",
    "    file.extractall()\n",
    "os.remove('/kaggle/working/degeneracy-tables.zip')"
   ]
  },
  {
   "cell_type": "markdown",
   "id": "bfcf62dc",
   "metadata": {
    "papermill": {
     "duration": 0.004862,
     "end_time": "2025-06-17T14:52:30.337318",
     "exception": false,
     "start_time": "2025-06-17T14:52:30.332456",
     "status": "completed"
    },
    "tags": []
   },
   "source": [
    "$n$ = dimension ($\\mathbb{R}^n$ or $\\mathbb{C}^n$) \\\n",
    "$k$ = real degree \\\n",
    "$(p,q)$ = complex bidegree"
   ]
  },
  {
   "cell_type": "code",
   "execution_count": 4,
   "id": "c49c22ac",
   "metadata": {
    "execution": {
     "iopub.execute_input": "2025-06-17T14:52:30.349157Z",
     "iopub.status.busy": "2025-06-17T14:52:30.348795Z",
     "iopub.status.idle": "2025-06-17T14:52:30.417226Z",
     "shell.execute_reply": "2025-06-17T14:52:30.416439Z"
    },
    "papermill": {
     "duration": 0.076668,
     "end_time": "2025-06-17T14:52:30.418943",
     "exception": false,
     "start_time": "2025-06-17T14:52:30.342275",
     "status": "completed"
    },
    "tags": []
   },
   "outputs": [],
   "source": [
    "####### Change constants here #######\n",
    "n = 3\n",
    "k = 3\n",
    "p = 2\n",
    "q = 1\n",
    "#####################################\n",
    "\n",
    "# Setting up symbols\n",
    "f = symbols('f', cls = Function)\n",
    "x,y,z,w,zeta = symbols('x y z w zeta')\n",
    "zs = symbols(f'z1:{n+1}', complex=True)\n",
    "zbar = symbols(f'zbar1:{n+1}', complex=True)\n",
    "ls = symbols(f'l1:{n+1}', int=True)\n",
    "\n",
    "# newton potential (R^n) \n",
    "mag_real = 0\n",
    "for i in range(n):\n",
    "    mag_real += zs[i]**2 ## Euclidean norm squared\n",
    "np_real = sp.sqrt(mag_real)**(2-n)\n",
    "\n",
    "# newton potential (C^n)\n",
    "mag_complex = 0\n",
    "for i in range(n):\n",
    "    mag_complex += zs[i]*zbar[i] ## Complex modulus squared\n",
    "np_complex = sp.sqrt(mag_complex)**(2-2*n)"
   ]
  },
  {
   "cell_type": "code",
   "execution_count": 5,
   "id": "7db1b122",
   "metadata": {
    "execution": {
     "iopub.execute_input": "2025-06-17T14:52:30.430335Z",
     "iopub.status.busy": "2025-06-17T14:52:30.430036Z",
     "iopub.status.idle": "2025-06-17T14:52:30.456864Z",
     "shell.execute_reply": "2025-06-17T14:52:30.455960Z"
    },
    "papermill": {
     "duration": 0.034189,
     "end_time": "2025-06-17T14:52:30.458256",
     "exception": false,
     "start_time": "2025-06-17T14:52:30.424067",
     "status": "completed"
    },
    "tags": []
   },
   "outputs": [
    {
     "data": {
      "text/latex": [
       "$\\displaystyle \\left\\{\\left[\\begin{matrix}1 & 0\\\\0 & 1\\end{matrix}\\right], \\left[\\begin{matrix}e^{- \\frac{4 i \\pi}{5}} & 0\\\\0 & e^{\\frac{4 i \\pi}{5}}\\end{matrix}\\right], \\left[\\begin{matrix}e^{- \\frac{2 i \\pi}{5}} & 0\\\\0 & e^{\\frac{2 i \\pi}{5}}\\end{matrix}\\right], \\left[\\begin{matrix}e^{\\frac{2 i \\pi}{5}} & 0\\\\0 & e^{- \\frac{2 i \\pi}{5}}\\end{matrix}\\right], \\left[\\begin{matrix}e^{\\frac{4 i \\pi}{5}} & 0\\\\0 & e^{- \\frac{4 i \\pi}{5}}\\end{matrix}\\right]\\right\\}$"
      ],
      "text/plain": [
       "{Matrix([\n",
       "[1, 0],\n",
       "[0, 1]]), Matrix([\n",
       "[exp(-4*I*pi/5),             0],\n",
       "[             0, exp(4*I*pi/5)]]), Matrix([\n",
       "[exp(-2*I*pi/5),             0],\n",
       "[             0, exp(2*I*pi/5)]]), Matrix([\n",
       "[exp(2*I*pi/5),              0],\n",
       "[            0, exp(-2*I*pi/5)]]), Matrix([\n",
       "[exp(4*I*pi/5),              0],\n",
       "[            0, exp(-4*I*pi/5)]])}"
      ]
     },
     "execution_count": 5,
     "metadata": {},
     "output_type": "execute_result"
    }
   ],
   "source": [
    "# Cyclic group (roots of unity)\n",
    "m=5\n",
    "zeta = exp(2*pi*I/m)\n",
    "g = diag(zeta, zeta**(-1))\n",
    "G = FiniteSet()\n",
    "for i in range(m):\n",
    "    G += FiniteSet(g**i)\n",
    "G"
   ]
  },
  {
   "cell_type": "code",
   "execution_count": 6,
   "id": "bacdd6a2",
   "metadata": {
    "execution": {
     "iopub.execute_input": "2025-06-17T14:52:30.470293Z",
     "iopub.status.busy": "2025-06-17T14:52:30.469982Z",
     "iopub.status.idle": "2025-06-17T14:52:30.474886Z",
     "shell.execute_reply": "2025-06-17T14:52:30.473931Z"
    },
    "papermill": {
     "duration": 0.012802,
     "end_time": "2025-06-17T14:52:30.476381",
     "exception": false,
     "start_time": "2025-06-17T14:52:30.463579",
     "status": "completed"
    },
    "tags": []
   },
   "outputs": [],
   "source": [
    "# Multi index differentiation\n",
    "def D(f,alpha,zs):\n",
    "    df = f\n",
    "    for i in range(n):\n",
    "        df = diff(df,(zs[i],alpha[i]))\n",
    "    return df"
   ]
  },
  {
   "cell_type": "code",
   "execution_count": 7,
   "id": "4b134d0a",
   "metadata": {
    "execution": {
     "iopub.execute_input": "2025-06-17T14:52:30.488940Z",
     "iopub.status.busy": "2025-06-17T14:52:30.488600Z",
     "iopub.status.idle": "2025-06-17T14:52:30.494565Z",
     "shell.execute_reply": "2025-06-17T14:52:30.493605Z"
    },
    "papermill": {
     "duration": 0.01391,
     "end_time": "2025-06-17T14:52:30.496057",
     "exception": false,
     "start_time": "2025-06-17T14:52:30.482147",
     "status": "completed"
    },
    "tags": []
   },
   "outputs": [],
   "source": [
    "# Returns valid n-tuples\n",
    "# https://www.geeksforgeeks.org/python-program-to-convert-dictionary-to-list-by-repeating-keys-corresponding-value-times/\n",
    "def get_alpha_beta(deg):\n",
    "    alphas = FiniteSet()\n",
    "    for part in partitions(deg, m=n):\n",
    "        part = list(it.chain.from_iterable(it.repeat(k, v) for k, v in part.items()))\n",
    "        while len(part) < n:\n",
    "            part.append(0)\n",
    "        for perm in it.permutations(part):\n",
    "            alphas += FiniteSet(perm)\n",
    "    return alphas"
   ]
  },
  {
   "cell_type": "code",
   "execution_count": 8,
   "id": "e5793ac4",
   "metadata": {
    "execution": {
     "iopub.execute_input": "2025-06-17T14:52:30.507774Z",
     "iopub.status.busy": "2025-06-17T14:52:30.507390Z",
     "iopub.status.idle": "2025-06-17T14:52:30.512939Z",
     "shell.execute_reply": "2025-06-17T14:52:30.512185Z"
    },
    "papermill": {
     "duration": 0.013274,
     "end_time": "2025-06-17T14:52:30.514601",
     "exception": false,
     "start_time": "2025-06-17T14:52:30.501327",
     "status": "completed"
    },
    "tags": []
   },
   "outputs": [],
   "source": [
    "# Turns rational functions in our basis into polynomials\n",
    "def make_polynomial(f, mag):\n",
    "    f = sp.numer(f).subs(mag, x)\n",
    "    while f.is_polynomial(zs,zbar,x) == False:\n",
    "        f = simplify(f * x)\n",
    "        f = sp.numer(f).subs(mag, x)\n",
    "    return expand(f.subs(x,abs(z)**2))"
   ]
  },
  {
   "cell_type": "code",
   "execution_count": 9,
   "id": "b0451950",
   "metadata": {
    "execution": {
     "iopub.execute_input": "2025-06-17T14:52:30.526736Z",
     "iopub.status.busy": "2025-06-17T14:52:30.526379Z",
     "iopub.status.idle": "2025-06-17T14:52:30.531479Z",
     "shell.execute_reply": "2025-06-17T14:52:30.530476Z"
    },
    "papermill": {
     "duration": 0.012643,
     "end_time": "2025-06-17T14:52:30.533068",
     "exception": false,
     "start_time": "2025-06-17T14:52:30.520425",
     "status": "completed"
    },
    "tags": []
   },
   "outputs": [],
   "source": [
    "# For H_k(R^n) *NOT C^n\n",
    "def real_dim():\n",
    "    return nC(n+k-1,k) - nC(n+k-3,k-2)"
   ]
  },
  {
   "cell_type": "code",
   "execution_count": 10,
   "id": "da2c894d",
   "metadata": {
    "execution": {
     "iopub.execute_input": "2025-06-17T14:52:30.544835Z",
     "iopub.status.busy": "2025-06-17T14:52:30.544479Z",
     "iopub.status.idle": "2025-06-17T14:52:30.549100Z",
     "shell.execute_reply": "2025-06-17T14:52:30.548160Z"
    },
    "papermill": {
     "duration": 0.012205,
     "end_time": "2025-06-17T14:52:30.550540",
     "exception": false,
     "start_time": "2025-06-17T14:52:30.538335",
     "status": "completed"
    },
    "tags": []
   },
   "outputs": [],
   "source": [
    "# For H_k(C^n)\n",
    "def dim_H_k():\n",
    "    return nC(2*n+k-1,k) - nC(2*n+k-3,k-2)"
   ]
  },
  {
   "cell_type": "code",
   "execution_count": 11,
   "id": "b1fc0929",
   "metadata": {
    "execution": {
     "iopub.execute_input": "2025-06-17T14:52:30.563840Z",
     "iopub.status.busy": "2025-06-17T14:52:30.563498Z",
     "iopub.status.idle": "2025-06-17T14:52:30.568960Z",
     "shell.execute_reply": "2025-06-17T14:52:30.567810Z"
    },
    "papermill": {
     "duration": 0.014623,
     "end_time": "2025-06-17T14:52:30.571155",
     "exception": false,
     "start_time": "2025-06-17T14:52:30.556532",
     "status": "completed"
    },
    "tags": []
   },
   "outputs": [],
   "source": [
    "# For H_p,q(C^n)\n",
    "def dim_H_pq():\n",
    "    return nC(n+p-1,p)*nC(n+q-1,q) - nC(n+p-2,p-1)*nC(n+q-2,q-1)"
   ]
  },
  {
   "cell_type": "code",
   "execution_count": 12,
   "id": "ef2e1e09",
   "metadata": {
    "execution": {
     "iopub.execute_input": "2025-06-17T14:52:30.583298Z",
     "iopub.status.busy": "2025-06-17T14:52:30.582583Z",
     "iopub.status.idle": "2025-06-17T14:52:30.588411Z",
     "shell.execute_reply": "2025-06-17T14:52:30.587525Z"
    },
    "papermill": {
     "duration": 0.013529,
     "end_time": "2025-06-17T14:52:30.590018",
     "exception": false,
     "start_time": "2025-06-17T14:52:30.576489",
     "status": "completed"
    },
    "tags": []
   },
   "outputs": [],
   "source": [
    "# Finding basis for H_k(R^n) - see Axler's Harmonic Function Theory p. 92\n",
    "def real_basis():\n",
    "    basis = FiniteSet()\n",
    "    alphas = get_alpha_beta(k)\n",
    "    for a in alphas:\n",
    "        if a[0] > 1:\n",
    "            alphas -= FiniteSet(a)\n",
    "    print(f'# of elements = {len(alphas)}')\n",
    "    print(f'Dimension from combinatorial expression = {real_dim()} \\n')\n",
    "    for a in alphas:\n",
    "        d = D(np_real, a, zs)\n",
    "        d = make_polynomial(d, mag_real)\n",
    "        print(d, '\\n')\n",
    "        basis += FiniteSet(d)\n",
    "    return basis"
   ]
  },
  {
   "cell_type": "code",
   "execution_count": 13,
   "id": "c5820cc6",
   "metadata": {
    "execution": {
     "iopub.execute_input": "2025-06-17T14:52:30.602466Z",
     "iopub.status.busy": "2025-06-17T14:52:30.601557Z",
     "iopub.status.idle": "2025-06-17T14:52:30.608471Z",
     "shell.execute_reply": "2025-06-17T14:52:30.607592Z"
    },
    "papermill": {
     "duration": 0.014745,
     "end_time": "2025-06-17T14:52:30.610065",
     "exception": false,
     "start_time": "2025-06-17T14:52:30.595320",
     "status": "completed"
    },
    "tags": []
   },
   "outputs": [],
   "source": [
    "# Finding basis for H_p,q(C^n)\n",
    "def basis_H_pq():\n",
    "    basis = FiniteSet()\n",
    "    alphas = get_alpha_beta(p)\n",
    "    betas = get_alpha_beta(q)\n",
    "    ab = FiniteSet()\n",
    "    for a in alphas:\n",
    "        for b in betas:\n",
    "            if a[0]==0 or b[0]==0:\n",
    "                ab += FiniteSet((a,b))\n",
    "    print(f'# of elements = {len(ab)}')\n",
    "    print(f'Dimension from combinatorial expression = {dim_H_pq()} \\n')\n",
    "    for (a,b) in ab:\n",
    "        d = D(np_complex,b,zs)\n",
    "        d = D(d,a,zbar)\n",
    "        d = make_polynomial(d, mag_complex)\n",
    "        print(d, '\\n')\n",
    "        basis += FiniteSet(d)\n",
    "    return basis"
   ]
  },
  {
   "cell_type": "code",
   "execution_count": 14,
   "id": "71b74241",
   "metadata": {
    "execution": {
     "iopub.execute_input": "2025-06-17T14:52:30.621822Z",
     "iopub.status.busy": "2025-06-17T14:52:30.621470Z",
     "iopub.status.idle": "2025-06-17T14:52:30.626483Z",
     "shell.execute_reply": "2025-06-17T14:52:30.625427Z"
    },
    "papermill": {
     "duration": 0.01282,
     "end_time": "2025-06-17T14:52:30.628092",
     "exception": false,
     "start_time": "2025-06-17T14:52:30.615272",
     "status": "completed"
    },
    "tags": []
   },
   "outputs": [],
   "source": [
    "# Regular complex Laplacian\n",
    "def box(f):\n",
    "    laplacian = 0\n",
    "    for i in range(n):\n",
    "        laplacian += diff(diff(f,zbar[i]),zs[i])\n",
    "    return laplacian"
   ]
  },
  {
   "cell_type": "code",
   "execution_count": 15,
   "id": "d1d624fd",
   "metadata": {
    "execution": {
     "iopub.execute_input": "2025-06-17T14:52:30.640809Z",
     "iopub.status.busy": "2025-06-17T14:52:30.640451Z",
     "iopub.status.idle": "2025-06-17T14:52:30.647164Z",
     "shell.execute_reply": "2025-06-17T14:52:30.646101Z"
    },
    "papermill": {
     "duration": 0.015234,
     "end_time": "2025-06-17T14:52:30.648763",
     "exception": false,
     "start_time": "2025-06-17T14:52:30.633529",
     "status": "completed"
    },
    "tags": []
   },
   "outputs": [],
   "source": [
    "# Kohn Laplacian as given in 2018 REU paper\n",
    "def box_b(f):\n",
    "    box_b = 0\n",
    "    # first term\n",
    "    for i in range(n): \n",
    "        box_b += -2*diff(diff(f,zbar[i]), zs[i])\n",
    "        \n",
    "    # second term\n",
    "    for i in range(n): \n",
    "        box_b += 2*diff(zs[i]*q*f, zs[i])\n",
    "        \n",
    "    # third term (double sum)\n",
    "    for i in range(n): \n",
    "        for a in range(n):\n",
    "            box_b += 2*diff(zs[a]*zbar[i]*diff(f,zbar[i]), zs[a])\n",
    "            \n",
    "    # fourth term (double sum)\n",
    "    for i in range(n): \n",
    "        for a in range(n):\n",
    "            box_b += -2*diff(zs[a]*zbar[i]*zs[i]*q*f, zs[a])\n",
    "    return box_b"
   ]
  },
  {
   "cell_type": "code",
   "execution_count": 16,
   "id": "c1d1c902",
   "metadata": {
    "execution": {
     "iopub.execute_input": "2025-06-17T14:52:30.661089Z",
     "iopub.status.busy": "2025-06-17T14:52:30.659963Z",
     "iopub.status.idle": "2025-06-17T14:52:30.664965Z",
     "shell.execute_reply": "2025-06-17T14:52:30.664047Z"
    },
    "papermill": {
     "duration": 0.01246,
     "end_time": "2025-06-17T14:52:30.666491",
     "exception": false,
     "start_time": "2025-06-17T14:52:30.654031",
     "status": "completed"
    },
    "tags": []
   },
   "outputs": [],
   "source": [
    "# Just in case :)\n",
    "def is_harmonic(f):\n",
    "    return (box_b(f)/f).simplify().is_polynomial(mag_complex)"
   ]
  },
  {
   "cell_type": "code",
   "execution_count": 17,
   "id": "1bbe0d38",
   "metadata": {
    "execution": {
     "iopub.execute_input": "2025-06-17T14:52:30.678251Z",
     "iopub.status.busy": "2025-06-17T14:52:30.677959Z",
     "iopub.status.idle": "2025-06-17T14:52:30.683493Z",
     "shell.execute_reply": "2025-06-17T14:52:30.682759Z"
    },
    "papermill": {
     "duration": 0.01316,
     "end_time": "2025-06-17T14:52:30.685045",
     "exception": false,
     "start_time": "2025-06-17T14:52:30.671885",
     "status": "completed"
    },
    "tags": []
   },
   "outputs": [],
   "source": [
    "# Returns the Ikeda generating function for a given lens space\n",
    "def F(k,ls):\n",
    "    F = 0\n",
    "    zeta = exp(2*pi*I/k)\n",
    "    for m in range(k):\n",
    "        frac = 1-z*w\n",
    "        for i in range(len(ls)):\n",
    "            frac /= (z-zeta**(-m*ls[i]))*(w-zeta**(m*ls[i]))\n",
    "        F += frac\n",
    "    F = (1/k)*F\n",
    "    return F"
   ]
  },
  {
   "cell_type": "code",
   "execution_count": 18,
   "id": "b8bdf837",
   "metadata": {
    "execution": {
     "iopub.execute_input": "2025-06-17T14:52:30.696867Z",
     "iopub.status.busy": "2025-06-17T14:52:30.696525Z",
     "iopub.status.idle": "2025-06-17T14:52:30.702737Z",
     "shell.execute_reply": "2025-06-17T14:52:30.701786Z"
    },
    "papermill": {
     "duration": 0.014025,
     "end_time": "2025-06-17T14:52:30.704339",
     "exception": false,
     "start_time": "2025-06-17T14:52:30.690314",
     "status": "completed"
    },
    "tags": []
   },
   "outputs": [],
   "source": [
    "# Coefficients from Taylor series expansion for a two-variable function- read more at\n",
    "# https://math.libretexts.org/Bookshelves/Calculus/Supplemental_Modules_(Calculus)/Multivariable_Calculus/3%3A_Topics_in_Partial_Derivatives/Taylor__Polynomials_of_Functions_of_Two_Variables\n",
    "def taylor_coeffs(f,deg):\n",
    "    table = []\n",
    "    for i in range(deg+1):\n",
    "        row = []\n",
    "        for j in range(deg+1-i):\n",
    "            d = diff(f,w,j)\n",
    "            d = diff(d,z,i)\n",
    "            d = lambdify([z,w],d)\n",
    "            term = re(d(0,0)/(factorial(i)*factorial(j))).round()\n",
    "            row.append(term)\n",
    "        while len(row) < deg+1:\n",
    "            row.append('-')\n",
    "        table.append(row)\n",
    "    return table"
   ]
  },
  {
   "cell_type": "code",
   "execution_count": 19,
   "id": "634a227f",
   "metadata": {
    "execution": {
     "iopub.execute_input": "2025-06-17T14:52:30.716394Z",
     "iopub.status.busy": "2025-06-17T14:52:30.715971Z",
     "iopub.status.idle": "2025-06-17T14:52:30.721180Z",
     "shell.execute_reply": "2025-06-17T14:52:30.720191Z"
    },
    "papermill": {
     "duration": 0.013005,
     "end_time": "2025-06-17T14:52:30.722779",
     "exception": false,
     "start_time": "2025-06-17T14:52:30.709774",
     "status": "completed"
    },
    "tags": []
   },
   "outputs": [],
   "source": [
    "# Gets a single degeneracy table (as a list of arrays) from the dataset\n",
    "def clean_col(df,col):\n",
    "    table = df[col].to_list()\n",
    "    while type(table[-1]) is float:\n",
    "        table = table[:-1]\n",
    "    return table"
   ]
  },
  {
   "cell_type": "code",
   "execution_count": 20,
   "id": "fa4eec6b",
   "metadata": {
    "execution": {
     "iopub.execute_input": "2025-06-17T14:52:30.734388Z",
     "iopub.status.busy": "2025-06-17T14:52:30.734016Z",
     "iopub.status.idle": "2025-06-17T14:52:30.739061Z",
     "shell.execute_reply": "2025-06-17T14:52:30.738177Z"
    },
    "papermill": {
     "duration": 0.012619,
     "end_time": "2025-06-17T14:52:30.740703",
     "exception": false,
     "start_time": "2025-06-17T14:52:30.728084",
     "status": "completed"
    },
    "tags": []
   },
   "outputs": [],
   "source": [
    "# Turns the order and l values into a string \n",
    "# To avoid duplicates, the eigenvalues of the generator are sorted in ascending order\n",
    "def make_lens_str(k,ls):\n",
    "    lens = \"L(\"+str(k)+\";\"\n",
    "    ls.sort()\n",
    "    for l in ls:\n",
    "        lens += str(l)+\",\"\n",
    "    lens = lens[:-1]\n",
    "    lens += \")\"\n",
    "    return lens"
   ]
  },
  {
   "cell_type": "code",
   "execution_count": 21,
   "id": "8f42cf7a",
   "metadata": {
    "execution": {
     "iopub.execute_input": "2025-06-17T14:52:30.752369Z",
     "iopub.status.busy": "2025-06-17T14:52:30.752034Z",
     "iopub.status.idle": "2025-06-17T14:52:30.756487Z",
     "shell.execute_reply": "2025-06-17T14:52:30.755651Z"
    },
    "papermill": {
     "duration": 0.011923,
     "end_time": "2025-06-17T14:52:30.757945",
     "exception": false,
     "start_time": "2025-06-17T14:52:30.746022",
     "status": "completed"
    },
    "tags": []
   },
   "outputs": [],
   "source": [
    "# File lookup\n",
    "def find_file(file):\n",
    "    for dirname, _, filenames in os.walk('/kaggle/input/degeneracy-tables'):\n",
    "        if file in filenames:\n",
    "            return True\n",
    "    return False"
   ]
  },
  {
   "cell_type": "code",
   "execution_count": 22,
   "id": "8b1e98c8",
   "metadata": {
    "execution": {
     "iopub.execute_input": "2025-06-17T14:52:30.769770Z",
     "iopub.status.busy": "2025-06-17T14:52:30.769401Z",
     "iopub.status.idle": "2025-06-17T14:52:30.775891Z",
     "shell.execute_reply": "2025-06-17T14:52:30.775059Z"
    },
    "papermill": {
     "duration": 0.014247,
     "end_time": "2025-06-17T14:52:30.777389",
     "exception": false,
     "start_time": "2025-06-17T14:52:30.763142",
     "status": "completed"
    },
    "tags": []
   },
   "outputs": [],
   "source": [
    "def degeneracy_table(k,ls,deg):\n",
    "    N = len(ls)\n",
    "    lens = make_lens_str(k,ls)\n",
    "    file = 'n=' + str(N) + '.csv'\n",
    "    path = \"/kaggle/working/\" + file\n",
    "    if find_file(file):\n",
    "        data = pd.read_csv(path)\n",
    "    else:\n",
    "        data = pd.DataFrame()\n",
    "    if lens not in data or deg > len(clean_col(data,lens)):\n",
    "        f = F(k,ls)\n",
    "        T = taylor_coeffs(f,deg)\n",
    "        new = pd.DataFrame({lens:T})\n",
    "        data.merge(new, left_index = True, right_index = True, how = 'outer')\n",
    "        data.to_csv(path, index = False)\n",
    "        update_data()\n",
    "    else:\n",
    "        T = clean_col(data,lens)\n",
    "    return pd.DataFrame(T)"
   ]
  },
  {
   "cell_type": "code",
   "execution_count": 23,
   "id": "3cfa08d2",
   "metadata": {
    "execution": {
     "iopub.execute_input": "2025-06-17T14:52:30.789322Z",
     "iopub.status.busy": "2025-06-17T14:52:30.789020Z",
     "iopub.status.idle": "2025-06-17T14:52:30.794672Z",
     "shell.execute_reply": "2025-06-17T14:52:30.793902Z"
    },
    "papermill": {
     "duration": 0.013457,
     "end_time": "2025-06-17T14:52:30.796075",
     "exception": false,
     "start_time": "2025-06-17T14:52:30.782618",
     "status": "completed"
    },
    "tags": []
   },
   "outputs": [],
   "source": [
    "# Update dataset\n",
    "def update_data():\n",
    "    # with open('/kaggle/working/dataset-metadata.json', 'w') as json_fid:\n",
    "    #     json_fid.write('{\\n  \"title\": \"Degeneracy Tables\",\\n  \"id\": \"tanvikiran27/degeneracy-tables\",\\n  \"licenses\": [{\"name\": \"CC0-1.0\"}]},\\n \"description\": \"Database edit\"')\n",
    "    !kaggle datasets init -p /kaggle/working\n",
    "    with open('/kaggle/working/dataset-metadata.json', 'w') as json_fid:\n",
    "        json_fid.write('{\\n  \"title\": \"Degeneracy Tables\",\\n  \"id\": \"tanvikiran27/degeneracy-tables\",\\n  \"licenses\": [{\"name\": \"CC0-1.0\"}]},\\n \"description\": \"Database edit\"')\n",
    "    !kaggle datasets version -m new\n",
    "    print(\"Dataset updated!\")"
   ]
  },
  {
   "cell_type": "code",
   "execution_count": 24,
   "id": "90091d7a",
   "metadata": {
    "execution": {
     "iopub.execute_input": "2025-06-17T14:52:30.807894Z",
     "iopub.status.busy": "2025-06-17T14:52:30.807551Z",
     "iopub.status.idle": "2025-06-17T14:52:30.811937Z",
     "shell.execute_reply": "2025-06-17T14:52:30.810767Z"
    },
    "papermill": {
     "duration": 0.012434,
     "end_time": "2025-06-17T14:52:30.813825",
     "exception": false,
     "start_time": "2025-06-17T14:52:30.801391",
     "status": "completed"
    },
    "tags": []
   },
   "outputs": [],
   "source": [
    "#degeneracy_table(2,[1,-1],5)"
   ]
  },
  {
   "cell_type": "code",
   "execution_count": 25,
   "id": "8326eb6b",
   "metadata": {
    "execution": {
     "iopub.execute_input": "2025-06-17T14:52:30.825600Z",
     "iopub.status.busy": "2025-06-17T14:52:30.825242Z",
     "iopub.status.idle": "2025-06-17T14:52:30.829675Z",
     "shell.execute_reply": "2025-06-17T14:52:30.828769Z"
    },
    "papermill": {
     "duration": 0.011839,
     "end_time": "2025-06-17T14:52:30.831160",
     "exception": false,
     "start_time": "2025-06-17T14:52:30.819321",
     "status": "completed"
    },
    "tags": []
   },
   "outputs": [],
   "source": [
    "pass\n",
    "# import pathlib\n",
    "# files_to_delete = './*.csv' # this considers only \".txt\" files. If you want to delete all files, use \"./*\"\n",
    "# files_list = pathlib.Path(os.getcwd()).glob(files_to_delete)\n",
    "# for file_path in files_list:\n",
    "#     os.remove(file_path)"
   ]
  },
  {
   "cell_type": "code",
   "execution_count": 26,
   "id": "45b82cf0",
   "metadata": {
    "execution": {
     "iopub.execute_input": "2025-06-17T14:52:30.843516Z",
     "iopub.status.busy": "2025-06-17T14:52:30.843230Z",
     "iopub.status.idle": "2025-06-17T14:52:31.962172Z",
     "shell.execute_reply": "2025-06-17T14:52:31.960875Z"
    },
    "papermill": {
     "duration": 1.127034,
     "end_time": "2025-06-17T14:52:31.963630",
     "exception": false,
     "start_time": "2025-06-17T14:52:30.836596",
     "status": "completed"
    },
    "tags": []
   },
   "outputs": [
    {
     "name": "stdout",
     "output_type": "stream",
     "text": [
      "Data package template written to: /kaggle/working/dataset-metadata.json\r\n",
      "Extra data: line 4 column 37 (char 112)\r\n",
      "Dataset updated!\n"
     ]
    }
   ],
   "source": [
    "update_data()"
   ]
  },
  {
   "cell_type": "code",
   "execution_count": null,
   "id": "bac466a6",
   "metadata": {
    "papermill": {
     "duration": 0.005037,
     "end_time": "2025-06-17T14:52:31.974259",
     "exception": false,
     "start_time": "2025-06-17T14:52:31.969222",
     "status": "completed"
    },
    "tags": []
   },
   "outputs": [],
   "source": []
  }
 ],
 "metadata": {
  "kaggle": {
   "accelerator": "none",
   "dataSources": [
    {
     "databundleVersionId": 12728819,
     "datasetId": 7663550,
     "sourceId": 12190384,
     "sourceType": "datasetVersion"
    }
   ],
   "dockerImageVersionId": 31040,
   "isGpuEnabled": false,
   "isInternetEnabled": true,
   "language": "python",
   "sourceType": "notebook"
  },
  "kernelspec": {
   "display_name": "Python 3",
   "language": "python",
   "name": "python3"
  },
  "language_info": {
   "codemirror_mode": {
    "name": "ipython",
    "version": 3
   },
   "file_extension": ".py",
   "mimetype": "text/x-python",
   "name": "python",
   "nbconvert_exporter": "python",
   "pygments_lexer": "ipython3",
   "version": "3.11.11"
  },
  "papermill": {
   "default_parameters": {},
   "duration": 14.700592,
   "end_time": "2025-06-17T14:52:32.699845",
   "environment_variables": {},
   "exception": null,
   "input_path": "__notebook__.ipynb",
   "output_path": "__notebook__.ipynb",
   "parameters": {},
   "start_time": "2025-06-17T14:52:17.999253",
   "version": "2.6.0"
  }
 },
 "nbformat": 4,
 "nbformat_minor": 5
}
