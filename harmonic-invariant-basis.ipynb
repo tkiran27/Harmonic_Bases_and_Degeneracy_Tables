{
 "cells": [
  {
   "cell_type": "code",
   "execution_count": 1,
   "id": "fa8181c3",
   "metadata": {
    "_cell_guid": "b1076dfc-b9ad-4769-8c92-a6c4dae69d19",
    "_uuid": "8f2839f25d086af736a60e9eeb907d3b93b6e0e5",
    "execution": {
     "iopub.execute_input": "2025-06-12T21:24:38.217612Z",
     "iopub.status.busy": "2025-06-12T21:24:38.217354Z",
     "iopub.status.idle": "2025-06-12T21:24:42.188980Z",
     "shell.execute_reply": "2025-06-12T21:24:42.187966Z"
    },
    "papermill": {
     "duration": 3.977808,
     "end_time": "2025-06-12T21:24:42.190478",
     "exception": false,
     "start_time": "2025-06-12T21:24:38.212670",
     "status": "completed"
    },
    "tags": []
   },
   "outputs": [],
   "source": [
    "# This Python 3 environment comes with many helpful analytics libraries installed\n",
    "# It is defined by the kaggle/python Docker image: https://github.com/kaggle/docker-python\n",
    "# For example, here's several helpful packages to load\n",
    "\n",
    "import numpy as np # linear algebra\n",
    "import itertools as it\n",
    "import sympy as sp \n",
    "import pandas as pd\n",
    "from sympy import symbols, Function, diff, conjugate, FiniteSet, simplify, Poly, series, re\n",
    "from sympy import *\n",
    "from sympy.utilities.iterables import partitions\n",
    "from sympy.functions.combinatorial.numbers import nC\n",
    "from sympy.combinatorics.named_groups import CyclicGroup\n",
    "from sympy.matrices import Matrix, eye, zeros, ones, diag, GramSchmidt"
   ]
  },
  {
   "cell_type": "markdown",
   "id": "9cc5ae7a",
   "metadata": {
    "papermill": {
     "duration": 0.003367,
     "end_time": "2025-06-12T21:24:42.197977",
     "exception": false,
     "start_time": "2025-06-12T21:24:42.194610",
     "status": "completed"
    },
    "tags": []
   },
   "source": [
    "$n$ = dimension ($\\mathbb{R}^n$ or $\\mathbb{C}^n$) \\\n",
    "$k$ = real degree \\\n",
    "$(p,q)$ = complex bidegree"
   ]
  },
  {
   "cell_type": "code",
   "execution_count": 2,
   "id": "a01b2f3b",
   "metadata": {
    "execution": {
     "iopub.execute_input": "2025-06-12T21:24:42.205476Z",
     "iopub.status.busy": "2025-06-12T21:24:42.205073Z",
     "iopub.status.idle": "2025-06-12T21:24:42.253288Z",
     "shell.execute_reply": "2025-06-12T21:24:42.252221Z"
    },
    "papermill": {
     "duration": 0.053694,
     "end_time": "2025-06-12T21:24:42.254795",
     "exception": false,
     "start_time": "2025-06-12T21:24:42.201101",
     "status": "completed"
    },
    "tags": []
   },
   "outputs": [],
   "source": [
    "####### Change constants here #######\n",
    "n = 4\n",
    "k = 3\n",
    "p = 2\n",
    "q = 1\n",
    "#####################################\n",
    "\n",
    "# Setting up symbols\n",
    "f = symbols('f', cls = Function)\n",
    "x,y,z,w,zeta = symbols('x y z w zeta')\n",
    "zs = symbols(f'z1:{n+1}', complex=True)\n",
    "zbar = symbols(f'zbar1:{n+1}', complex=True)\n",
    "ls = symbols(f'l1:{n+1}', int=True)\n",
    "\n",
    "# Newton potential (R^n) \n",
    "mag_real = 0\n",
    "for i in range(n):\n",
    "    mag_real += zs[i]**2 ## Euclidean norm squared\n",
    "np_real = sp.sqrt(mag_real)**(2-n)\n",
    "\n",
    "# Newton potential (C^n)\n",
    "mag_complex = 0\n",
    "for i in range(n):\n",
    "    mag_complex += zs[i]*zbar[i] ## Complex modulus squared\n",
    "np_complex = sp.sqrt(mag_complex)**(2-2*n)"
   ]
  },
  {
   "cell_type": "code",
   "execution_count": 3,
   "id": "1976b634",
   "metadata": {
    "execution": {
     "iopub.execute_input": "2025-06-12T21:24:42.262119Z",
     "iopub.status.busy": "2025-06-12T21:24:42.261844Z",
     "iopub.status.idle": "2025-06-12T21:24:42.282225Z",
     "shell.execute_reply": "2025-06-12T21:24:42.281556Z"
    },
    "papermill": {
     "duration": 0.025488,
     "end_time": "2025-06-12T21:24:42.283550",
     "exception": false,
     "start_time": "2025-06-12T21:24:42.258062",
     "status": "completed"
    },
    "tags": []
   },
   "outputs": [
    {
     "data": {
      "text/latex": [
       "$\\displaystyle \\left\\{\\left[\\begin{matrix}1 & 0\\\\0 & 1\\end{matrix}\\right], \\left[\\begin{matrix}e^{- \\frac{4 i \\pi}{5}} & 0\\\\0 & e^{\\frac{4 i \\pi}{5}}\\end{matrix}\\right], \\left[\\begin{matrix}e^{- \\frac{2 i \\pi}{5}} & 0\\\\0 & e^{\\frac{2 i \\pi}{5}}\\end{matrix}\\right], \\left[\\begin{matrix}e^{\\frac{2 i \\pi}{5}} & 0\\\\0 & e^{- \\frac{2 i \\pi}{5}}\\end{matrix}\\right], \\left[\\begin{matrix}e^{\\frac{4 i \\pi}{5}} & 0\\\\0 & e^{- \\frac{4 i \\pi}{5}}\\end{matrix}\\right]\\right\\}$"
      ],
      "text/plain": [
       "{Matrix([\n",
       "[1, 0],\n",
       "[0, 1]]), Matrix([\n",
       "[exp(-4*I*pi/5),             0],\n",
       "[             0, exp(4*I*pi/5)]]), Matrix([\n",
       "[exp(-2*I*pi/5),             0],\n",
       "[             0, exp(2*I*pi/5)]]), Matrix([\n",
       "[exp(2*I*pi/5),              0],\n",
       "[            0, exp(-2*I*pi/5)]]), Matrix([\n",
       "[exp(4*I*pi/5),              0],\n",
       "[            0, exp(-4*I*pi/5)]])}"
      ]
     },
     "execution_count": 3,
     "metadata": {},
     "output_type": "execute_result"
    }
   ],
   "source": [
    "# Cyclic group (roots of unity)\n",
    "m=5\n",
    "zeta = exp(2*pi*I/m)\n",
    "g = diag(zeta, zeta**(-1))\n",
    "G = FiniteSet()\n",
    "for i in range(m):\n",
    "    G += FiniteSet(g**i)\n",
    "G"
   ]
  },
  {
   "cell_type": "code",
   "execution_count": 4,
   "id": "a75a6b0f",
   "metadata": {
    "execution": {
     "iopub.execute_input": "2025-06-12T21:24:42.291434Z",
     "iopub.status.busy": "2025-06-12T21:24:42.291164Z",
     "iopub.status.idle": "2025-06-12T21:24:42.295405Z",
     "shell.execute_reply": "2025-06-12T21:24:42.294702Z"
    },
    "papermill": {
     "duration": 0.009496,
     "end_time": "2025-06-12T21:24:42.296709",
     "exception": false,
     "start_time": "2025-06-12T21:24:42.287213",
     "status": "completed"
    },
    "tags": []
   },
   "outputs": [],
   "source": [
    "# Multi index differentiation\n",
    "def D(f,alpha,zs):\n",
    "    df = f\n",
    "    for i in range(n):\n",
    "        df = diff(df,(zs[i],alpha[i]))\n",
    "    return df"
   ]
  },
  {
   "cell_type": "code",
   "execution_count": 5,
   "id": "c166676a",
   "metadata": {
    "execution": {
     "iopub.execute_input": "2025-06-12T21:24:42.303946Z",
     "iopub.status.busy": "2025-06-12T21:24:42.303672Z",
     "iopub.status.idle": "2025-06-12T21:24:42.308359Z",
     "shell.execute_reply": "2025-06-12T21:24:42.307703Z"
    },
    "papermill": {
     "duration": 0.009353,
     "end_time": "2025-06-12T21:24:42.309395",
     "exception": false,
     "start_time": "2025-06-12T21:24:42.300042",
     "status": "completed"
    },
    "tags": []
   },
   "outputs": [],
   "source": [
    "# Returns valid n-tuples\n",
    "# https://www.geeksforgeeks.org/python-program-to-convert-dictionary-to-list-by-repeating-keys-corresponding-value-times/\n",
    "\n",
    "def get_alpha_beta(deg):\n",
    "    alphas = FiniteSet()\n",
    "    for part in partitions(deg, m=n):\n",
    "        part = list(it.chain.from_iterable(it.repeat(k, v) for k, v in part.items()))\n",
    "        while len(part) < n:\n",
    "            part.append(0)\n",
    "        for perm in it.permutations(part):\n",
    "            alphas += FiniteSet(perm)\n",
    "    return alphas"
   ]
  },
  {
   "cell_type": "code",
   "execution_count": 6,
   "id": "0e0caa15",
   "metadata": {
    "execution": {
     "iopub.execute_input": "2025-06-12T21:24:42.316484Z",
     "iopub.status.busy": "2025-06-12T21:24:42.316258Z",
     "iopub.status.idle": "2025-06-12T21:24:42.320578Z",
     "shell.execute_reply": "2025-06-12T21:24:42.319860Z"
    },
    "papermill": {
     "duration": 0.00918,
     "end_time": "2025-06-12T21:24:42.321803",
     "exception": false,
     "start_time": "2025-06-12T21:24:42.312623",
     "status": "completed"
    },
    "tags": []
   },
   "outputs": [],
   "source": [
    "def make_polynomial(f, mag):\n",
    "    f = sp.numer(f).subs(mag, x)\n",
    "    while f.is_polynomial(zs,zbar,x) == False:\n",
    "        f = simplify(f * x)\n",
    "        f = sp.numer(f).subs(mag, x)\n",
    "    return expand(f.subs(x,abs(z)**2))"
   ]
  },
  {
   "cell_type": "code",
   "execution_count": 7,
   "id": "85a3cc94",
   "metadata": {
    "execution": {
     "iopub.execute_input": "2025-06-12T21:24:42.328823Z",
     "iopub.status.busy": "2025-06-12T21:24:42.328516Z",
     "iopub.status.idle": "2025-06-12T21:24:42.332154Z",
     "shell.execute_reply": "2025-06-12T21:24:42.331533Z"
    },
    "papermill": {
     "duration": 0.008289,
     "end_time": "2025-06-12T21:24:42.333257",
     "exception": false,
     "start_time": "2025-06-12T21:24:42.324968",
     "status": "completed"
    },
    "tags": []
   },
   "outputs": [],
   "source": [
    "# For H_k(R^n)\n",
    "def real_dim():\n",
    "    return nC(n+k-1,k) - nC(n+k-3,k-2)"
   ]
  },
  {
   "cell_type": "code",
   "execution_count": 8,
   "id": "d6179cb7",
   "metadata": {
    "execution": {
     "iopub.execute_input": "2025-06-12T21:24:42.340778Z",
     "iopub.status.busy": "2025-06-12T21:24:42.340569Z",
     "iopub.status.idle": "2025-06-12T21:24:42.344429Z",
     "shell.execute_reply": "2025-06-12T21:24:42.343726Z"
    },
    "papermill": {
     "duration": 0.009225,
     "end_time": "2025-06-12T21:24:42.345778",
     "exception": false,
     "start_time": "2025-06-12T21:24:42.336553",
     "status": "completed"
    },
    "tags": []
   },
   "outputs": [],
   "source": [
    "def dim_H_k():\n",
    "    return nC(2*n+k-1,k) - nC(2*n+k-3,k-2)"
   ]
  },
  {
   "cell_type": "code",
   "execution_count": 9,
   "id": "c93b0c50",
   "metadata": {
    "execution": {
     "iopub.execute_input": "2025-06-12T21:24:42.352805Z",
     "iopub.status.busy": "2025-06-12T21:24:42.352540Z",
     "iopub.status.idle": "2025-06-12T21:24:42.356320Z",
     "shell.execute_reply": "2025-06-12T21:24:42.355555Z"
    },
    "papermill": {
     "duration": 0.008529,
     "end_time": "2025-06-12T21:24:42.357418",
     "exception": false,
     "start_time": "2025-06-12T21:24:42.348889",
     "status": "completed"
    },
    "tags": []
   },
   "outputs": [],
   "source": [
    "def dim_H_pq():\n",
    "    return nC(n+p-1,p)*nC(n+q-1,q) - nC(n+p-2,p-1)*nC(n+q-2,q-1)"
   ]
  },
  {
   "cell_type": "code",
   "execution_count": 10,
   "id": "000efe74",
   "metadata": {
    "execution": {
     "iopub.execute_input": "2025-06-12T21:24:42.364239Z",
     "iopub.status.busy": "2025-06-12T21:24:42.363951Z",
     "iopub.status.idle": "2025-06-12T21:24:42.368750Z",
     "shell.execute_reply": "2025-06-12T21:24:42.367970Z"
    },
    "papermill": {
     "duration": 0.009831,
     "end_time": "2025-06-12T21:24:42.370206",
     "exception": false,
     "start_time": "2025-06-12T21:24:42.360375",
     "status": "completed"
    },
    "tags": []
   },
   "outputs": [],
   "source": [
    "# Finding basis for H_k(R^n) - see Axler's Harmonic Function Theory p. 92\n",
    "def real_basis():\n",
    "    basis = FiniteSet()\n",
    "    alphas = get_alpha_beta(k)\n",
    "    for a in alphas:\n",
    "        if a[0] > 1:\n",
    "            alphas -= FiniteSet(a)\n",
    "    print(f'# of elements = {len(alphas)}')\n",
    "    print(f'Dimension from combinatorial expression = {real_dim()} \\n')\n",
    "    for a in alphas:\n",
    "        d = D(np_real, a, zs)\n",
    "        d = make_polynomial(d, mag_real)\n",
    "        print(d, '\\n')\n",
    "        basis += FiniteSet(d)\n",
    "    return basis"
   ]
  },
  {
   "cell_type": "code",
   "execution_count": 11,
   "id": "9bf9d71c",
   "metadata": {
    "execution": {
     "iopub.execute_input": "2025-06-12T21:24:42.376971Z",
     "iopub.status.busy": "2025-06-12T21:24:42.376744Z",
     "iopub.status.idle": "2025-06-12T21:24:42.459536Z",
     "shell.execute_reply": "2025-06-12T21:24:42.458735Z"
    },
    "papermill": {
     "duration": 0.087303,
     "end_time": "2025-06-12T21:24:42.460610",
     "exception": false,
     "start_time": "2025-06-12T21:24:42.373307",
     "status": "completed"
    },
    "tags": []
   },
   "outputs": [],
   "source": [
    "# Finding basis for H_p,q(C^n)\n",
    "def basis_H_pq():\n",
    "    basis = FiniteSet()\n",
    "    alphas = get_alpha_beta(p)\n",
    "    betas = get_alpha_beta(q)\n",
    "    ab = FiniteSet()\n",
    "    for a in alphas:\n",
    "        for b in betas:\n",
    "            if a[0]==0 or b[0]==0:\n",
    "                ab += FiniteSet((a,b))\n",
    "    print(f'# of elements = {len(ab)}')\n",
    "    print(f'Dimension from combinatorial expression = {dim_H_pq()} \\n')\n",
    "    for (a,b) in ab:\n",
    "        d = D(np_complex,b,zs)\n",
    "        d = D(d,a,zbar)\n",
    "        d = make_polynomial(d, mag_complex)\n",
    "        print(d, '\\n')\n",
    "        basis += FiniteSet(d)\n",
    "    return basis"
   ]
  },
  {
   "cell_type": "code",
   "execution_count": 12,
   "id": "55abbfdc",
   "metadata": {
    "execution": {
     "iopub.execute_input": "2025-06-12T21:24:42.467299Z",
     "iopub.status.busy": "2025-06-12T21:24:42.467088Z",
     "iopub.status.idle": "2025-06-12T21:24:42.471444Z",
     "shell.execute_reply": "2025-06-12T21:24:42.470474Z"
    },
    "papermill": {
     "duration": 0.009346,
     "end_time": "2025-06-12T21:24:42.472955",
     "exception": false,
     "start_time": "2025-06-12T21:24:42.463609",
     "status": "completed"
    },
    "tags": []
   },
   "outputs": [],
   "source": [
    "def box(f):\n",
    "    laplacian = 0\n",
    "    for i in range(n):\n",
    "        laplacian += diff(diff(f,zbar[i]),zs[i])\n",
    "    return laplacian"
   ]
  },
  {
   "cell_type": "code",
   "execution_count": 13,
   "id": "450e9e57",
   "metadata": {
    "execution": {
     "iopub.execute_input": "2025-06-12T21:24:42.479806Z",
     "iopub.status.busy": "2025-06-12T21:24:42.479557Z",
     "iopub.status.idle": "2025-06-12T21:24:42.484672Z",
     "shell.execute_reply": "2025-06-12T21:24:42.484031Z"
    },
    "papermill": {
     "duration": 0.010441,
     "end_time": "2025-06-12T21:24:42.486523",
     "exception": false,
     "start_time": "2025-06-12T21:24:42.476082",
     "status": "completed"
    },
    "tags": []
   },
   "outputs": [],
   "source": [
    "# Closed form from 2018 REU paper\n",
    "def box_b(f):\n",
    "    box_b = 0\n",
    "    # first term\n",
    "    for i in range(n): \n",
    "        box_b += -2*diff(diff(f,zbar[i]), zs[i])\n",
    "        \n",
    "    # second term\n",
    "    for i in range(n): \n",
    "        box_b += 2*diff(zs[i]*q*f, zs[i])\n",
    "        \n",
    "    # third term (double sum)\n",
    "    for i in range(n): \n",
    "        for a in range(n):\n",
    "            box_b += 2*diff(zs[a]*zbar[i]*diff(f,zbar[i]), zs[a])\n",
    "            \n",
    "    # fourth term (double sum)\n",
    "    for i in range(n): \n",
    "        for a in range(n):\n",
    "            box_b += -2*diff(zs[a]*zbar[i]*zs[i]*q*f, zs[a])\n",
    "    return box_b"
   ]
  },
  {
   "cell_type": "code",
   "execution_count": 14,
   "id": "59e3df45",
   "metadata": {
    "execution": {
     "iopub.execute_input": "2025-06-12T21:24:42.494303Z",
     "iopub.status.busy": "2025-06-12T21:24:42.494048Z",
     "iopub.status.idle": "2025-06-12T21:24:42.498379Z",
     "shell.execute_reply": "2025-06-12T21:24:42.497463Z"
    },
    "papermill": {
     "duration": 0.010204,
     "end_time": "2025-06-12T21:24:42.499944",
     "exception": false,
     "start_time": "2025-06-12T21:24:42.489740",
     "status": "completed"
    },
    "tags": []
   },
   "outputs": [],
   "source": [
    "# Just in case :)\n",
    "def is_harmonic(f):\n",
    "    return (box_b(f)/f).simplify().is_polynomial(mag_complex)"
   ]
  },
  {
   "cell_type": "code",
   "execution_count": 15,
   "id": "21f3a1dd",
   "metadata": {
    "execution": {
     "iopub.execute_input": "2025-06-12T21:24:42.507296Z",
     "iopub.status.busy": "2025-06-12T21:24:42.507016Z",
     "iopub.status.idle": "2025-06-12T21:24:43.076048Z",
     "shell.execute_reply": "2025-06-12T21:24:43.075353Z"
    },
    "papermill": {
     "duration": 0.573966,
     "end_time": "2025-06-12T21:24:43.077234",
     "exception": false,
     "start_time": "2025-06-12T21:24:42.503268",
     "status": "completed"
    },
    "tags": []
   },
   "outputs": [
    {
     "name": "stdout",
     "output_type": "stream",
     "text": [
      "# of elements = 36\n",
      "Dimension from combinatorial expression = 36 \n",
      "\n",
      "-60*z4**2*zbar4 + 24*z4*Abs(z)**2 \n",
      "\n",
      "-60*z4**2*zbar3 \n",
      "\n",
      "-60*z4**2*zbar2 \n",
      "\n",
      "-60*z4**2*zbar1 \n",
      "\n",
      "-60*z3*z4*zbar4 + 12*z3*Abs(z)**2 \n",
      "\n",
      "-60*z3*z4*zbar3 + 12*z4*Abs(z)**2 \n",
      "\n",
      "-60*z3*z4*zbar2 \n",
      "\n",
      "-60*z3*z4*zbar1 \n",
      "\n",
      "-60*z3**2*zbar4 \n",
      "\n",
      "-60*z3**2*zbar3 + 24*z3*Abs(z)**2 \n",
      "\n",
      "-60*z3**2*zbar2 \n",
      "\n",
      "-60*z3**2*zbar1 \n",
      "\n",
      "-60*z2*z4*zbar4 + 12*z2*Abs(z)**2 \n",
      "\n",
      "-60*z2*z4*zbar3 \n",
      "\n",
      "-60*z2*z4*zbar2 + 12*z4*Abs(z)**2 \n",
      "\n",
      "-60*z2*z4*zbar1 \n",
      "\n",
      "-60*z2*z3*zbar4 \n",
      "\n",
      "-60*z2*z3*zbar3 + 12*z2*Abs(z)**2 \n",
      "\n",
      "-60*z2*z3*zbar2 + 12*z3*Abs(z)**2 \n",
      "\n",
      "-60*z2*z3*zbar1 \n",
      "\n",
      "-60*z2**2*zbar4 \n",
      "\n",
      "-60*z2**2*zbar3 \n",
      "\n",
      "-60*z2**2*zbar2 + 24*z2*Abs(z)**2 \n",
      "\n",
      "-60*z2**2*zbar1 \n",
      "\n",
      "-60*z1*z4*zbar4 + 12*z1*Abs(z)**2 \n",
      "\n",
      "-60*z1*z4*zbar3 \n",
      "\n",
      "-60*z1*z4*zbar2 \n",
      "\n",
      "-60*z1*z3*zbar4 \n",
      "\n",
      "-60*z1*z3*zbar3 + 12*z1*Abs(z)**2 \n",
      "\n",
      "-60*z1*z3*zbar2 \n",
      "\n",
      "-60*z1*z2*zbar4 \n",
      "\n",
      "-60*z1*z2*zbar3 \n",
      "\n",
      "-60*z1*z2*zbar2 + 12*z1*Abs(z)**2 \n",
      "\n",
      "-60*z1**2*zbar4 \n",
      "\n",
      "-60*z1**2*zbar3 \n",
      "\n",
      "-60*z1**2*zbar2 \n",
      "\n"
     ]
    },
    {
     "data": {
      "text/latex": [
       "$\\displaystyle \\left\\{- 60 z_{1}^{2} \\bar{z}_{2}, - 60 z_{1}^{2} \\bar{z}_{3}, - 60 z_{1}^{2} \\bar{z}_{4}, - 60 z_{2}^{2} \\bar{z}_{1}, - 60 z_{2}^{2} \\bar{z}_{3}, - 60 z_{2}^{2} \\bar{z}_{4}, - 60 z_{3}^{2} \\bar{z}_{1}, - 60 z_{3}^{2} \\bar{z}_{2}, - 60 z_{3}^{2} \\bar{z}_{4}, - 60 z_{4}^{2} \\bar{z}_{1}, - 60 z_{4}^{2} \\bar{z}_{2}, - 60 z_{4}^{2} \\bar{z}_{3}, - 60 z_{1} z_{2} \\bar{z}_{3}, - 60 z_{1} z_{2} \\bar{z}_{4}, - 60 z_{1} z_{3} \\bar{z}_{2}, - 60 z_{1} z_{3} \\bar{z}_{4}, - 60 z_{1} z_{4} \\bar{z}_{2}, - 60 z_{1} z_{4} \\bar{z}_{3}, - 60 z_{2} z_{3} \\bar{z}_{1}, - 60 z_{2} z_{3} \\bar{z}_{4}, - 60 z_{2} z_{4} \\bar{z}_{1}, - 60 z_{2} z_{4} \\bar{z}_{3}, - 60 z_{3} z_{4} \\bar{z}_{1}, - 60 z_{3} z_{4} \\bar{z}_{2}, - 60 z_{2}^{2} \\bar{z}_{2} + 24 z_{2} \\left|{z}\\right|^{2}, - 60 z_{3}^{2} \\bar{z}_{3} + 24 z_{3} \\left|{z}\\right|^{2}, - 60 z_{4}^{2} \\bar{z}_{4} + 24 z_{4} \\left|{z}\\right|^{2}, - 60 z_{1} z_{2} \\bar{z}_{2} + 12 z_{1} \\left|{z}\\right|^{2}, - 60 z_{1} z_{3} \\bar{z}_{3} + 12 z_{1} \\left|{z}\\right|^{2}, - 60 z_{1} z_{4} \\bar{z}_{4} + 12 z_{1} \\left|{z}\\right|^{2}, - 60 z_{2} z_{3} \\bar{z}_{2} + 12 z_{3} \\left|{z}\\right|^{2}, - 60 z_{2} z_{3} \\bar{z}_{3} + 12 z_{2} \\left|{z}\\right|^{2}, - 60 z_{2} z_{4} \\bar{z}_{2} + 12 z_{4} \\left|{z}\\right|^{2}, - 60 z_{2} z_{4} \\bar{z}_{4} + 12 z_{2} \\left|{z}\\right|^{2}, - 60 z_{3} z_{4} \\bar{z}_{3} + 12 z_{4} \\left|{z}\\right|^{2}, - 60 z_{3} z_{4} \\bar{z}_{4} + 12 z_{3} \\left|{z}\\right|^{2}\\right\\}$"
      ],
      "text/plain": [
       "{-60*z1**2*zbar2, -60*z1**2*zbar3, -60*z1**2*zbar4, -60*z2**2*zbar1, -60*z2**2*zbar3, -60*z2**2*zbar4, -60*z3**2*zbar1, -60*z3**2*zbar2, -60*z3**2*zbar4, -60*z4**2*zbar1, -60*z4**2*zbar2, -60*z4**2*zbar3, -60*z1*z2*zbar3, -60*z1*z2*zbar4, -60*z1*z3*zbar2, -60*z1*z3*zbar4, -60*z1*z4*zbar2, -60*z1*z4*zbar3, -60*z2*z3*zbar1, -60*z2*z3*zbar4, -60*z2*z4*zbar1, -60*z2*z4*zbar3, -60*z3*z4*zbar1, -60*z3*z4*zbar2, -60*z2**2*zbar2 + 24*z2*Abs(z)**2, -60*z3**2*zbar3 + 24*z3*Abs(z)**2, -60*z4**2*zbar4 + 24*z4*Abs(z)**2, -60*z1*z2*zbar2 + 12*z1*Abs(z)**2, -60*z1*z3*zbar3 + 12*z1*Abs(z)**2, -60*z1*z4*zbar4 + 12*z1*Abs(z)**2, -60*z2*z3*zbar2 + 12*z3*Abs(z)**2, -60*z2*z3*zbar3 + 12*z2*Abs(z)**2, -60*z2*z4*zbar2 + 12*z4*Abs(z)**2, -60*z2*z4*zbar4 + 12*z2*Abs(z)**2, -60*z3*z4*zbar3 + 12*z4*Abs(z)**2, -60*z3*z4*zbar4 + 12*z3*Abs(z)**2}"
      ]
     },
     "execution_count": 15,
     "metadata": {},
     "output_type": "execute_result"
    }
   ],
   "source": [
    "B = basis_H_pq()\n",
    "B"
   ]
  },
  {
   "cell_type": "code",
   "execution_count": 16,
   "id": "d8c300b7",
   "metadata": {
    "execution": {
     "iopub.execute_input": "2025-06-12T21:24:43.084510Z",
     "iopub.status.busy": "2025-06-12T21:24:43.084252Z",
     "iopub.status.idle": "2025-06-12T21:24:43.088565Z",
     "shell.execute_reply": "2025-06-12T21:24:43.087974Z"
    },
    "papermill": {
     "duration": 0.008993,
     "end_time": "2025-06-12T21:24:43.089559",
     "exception": false,
     "start_time": "2025-06-12T21:24:43.080566",
     "status": "completed"
    },
    "tags": []
   },
   "outputs": [],
   "source": [
    "def F(k,ls):\n",
    "    F = 0\n",
    "    zeta = exp(2*pi*I/k)\n",
    "    for m in range(k):\n",
    "        frac = 1-z*w\n",
    "        for i in range(len(ls)):\n",
    "            frac /= (z-zeta**(-m*ls[i]))*(w-zeta**(m*ls[i]))\n",
    "        F += frac\n",
    "    F = (1/k)*F\n",
    "    return F"
   ]
  },
  {
   "cell_type": "code",
   "execution_count": 17,
   "id": "289ca5a7",
   "metadata": {
    "execution": {
     "iopub.execute_input": "2025-06-12T21:24:43.097617Z",
     "iopub.status.busy": "2025-06-12T21:24:43.097347Z",
     "iopub.status.idle": "2025-06-12T21:24:43.102795Z",
     "shell.execute_reply": "2025-06-12T21:24:43.101750Z"
    },
    "papermill": {
     "duration": 0.010934,
     "end_time": "2025-06-12T21:24:43.104317",
     "exception": false,
     "start_time": "2025-06-12T21:24:43.093383",
     "status": "completed"
    },
    "tags": []
   },
   "outputs": [],
   "source": [
    "def taylor_polynomial(f,deg):\n",
    "    table = []\n",
    "    for i in range(deg+1):\n",
    "        row = []\n",
    "        for j in range(deg+1-i):\n",
    "            d = diff(f,w,j)\n",
    "            d = diff(d,z,i)\n",
    "            d = lambdify([z,w],d)\n",
    "            term = re(d(0,0)/(factorial(i)*factorial(j))).round()\n",
    "            row.append(term)\n",
    "        table.append(row)\n",
    "    return table"
   ]
  },
  {
   "cell_type": "code",
   "execution_count": 18,
   "id": "3653b3f6",
   "metadata": {
    "execution": {
     "iopub.execute_input": "2025-06-12T21:24:43.111783Z",
     "iopub.status.busy": "2025-06-12T21:24:43.111528Z",
     "iopub.status.idle": "2025-06-12T21:24:43.136793Z",
     "shell.execute_reply": "2025-06-12T21:24:43.136059Z"
    },
    "papermill": {
     "duration": 0.030073,
     "end_time": "2025-06-12T21:24:43.137871",
     "exception": false,
     "start_time": "2025-06-12T21:24:43.107798",
     "status": "completed"
    },
    "tags": []
   },
   "outputs": [
    {
     "data": {
      "text/latex": [
       "$\\displaystyle \\frac{0.4 \\left(- w z + 1\\right)}{\\left(w - e^{- \\frac{2 i \\pi}{5}}\\right) \\left(w - e^{\\frac{2 i \\pi}{5}}\\right) \\left(z - e^{- \\frac{2 i \\pi}{5}}\\right) \\left(z - e^{\\frac{2 i \\pi}{5}}\\right)} + \\frac{0.4 \\left(- w z + 1\\right)}{\\left(w - e^{- \\frac{4 i \\pi}{5}}\\right) \\left(w - e^{\\frac{4 i \\pi}{5}}\\right) \\left(z - e^{- \\frac{4 i \\pi}{5}}\\right) \\left(z - e^{\\frac{4 i \\pi}{5}}\\right)} + \\frac{0.2 \\left(- w z + 1\\right)}{\\left(w - 1\\right)^{2} \\left(z - 1\\right)^{2}}$"
      ],
      "text/plain": [
       "0.4*(-w*z + 1)/((w - exp(-2*I*pi/5))*(w - exp(2*I*pi/5))*(z - exp(-2*I*pi/5))*(z - exp(2*I*pi/5))) + 0.4*(-w*z + 1)/((w - exp(-4*I*pi/5))*(w - exp(4*I*pi/5))*(z - exp(-4*I*pi/5))*(z - exp(4*I*pi/5))) + 0.2*(-w*z + 1)/((w - 1)**2*(z - 1)**2)"
      ]
     },
     "execution_count": 18,
     "metadata": {},
     "output_type": "execute_result"
    }
   ],
   "source": [
    "f = F(5,[1,-1])\n",
    "f"
   ]
  },
  {
   "cell_type": "code",
   "execution_count": 19,
   "id": "0a9fbd62",
   "metadata": {
    "execution": {
     "iopub.execute_input": "2025-06-12T21:24:43.145301Z",
     "iopub.status.busy": "2025-06-12T21:24:43.145101Z",
     "iopub.status.idle": "2025-06-12T21:24:44.779887Z",
     "shell.execute_reply": "2025-06-12T21:24:44.779189Z"
    },
    "papermill": {
     "duration": 1.639704,
     "end_time": "2025-06-12T21:24:44.781041",
     "exception": false,
     "start_time": "2025-06-12T21:24:43.141337",
     "status": "completed"
    },
    "tags": []
   },
   "outputs": [
    {
     "data": {
      "text/html": [
       "<div>\n",
       "<style scoped>\n",
       "    .dataframe tbody tr th:only-of-type {\n",
       "        vertical-align: middle;\n",
       "    }\n",
       "\n",
       "    .dataframe tbody tr th {\n",
       "        vertical-align: top;\n",
       "    }\n",
       "\n",
       "    .dataframe thead th {\n",
       "        text-align: right;\n",
       "    }\n",
       "</style>\n",
       "<table border=\"1\" class=\"dataframe\">\n",
       "  <thead>\n",
       "    <tr style=\"text-align: right;\">\n",
       "      <th></th>\n",
       "      <th>0</th>\n",
       "      <th>1</th>\n",
       "      <th>2</th>\n",
       "      <th>3</th>\n",
       "    </tr>\n",
       "  </thead>\n",
       "  <tbody>\n",
       "    <tr>\n",
       "      <th>0</th>\n",
       "      <td>1</td>\n",
       "      <td>0</td>\n",
       "      <td>1</td>\n",
       "      <td>0</td>\n",
       "    </tr>\n",
       "    <tr>\n",
       "      <th>1</th>\n",
       "      <td>0</td>\n",
       "      <td>1</td>\n",
       "      <td>0</td>\n",
       "      <td>None</td>\n",
       "    </tr>\n",
       "    <tr>\n",
       "      <th>2</th>\n",
       "      <td>1</td>\n",
       "      <td>0</td>\n",
       "      <td>None</td>\n",
       "      <td>None</td>\n",
       "    </tr>\n",
       "    <tr>\n",
       "      <th>3</th>\n",
       "      <td>0</td>\n",
       "      <td>None</td>\n",
       "      <td>None</td>\n",
       "      <td>None</td>\n",
       "    </tr>\n",
       "  </tbody>\n",
       "</table>\n",
       "</div>"
      ],
      "text/plain": [
       "   0     1     2     3\n",
       "0  1     0     1     0\n",
       "1  0     1     0  None\n",
       "2  1     0  None  None\n",
       "3  0  None  None  None"
      ]
     },
     "execution_count": 19,
     "metadata": {},
     "output_type": "execute_result"
    }
   ],
   "source": [
    "T=taylor_polynomial(f,3)\n",
    "pd.DataFrame(T)"
   ]
  },
  {
   "cell_type": "code",
   "execution_count": null,
   "id": "1eca62b4",
   "metadata": {
    "papermill": {
     "duration": 0.002954,
     "end_time": "2025-06-12T21:24:44.787420",
     "exception": false,
     "start_time": "2025-06-12T21:24:44.784466",
     "status": "completed"
    },
    "tags": []
   },
   "outputs": [],
   "source": []
  }
 ],
 "metadata": {
  "kaggle": {
   "accelerator": "none",
   "dataSources": [],
   "dockerImageVersionId": 31040,
   "isGpuEnabled": false,
   "isInternetEnabled": false,
   "language": "python",
   "sourceType": "notebook"
  },
  "kernelspec": {
   "display_name": "Python 3",
   "language": "python",
   "name": "python3"
  },
  "language_info": {
   "codemirror_mode": {
    "name": "ipython",
    "version": 3
   },
   "file_extension": ".py",
   "mimetype": "text/x-python",
   "name": "python",
   "nbconvert_exporter": "python",
   "pygments_lexer": "ipython3",
   "version": "3.11.11"
  },
  "papermill": {
   "default_parameters": {},
   "duration": 11.074469,
   "end_time": "2025-06-12T21:24:45.508905",
   "environment_variables": {},
   "exception": null,
   "input_path": "__notebook__.ipynb",
   "output_path": "__notebook__.ipynb",
   "parameters": {},
   "start_time": "2025-06-12T21:24:34.434436",
   "version": "2.6.0"
  }
 },
 "nbformat": 4,
 "nbformat_minor": 5
}
