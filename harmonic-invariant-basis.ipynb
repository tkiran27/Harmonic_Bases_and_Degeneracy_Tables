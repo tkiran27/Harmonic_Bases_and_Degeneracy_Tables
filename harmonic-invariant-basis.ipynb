{
 "cells": [
  {
   "cell_type": "code",
   "execution_count": 1,
   "id": "77105502",
   "metadata": {
    "_cell_guid": "b1076dfc-b9ad-4769-8c92-a6c4dae69d19",
    "_uuid": "8f2839f25d086af736a60e9eeb907d3b93b6e0e5",
    "execution": {
     "iopub.execute_input": "2025-06-10T15:18:52.216001Z",
     "iopub.status.busy": "2025-06-10T15:18:52.215594Z",
     "iopub.status.idle": "2025-06-10T15:18:55.858794Z",
     "shell.execute_reply": "2025-06-10T15:18:55.857527Z"
    },
    "papermill": {
     "duration": 3.651083,
     "end_time": "2025-06-10T15:18:55.860880",
     "exception": false,
     "start_time": "2025-06-10T15:18:52.209797",
     "status": "completed"
    },
    "tags": []
   },
   "outputs": [],
   "source": [
    "# This Python 3 environment comes with many helpful analytics libraries installed\n",
    "# It is defined by the kaggle/python Docker image: https://github.com/kaggle/docker-python\n",
    "# For example, here's several helpful packages to load\n",
    "\n",
    "import numpy as np # linear algebra\n",
    "import itertools as it\n",
    "import sympy as sp \n",
    "from sympy import symbols, Function, diff, conjugate, FiniteSet, simplify, Poly\n",
    "from sympy import *\n",
    "from sympy.utilities.iterables import partitions\n",
    "from sympy.functions.combinatorial.numbers import nC"
   ]
  },
  {
   "cell_type": "markdown",
   "id": "e035b5ac",
   "metadata": {
    "papermill": {
     "duration": 0.003414,
     "end_time": "2025-06-10T15:18:55.868499",
     "exception": false,
     "start_time": "2025-06-10T15:18:55.865085",
     "status": "completed"
    },
    "tags": []
   },
   "source": [
    "$n$ = dimension ($\\mathbb{R}^n$ or $\\mathbb{C}^n$) \\\n",
    "$k$ = real degree \\\n",
    "$(p,q)$ = complex bidegree"
   ]
  },
  {
   "cell_type": "code",
   "execution_count": 2,
   "id": "1642f22d",
   "metadata": {
    "execution": {
     "iopub.execute_input": "2025-06-10T15:18:55.880080Z",
     "iopub.status.busy": "2025-06-10T15:18:55.879694Z",
     "iopub.status.idle": "2025-06-10T15:18:56.085270Z",
     "shell.execute_reply": "2025-06-10T15:18:56.084420Z"
    },
    "papermill": {
     "duration": 0.212521,
     "end_time": "2025-06-10T15:18:56.087015",
     "exception": false,
     "start_time": "2025-06-10T15:18:55.874494",
     "status": "completed"
    },
    "tags": []
   },
   "outputs": [],
   "source": [
    "n = 3\n",
    "k = 2\n",
    "p = 2\n",
    "q = 1\n",
    "f = symbols('f', cls = Function)\n",
    "x,y,z = symbols('x y z')\n",
    "zs = symbols(f'z1:{n+1}', complex=True)\n",
    "zbar = symbols(f'zbar1:{n+1}', complex=True)\n",
    "\n",
    "# Newton potential (R^n)\n",
    "mag_real = 0\n",
    "for i in range(n):\n",
    "    mag_real += zs[i]**2 ## Euclidean norm squared\n",
    "np_real = sp.sqrt(mag_real)**(2-n)\n",
    "\n",
    "# Newton potential (C^n)\n",
    "mag_complex = 0\n",
    "for i in range(n):\n",
    "    mag_complex += zs[i]*zbar[i] ## Complex modulus squared\n",
    "np_complex = sp.sqrt(mag_complex)**(2-2*n)"
   ]
  },
  {
   "cell_type": "code",
   "execution_count": 3,
   "id": "826c0c49",
   "metadata": {
    "execution": {
     "iopub.execute_input": "2025-06-10T15:18:56.095739Z",
     "iopub.status.busy": "2025-06-10T15:18:56.095366Z",
     "iopub.status.idle": "2025-06-10T15:18:56.102612Z",
     "shell.execute_reply": "2025-06-10T15:18:56.101720Z"
    },
    "papermill": {
     "duration": 0.013349,
     "end_time": "2025-06-10T15:18:56.104029",
     "exception": false,
     "start_time": "2025-06-10T15:18:56.090680",
     "status": "completed"
    },
    "tags": []
   },
   "outputs": [
    {
     "data": {
      "text/plain": [
       "(z1, z2, z3)"
      ]
     },
     "execution_count": 3,
     "metadata": {},
     "output_type": "execute_result"
    }
   ],
   "source": [
    "zs"
   ]
  },
  {
   "cell_type": "code",
   "execution_count": 4,
   "id": "0c29b372",
   "metadata": {
    "execution": {
     "iopub.execute_input": "2025-06-10T15:18:56.113446Z",
     "iopub.status.busy": "2025-06-10T15:18:56.113050Z",
     "iopub.status.idle": "2025-06-10T15:18:56.119715Z",
     "shell.execute_reply": "2025-06-10T15:18:56.118612Z"
    },
    "papermill": {
     "duration": 0.01342,
     "end_time": "2025-06-10T15:18:56.121491",
     "exception": false,
     "start_time": "2025-06-10T15:18:56.108071",
     "status": "completed"
    },
    "tags": []
   },
   "outputs": [
    {
     "data": {
      "text/plain": [
       "(zbar1, zbar2, zbar3)"
      ]
     },
     "execution_count": 4,
     "metadata": {},
     "output_type": "execute_result"
    }
   ],
   "source": [
    "zbar"
   ]
  },
  {
   "cell_type": "code",
   "execution_count": 5,
   "id": "bce956cf",
   "metadata": {
    "execution": {
     "iopub.execute_input": "2025-06-10T15:18:56.132801Z",
     "iopub.status.busy": "2025-06-10T15:18:56.132303Z",
     "iopub.status.idle": "2025-06-10T15:18:56.142652Z",
     "shell.execute_reply": "2025-06-10T15:18:56.141125Z"
    },
    "papermill": {
     "duration": 0.019091,
     "end_time": "2025-06-10T15:18:56.145097",
     "exception": false,
     "start_time": "2025-06-10T15:18:56.126006",
     "status": "completed"
    },
    "tags": []
   },
   "outputs": [
    {
     "data": {
      "text/latex": [
       "$\\displaystyle \\frac{1}{\\sqrt{z_{1}^{2} + z_{2}^{2} + z_{3}^{2}}}$"
      ],
      "text/plain": [
       "1/sqrt(z1**2 + z2**2 + z3**2)"
      ]
     },
     "execution_count": 5,
     "metadata": {},
     "output_type": "execute_result"
    }
   ],
   "source": [
    "np_real"
   ]
  },
  {
   "cell_type": "code",
   "execution_count": 6,
   "id": "4850002c",
   "metadata": {
    "execution": {
     "iopub.execute_input": "2025-06-10T15:18:56.159753Z",
     "iopub.status.busy": "2025-06-10T15:18:56.159388Z",
     "iopub.status.idle": "2025-06-10T15:18:56.169772Z",
     "shell.execute_reply": "2025-06-10T15:18:56.168335Z"
    },
    "papermill": {
     "duration": 0.021215,
     "end_time": "2025-06-10T15:18:56.171987",
     "exception": false,
     "start_time": "2025-06-10T15:18:56.150772",
     "status": "completed"
    },
    "tags": []
   },
   "outputs": [
    {
     "data": {
      "text/latex": [
       "$\\displaystyle \\frac{1}{\\left(z_{1} \\bar{z}_{1} + z_{2} \\bar{z}_{2} + z_{3} \\bar{z}_{3}\\right)^{2}}$"
      ],
      "text/plain": [
       "(z1*zbar1 + z2*zbar2 + z3*zbar3)**(-2)"
      ]
     },
     "execution_count": 6,
     "metadata": {},
     "output_type": "execute_result"
    }
   ],
   "source": [
    "np_complex"
   ]
  },
  {
   "cell_type": "code",
   "execution_count": 7,
   "id": "5ed0b93d",
   "metadata": {
    "execution": {
     "iopub.execute_input": "2025-06-10T15:18:56.184549Z",
     "iopub.status.busy": "2025-06-10T15:18:56.184184Z",
     "iopub.status.idle": "2025-06-10T15:18:56.189898Z",
     "shell.execute_reply": "2025-06-10T15:18:56.188669Z"
    },
    "papermill": {
     "duration": 0.013879,
     "end_time": "2025-06-10T15:18:56.192234",
     "exception": false,
     "start_time": "2025-06-10T15:18:56.178355",
     "status": "completed"
    },
    "tags": []
   },
   "outputs": [],
   "source": [
    "# Multi index differentiation\n",
    "def D(f,alpha,zs):\n",
    "    df = f\n",
    "    for i in range(n):\n",
    "        df = diff(df,(zs[i],alpha[i]))\n",
    "    return df"
   ]
  },
  {
   "cell_type": "code",
   "execution_count": 8,
   "id": "5f5f1457",
   "metadata": {
    "execution": {
     "iopub.execute_input": "2025-06-10T15:18:56.202628Z",
     "iopub.status.busy": "2025-06-10T15:18:56.202259Z",
     "iopub.status.idle": "2025-06-10T15:18:56.207279Z",
     "shell.execute_reply": "2025-06-10T15:18:56.206423Z"
    },
    "papermill": {
     "duration": 0.012152,
     "end_time": "2025-06-10T15:18:56.209331",
     "exception": false,
     "start_time": "2025-06-10T15:18:56.197179",
     "status": "completed"
    },
    "tags": []
   },
   "outputs": [],
   "source": [
    "# def D_bar(f,alpha):\n",
    "#     df = f\n",
    "#     for i in range(n):\n",
    "#         df = diff(df,(bar(z[i]),alpha[i]))\n",
    "#     return df"
   ]
  },
  {
   "cell_type": "code",
   "execution_count": 9,
   "id": "8145006b",
   "metadata": {
    "execution": {
     "iopub.execute_input": "2025-06-10T15:18:56.221516Z",
     "iopub.status.busy": "2025-06-10T15:18:56.220886Z",
     "iopub.status.idle": "2025-06-10T15:18:56.227720Z",
     "shell.execute_reply": "2025-06-10T15:18:56.226570Z"
    },
    "papermill": {
     "duration": 0.015244,
     "end_time": "2025-06-10T15:18:56.229543",
     "exception": false,
     "start_time": "2025-06-10T15:18:56.214299",
     "status": "completed"
    },
    "tags": []
   },
   "outputs": [],
   "source": [
    "# Returns valid n-tuples\n",
    "# https://www.geeksforgeeks.org/python-program-to-convert-dictionary-to-list-by-repeating-keys-corresponding-value-times/\n",
    "\n",
    "def get_alpha_beta(deg):\n",
    "    alphas = FiniteSet()\n",
    "    for part in partitions(deg, m=n):\n",
    "        part = list(it.chain.from_iterable(it.repeat(k, v) for k, v in part.items()))\n",
    "        while len(part) < n:\n",
    "            part.append(0)\n",
    "        for perm in it.permutations(part):\n",
    "            alphas += FiniteSet(perm)\n",
    "    return alphas"
   ]
  },
  {
   "cell_type": "code",
   "execution_count": 10,
   "id": "5a8fb5cc",
   "metadata": {
    "execution": {
     "iopub.execute_input": "2025-06-10T15:18:56.239715Z",
     "iopub.status.busy": "2025-06-10T15:18:56.239402Z",
     "iopub.status.idle": "2025-06-10T15:18:56.244674Z",
     "shell.execute_reply": "2025-06-10T15:18:56.243855Z"
    },
    "papermill": {
     "duration": 0.011679,
     "end_time": "2025-06-10T15:18:56.246131",
     "exception": false,
     "start_time": "2025-06-10T15:18:56.234452",
     "status": "completed"
    },
    "tags": []
   },
   "outputs": [],
   "source": [
    "def make_polynomial(f, mag):\n",
    "    f = sp.numer(f).subs(mag, x)\n",
    "    while f.is_polynomial(zs,zbar,x) == False:\n",
    "        f = simplify(f * x)\n",
    "        f = sp.numer(f).subs(mag, x)\n",
    "    return factor(f.subs(x,abs(z)**2))"
   ]
  },
  {
   "cell_type": "code",
   "execution_count": 11,
   "id": "e4b5ace8",
   "metadata": {
    "execution": {
     "iopub.execute_input": "2025-06-10T15:18:56.257381Z",
     "iopub.status.busy": "2025-06-10T15:18:56.257054Z",
     "iopub.status.idle": "2025-06-10T15:18:56.261599Z",
     "shell.execute_reply": "2025-06-10T15:18:56.260687Z"
    },
    "papermill": {
     "duration": 0.011957,
     "end_time": "2025-06-10T15:18:56.263067",
     "exception": false,
     "start_time": "2025-06-10T15:18:56.251110",
     "status": "completed"
    },
    "tags": []
   },
   "outputs": [],
   "source": [
    "def real_dim():\n",
    "    return nC(n+k-1,k) - nC(n+k-3,k-2)"
   ]
  },
  {
   "cell_type": "code",
   "execution_count": 12,
   "id": "2929af0f",
   "metadata": {
    "execution": {
     "iopub.execute_input": "2025-06-10T15:18:56.272870Z",
     "iopub.status.busy": "2025-06-10T15:18:56.272007Z",
     "iopub.status.idle": "2025-06-10T15:18:56.278425Z",
     "shell.execute_reply": "2025-06-10T15:18:56.277415Z"
    },
    "papermill": {
     "duration": 0.013057,
     "end_time": "2025-06-10T15:18:56.280120",
     "exception": false,
     "start_time": "2025-06-10T15:18:56.267063",
     "status": "completed"
    },
    "tags": []
   },
   "outputs": [],
   "source": [
    "def complex_dim():\n",
    "    return nC(n+p-1,p)*nC(n+q-1,q) - nC(n+p-2,p-1)*nC(n+q-2,q-1)"
   ]
  },
  {
   "cell_type": "code",
   "execution_count": 13,
   "id": "305c3916",
   "metadata": {
    "execution": {
     "iopub.execute_input": "2025-06-10T15:18:56.292091Z",
     "iopub.status.busy": "2025-06-10T15:18:56.291784Z",
     "iopub.status.idle": "2025-06-10T15:18:56.298312Z",
     "shell.execute_reply": "2025-06-10T15:18:56.296858Z"
    },
    "papermill": {
     "duration": 0.013715,
     "end_time": "2025-06-10T15:18:56.300301",
     "exception": false,
     "start_time": "2025-06-10T15:18:56.286586",
     "status": "completed"
    },
    "tags": []
   },
   "outputs": [],
   "source": [
    "# Finding basis for H_k\n",
    "def real_basis():\n",
    "    basis = FiniteSet()\n",
    "    alphas = get_alpha_beta(k)\n",
    "    for a in alphas:\n",
    "        if a[0] > 1:\n",
    "            alphas -= FiniteSet(a)\n",
    "    print(f'# of elements = {len(alphas)}')\n",
    "    print(f'Dimension from combinatorial expression = {real_dim()}')\n",
    "    for a in alphas:\n",
    "        d = D(np_real, a, zs)\n",
    "        d = make_polynomial(d, mag_real)\n",
    "        print(d, '\\n')\n",
    "        basis += FiniteSet(d)\n",
    "    return basis"
   ]
  },
  {
   "cell_type": "code",
   "execution_count": 14,
   "id": "ba01bca9",
   "metadata": {
    "execution": {
     "iopub.execute_input": "2025-06-10T15:18:56.310084Z",
     "iopub.status.busy": "2025-06-10T15:18:56.309664Z",
     "iopub.status.idle": "2025-06-10T15:18:56.315799Z",
     "shell.execute_reply": "2025-06-10T15:18:56.314783Z"
    },
    "papermill": {
     "duration": 0.01311,
     "end_time": "2025-06-10T15:18:56.317437",
     "exception": false,
     "start_time": "2025-06-10T15:18:56.304327",
     "status": "completed"
    },
    "tags": []
   },
   "outputs": [],
   "source": [
    "# Finding basis for H_p,q\n",
    "def complex_basis():\n",
    "    basis = FiniteSet()\n",
    "    alphas = get_alpha_beta(p)\n",
    "    betas = get_alpha_beta(q)\n",
    "    ab = FiniteSet()\n",
    "    for a in alphas:\n",
    "        for b in betas:\n",
    "            if a[0]==0 or b[0]==0:\n",
    "                ab += FiniteSet((a,b))\n",
    "    print(f'# of elements = {len(ab)}')\n",
    "    print(f'Dimension from combinatorial expression = {complex_dim()}')"
   ]
  },
  {
   "cell_type": "code",
   "execution_count": 15,
   "id": "72d2ddfd",
   "metadata": {
    "execution": {
     "iopub.execute_input": "2025-06-10T15:18:56.327043Z",
     "iopub.status.busy": "2025-06-10T15:18:56.326745Z",
     "iopub.status.idle": "2025-06-10T15:18:56.634289Z",
     "shell.execute_reply": "2025-06-10T15:18:56.633239Z"
    },
    "papermill": {
     "duration": 0.314458,
     "end_time": "2025-06-10T15:18:56.636365",
     "exception": false,
     "start_time": "2025-06-10T15:18:56.321907",
     "status": "completed"
    },
    "tags": []
   },
   "outputs": [
    {
     "name": "stdout",
     "output_type": "stream",
     "text": [
      "# of elements = 5\n",
      "Dimension from combinatorial expression = 5\n",
      "3*z3**2 - Abs(z)**2 \n",
      "\n",
      "3*z2*z3 \n",
      "\n",
      "3*z2**2 - Abs(z)**2 \n",
      "\n",
      "3*z1*z3 \n",
      "\n",
      "3*z1*z2 \n",
      "\n"
     ]
    },
    {
     "data": {
      "text/latex": [
       "$\\displaystyle \\left\\{3 z_{1} z_{2}, 3 z_{1} z_{3}, 3 z_{2} z_{3}, 3 z_{2}^{2} - \\left|{z}\\right|^{2}, 3 z_{3}^{2} - \\left|{z}\\right|^{2}\\right\\}$"
      ],
      "text/plain": [
       "{3*z1*z2, 3*z1*z3, 3*z2*z3, 3*z2**2 - Abs(z)**2, 3*z3**2 - Abs(z)**2}"
      ]
     },
     "execution_count": 15,
     "metadata": {},
     "output_type": "execute_result"
    }
   ],
   "source": [
    "basis = real_basis()\n",
    "basis"
   ]
  },
  {
   "cell_type": "code",
   "execution_count": 16,
   "id": "66c4e3cf",
   "metadata": {
    "execution": {
     "iopub.execute_input": "2025-06-10T15:18:56.647007Z",
     "iopub.status.busy": "2025-06-10T15:18:56.645942Z",
     "iopub.status.idle": "2025-06-10T15:18:56.666662Z",
     "shell.execute_reply": "2025-06-10T15:18:56.665638Z"
    },
    "papermill": {
     "duration": 0.027396,
     "end_time": "2025-06-10T15:18:56.668044",
     "exception": false,
     "start_time": "2025-06-10T15:18:56.640648",
     "status": "completed"
    },
    "tags": []
   },
   "outputs": [
    {
     "name": "stdout",
     "output_type": "stream",
     "text": [
      "# of elements = 15\n",
      "Dimension from combinatorial expression = 15\n"
     ]
    }
   ],
   "source": [
    "complex_basis()"
   ]
  },
  {
   "cell_type": "code",
   "execution_count": null,
   "id": "8d83377a",
   "metadata": {
    "papermill": {
     "duration": 0.003861,
     "end_time": "2025-06-10T15:18:56.676777",
     "exception": false,
     "start_time": "2025-06-10T15:18:56.672916",
     "status": "completed"
    },
    "tags": []
   },
   "outputs": [],
   "source": []
  }
 ],
 "metadata": {
  "kaggle": {
   "accelerator": "none",
   "dataSources": [],
   "dockerImageVersionId": 31040,
   "isGpuEnabled": false,
   "isInternetEnabled": false,
   "language": "python",
   "sourceType": "notebook"
  },
  "kernelspec": {
   "display_name": "Python 3",
   "language": "python",
   "name": "python3"
  },
  "language_info": {
   "codemirror_mode": {
    "name": "ipython",
    "version": 3
   },
   "file_extension": ".py",
   "mimetype": "text/x-python",
   "name": "python",
   "nbconvert_exporter": "python",
   "pygments_lexer": "ipython3",
   "version": "3.11.11"
  },
  "papermill": {
   "default_parameters": {},
   "duration": 11.834903,
   "end_time": "2025-06-10T15:18:57.406042",
   "environment_variables": {},
   "exception": null,
   "input_path": "__notebook__.ipynb",
   "output_path": "__notebook__.ipynb",
   "parameters": {},
   "start_time": "2025-06-10T15:18:45.571139",
   "version": "2.6.0"
  }
 },
 "nbformat": 4,
 "nbformat_minor": 5
}
